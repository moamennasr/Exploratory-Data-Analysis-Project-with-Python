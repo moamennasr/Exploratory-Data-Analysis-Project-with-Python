{
 "cells": [
  {
   "cell_type": "code",
   "execution_count": 33,
   "id": "1c3802c3",
   "metadata": {},
   "outputs": [],
   "source": [
    "import pandas as pd\n",
    "import numpy as np\n",
    "import seaborn as sns\n",
    "import folium\n",
    "from folium.plugins import HeatMap "
   ]
  },
  {
   "cell_type": "code",
   "execution_count": 19,
   "id": "03090d2f",
   "metadata": {},
   "outputs": [],
   "source": [
    "# Are there more accidents in colder or wormer place?\n",
    "# which states have the highest umber of accidents, how about per capita?\n",
    "# Does NewYork shows within the Data , and if yes, why is the count of accidents lower compared to its population?\n",
    "# among the top 100 cities in the number of accidents , which state do they belon to most frequently?\n",
    "# what time of the day are accident most frequent in?\n",
    "# Wich Days of the week are most accidents?\n",
    "# which month have the most accidents?\n",
    "# what is the trend of accidnets year over year (increaing / decreasing)?\n",
    "# what is accident per unit of trffic the highest"
   ]
  },
  {
   "cell_type": "code",
   "execution_count": 6,
   "id": "9eeda65d",
   "metadata": {},
   "outputs": [],
   "source": [
    "# let's open our data\n",
    "\n",
    "df = pd.read_csv(\"US_Accidents.csv\") "
   ]
  },
  {
   "cell_type": "code",
   "execution_count": 32,
   "id": "827df04d",
   "metadata": {},
   "outputs": [
    {
     "data": {
      "text/html": [
       "<div>\n",
       "<style scoped>\n",
       "    .dataframe tbody tr th:only-of-type {\n",
       "        vertical-align: middle;\n",
       "    }\n",
       "\n",
       "    .dataframe tbody tr th {\n",
       "        vertical-align: top;\n",
       "    }\n",
       "\n",
       "    .dataframe thead th {\n",
       "        text-align: right;\n",
       "    }\n",
       "</style>\n",
       "<table border=\"1\" class=\"dataframe\">\n",
       "  <thead>\n",
       "    <tr style=\"text-align: right;\">\n",
       "      <th></th>\n",
       "      <th>ID</th>\n",
       "      <th>Severity</th>\n",
       "      <th>Start_Time</th>\n",
       "      <th>End_Time</th>\n",
       "      <th>Start_Lat</th>\n",
       "      <th>Start_Lng</th>\n",
       "      <th>End_Lat</th>\n",
       "      <th>End_Lng</th>\n",
       "      <th>Distance(mi)</th>\n",
       "      <th>Description</th>\n",
       "      <th>...</th>\n",
       "      <th>Roundabout</th>\n",
       "      <th>Station</th>\n",
       "      <th>Stop</th>\n",
       "      <th>Traffic_Calming</th>\n",
       "      <th>Traffic_Signal</th>\n",
       "      <th>Turning_Loop</th>\n",
       "      <th>Sunrise_Sunset</th>\n",
       "      <th>Civil_Twilight</th>\n",
       "      <th>Nautical_Twilight</th>\n",
       "      <th>Astronomical_Twilight</th>\n",
       "    </tr>\n",
       "  </thead>\n",
       "  <tbody>\n",
       "    <tr>\n",
       "      <th>0</th>\n",
       "      <td>A-1</td>\n",
       "      <td>3</td>\n",
       "      <td>2016-02-08 00:37:08</td>\n",
       "      <td>2016-02-08 06:37:08</td>\n",
       "      <td>40.10891</td>\n",
       "      <td>-83.09286</td>\n",
       "      <td>40.11206</td>\n",
       "      <td>-83.03187</td>\n",
       "      <td>3.230</td>\n",
       "      <td>Between Sawmill Rd/Exit 20 and OH-315/Olentang...</td>\n",
       "      <td>...</td>\n",
       "      <td>False</td>\n",
       "      <td>False</td>\n",
       "      <td>False</td>\n",
       "      <td>False</td>\n",
       "      <td>False</td>\n",
       "      <td>False</td>\n",
       "      <td>Night</td>\n",
       "      <td>Night</td>\n",
       "      <td>Night</td>\n",
       "      <td>Night</td>\n",
       "    </tr>\n",
       "    <tr>\n",
       "      <th>1</th>\n",
       "      <td>A-2</td>\n",
       "      <td>2</td>\n",
       "      <td>2016-02-08 05:56:20</td>\n",
       "      <td>2016-02-08 11:56:20</td>\n",
       "      <td>39.86542</td>\n",
       "      <td>-84.06280</td>\n",
       "      <td>39.86501</td>\n",
       "      <td>-84.04873</td>\n",
       "      <td>0.747</td>\n",
       "      <td>At OH-4/OH-235/Exit 41 - Accident.</td>\n",
       "      <td>...</td>\n",
       "      <td>False</td>\n",
       "      <td>False</td>\n",
       "      <td>False</td>\n",
       "      <td>False</td>\n",
       "      <td>False</td>\n",
       "      <td>False</td>\n",
       "      <td>Night</td>\n",
       "      <td>Night</td>\n",
       "      <td>Night</td>\n",
       "      <td>Night</td>\n",
       "    </tr>\n",
       "  </tbody>\n",
       "</table>\n",
       "<p>2 rows × 47 columns</p>\n",
       "</div>"
      ],
      "text/plain": [
       "    ID  Severity           Start_Time             End_Time  Start_Lat  \\\n",
       "0  A-1         3  2016-02-08 00:37:08  2016-02-08 06:37:08   40.10891   \n",
       "1  A-2         2  2016-02-08 05:56:20  2016-02-08 11:56:20   39.86542   \n",
       "\n",
       "   Start_Lng   End_Lat   End_Lng  Distance(mi)  \\\n",
       "0  -83.09286  40.11206 -83.03187         3.230   \n",
       "1  -84.06280  39.86501 -84.04873         0.747   \n",
       "\n",
       "                                         Description  ...  Roundabout Station  \\\n",
       "0  Between Sawmill Rd/Exit 20 and OH-315/Olentang...  ...       False   False   \n",
       "1                 At OH-4/OH-235/Exit 41 - Accident.  ...       False   False   \n",
       "\n",
       "    Stop Traffic_Calming Traffic_Signal Turning_Loop Sunrise_Sunset  \\\n",
       "0  False           False          False        False          Night   \n",
       "1  False           False          False        False          Night   \n",
       "\n",
       "  Civil_Twilight Nautical_Twilight Astronomical_Twilight  \n",
       "0          Night             Night                 Night  \n",
       "1          Night             Night                 Night  \n",
       "\n",
       "[2 rows x 47 columns]"
      ]
     },
     "execution_count": 32,
     "metadata": {},
     "output_type": "execute_result"
    }
   ],
   "source": [
    "df.head(2)"
   ]
  },
  {
   "cell_type": "code",
   "execution_count": 20,
   "id": "0868e803",
   "metadata": {},
   "outputs": [
    {
     "name": "stdout",
     "output_type": "stream",
     "text": [
      "<class 'pandas.core.frame.DataFrame'>\n",
      "RangeIndex: 2845342 entries, 0 to 2845341\n",
      "Data columns (total 47 columns):\n",
      " #   Column                 Dtype  \n",
      "---  ------                 -----  \n",
      " 0   ID                     object \n",
      " 1   Severity               int64  \n",
      " 2   Start_Time             object \n",
      " 3   End_Time               object \n",
      " 4   Start_Lat              float64\n",
      " 5   Start_Lng              float64\n",
      " 6   End_Lat                float64\n",
      " 7   End_Lng                float64\n",
      " 8   Distance(mi)           float64\n",
      " 9   Description            object \n",
      " 10  Number                 float64\n",
      " 11  Street                 object \n",
      " 12  Side                   object \n",
      " 13  City                   object \n",
      " 14  County                 object \n",
      " 15  State                  object \n",
      " 16  Zipcode                object \n",
      " 17  Country                object \n",
      " 18  Timezone               object \n",
      " 19  Airport_Code           object \n",
      " 20  Weather_Timestamp      object \n",
      " 21  Temperature(F)         float64\n",
      " 22  Wind_Chill(F)          float64\n",
      " 23  Humidity(%)            float64\n",
      " 24  Pressure(in)           float64\n",
      " 25  Visibility(mi)         float64\n",
      " 26  Wind_Direction         object \n",
      " 27  Wind_Speed(mph)        float64\n",
      " 28  Precipitation(in)      float64\n",
      " 29  Weather_Condition      object \n",
      " 30  Amenity                bool   \n",
      " 31  Bump                   bool   \n",
      " 32  Crossing               bool   \n",
      " 33  Give_Way               bool   \n",
      " 34  Junction               bool   \n",
      " 35  No_Exit                bool   \n",
      " 36  Railway                bool   \n",
      " 37  Roundabout             bool   \n",
      " 38  Station                bool   \n",
      " 39  Stop                   bool   \n",
      " 40  Traffic_Calming        bool   \n",
      " 41  Traffic_Signal         bool   \n",
      " 42  Turning_Loop           bool   \n",
      " 43  Sunrise_Sunset         object \n",
      " 44  Civil_Twilight         object \n",
      " 45  Nautical_Twilight      object \n",
      " 46  Astronomical_Twilight  object \n",
      "dtypes: bool(13), float64(13), int64(1), object(20)\n",
      "memory usage: 773.4+ MB\n"
     ]
    }
   ],
   "source": [
    "df.info()"
   ]
  },
  {
   "cell_type": "code",
   "execution_count": 6,
   "id": "87d48c95",
   "metadata": {},
   "outputs": [
    {
     "data": {
      "text/plain": [
       "ID                        object\n",
       "Severity                   int64\n",
       "Start_Time                object\n",
       "End_Time                  object\n",
       "Start_Lat                float64\n",
       "Start_Lng                float64\n",
       "End_Lat                  float64\n",
       "End_Lng                  float64\n",
       "Distance(mi)             float64\n",
       "Description               object\n",
       "Number                   float64\n",
       "Street                    object\n",
       "Side                      object\n",
       "City                      object\n",
       "County                    object\n",
       "State                     object\n",
       "Zipcode                   object\n",
       "Country                   object\n",
       "Timezone                  object\n",
       "Airport_Code              object\n",
       "Weather_Timestamp         object\n",
       "Temperature(F)           float64\n",
       "Wind_Chill(F)            float64\n",
       "Humidity(%)              float64\n",
       "Pressure(in)             float64\n",
       "Visibility(mi)           float64\n",
       "Wind_Direction            object\n",
       "Wind_Speed(mph)          float64\n",
       "Precipitation(in)        float64\n",
       "Weather_Condition         object\n",
       "Amenity                     bool\n",
       "Bump                        bool\n",
       "Crossing                    bool\n",
       "Give_Way                    bool\n",
       "Junction                    bool\n",
       "No_Exit                     bool\n",
       "Railway                     bool\n",
       "Roundabout                  bool\n",
       "Station                     bool\n",
       "Stop                        bool\n",
       "Traffic_Calming             bool\n",
       "Traffic_Signal              bool\n",
       "Turning_Loop                bool\n",
       "Sunrise_Sunset            object\n",
       "Civil_Twilight            object\n",
       "Nautical_Twilight         object\n",
       "Astronomical_Twilight     object\n",
       "dtype: object"
      ]
     },
     "execution_count": 6,
     "metadata": {},
     "output_type": "execute_result"
    }
   ],
   "source": [
    "df.dtypes"
   ]
  },
  {
   "cell_type": "code",
   "execution_count": 7,
   "id": "c0fb0711",
   "metadata": {},
   "outputs": [
    {
     "data": {
      "text/html": [
       "<div>\n",
       "<style scoped>\n",
       "    .dataframe tbody tr th:only-of-type {\n",
       "        vertical-align: middle;\n",
       "    }\n",
       "\n",
       "    .dataframe tbody tr th {\n",
       "        vertical-align: top;\n",
       "    }\n",
       "\n",
       "    .dataframe thead th {\n",
       "        text-align: right;\n",
       "    }\n",
       "</style>\n",
       "<table border=\"1\" class=\"dataframe\">\n",
       "  <thead>\n",
       "    <tr style=\"text-align: right;\">\n",
       "      <th></th>\n",
       "      <th>Severity</th>\n",
       "      <th>Start_Lat</th>\n",
       "      <th>Start_Lng</th>\n",
       "      <th>End_Lat</th>\n",
       "      <th>End_Lng</th>\n",
       "      <th>Distance(mi)</th>\n",
       "      <th>Number</th>\n",
       "      <th>Temperature(F)</th>\n",
       "      <th>Wind_Chill(F)</th>\n",
       "      <th>Humidity(%)</th>\n",
       "      <th>Pressure(in)</th>\n",
       "      <th>Visibility(mi)</th>\n",
       "      <th>Wind_Speed(mph)</th>\n",
       "      <th>Precipitation(in)</th>\n",
       "    </tr>\n",
       "  </thead>\n",
       "  <tbody>\n",
       "    <tr>\n",
       "      <th>count</th>\n",
       "      <td>2.845342e+06</td>\n",
       "      <td>2.845342e+06</td>\n",
       "      <td>2.845342e+06</td>\n",
       "      <td>2.845342e+06</td>\n",
       "      <td>2.845342e+06</td>\n",
       "      <td>2.845342e+06</td>\n",
       "      <td>1.101431e+06</td>\n",
       "      <td>2.776068e+06</td>\n",
       "      <td>2.375699e+06</td>\n",
       "      <td>2.772250e+06</td>\n",
       "      <td>2.786142e+06</td>\n",
       "      <td>2.774796e+06</td>\n",
       "      <td>2.687398e+06</td>\n",
       "      <td>2.295884e+06</td>\n",
       "    </tr>\n",
       "    <tr>\n",
       "      <th>mean</th>\n",
       "      <td>2.137572e+00</td>\n",
       "      <td>3.624520e+01</td>\n",
       "      <td>-9.711463e+01</td>\n",
       "      <td>3.624532e+01</td>\n",
       "      <td>-9.711439e+01</td>\n",
       "      <td>7.026779e-01</td>\n",
       "      <td>8.089408e+03</td>\n",
       "      <td>6.179356e+01</td>\n",
       "      <td>5.965823e+01</td>\n",
       "      <td>6.436545e+01</td>\n",
       "      <td>2.947234e+01</td>\n",
       "      <td>9.099391e+00</td>\n",
       "      <td>7.395044e+00</td>\n",
       "      <td>7.016940e-03</td>\n",
       "    </tr>\n",
       "    <tr>\n",
       "      <th>std</th>\n",
       "      <td>4.787216e-01</td>\n",
       "      <td>5.363797e+00</td>\n",
       "      <td>1.831782e+01</td>\n",
       "      <td>5.363873e+00</td>\n",
       "      <td>1.831763e+01</td>\n",
       "      <td>1.560361e+00</td>\n",
       "      <td>1.836009e+04</td>\n",
       "      <td>1.862263e+01</td>\n",
       "      <td>2.116097e+01</td>\n",
       "      <td>2.287457e+01</td>\n",
       "      <td>1.045286e+00</td>\n",
       "      <td>2.717546e+00</td>\n",
       "      <td>5.527454e+00</td>\n",
       "      <td>9.348831e-02</td>\n",
       "    </tr>\n",
       "    <tr>\n",
       "      <th>min</th>\n",
       "      <td>1.000000e+00</td>\n",
       "      <td>2.456603e+01</td>\n",
       "      <td>-1.245481e+02</td>\n",
       "      <td>2.456601e+01</td>\n",
       "      <td>-1.245457e+02</td>\n",
       "      <td>0.000000e+00</td>\n",
       "      <td>0.000000e+00</td>\n",
       "      <td>-8.900000e+01</td>\n",
       "      <td>-8.900000e+01</td>\n",
       "      <td>1.000000e+00</td>\n",
       "      <td>0.000000e+00</td>\n",
       "      <td>0.000000e+00</td>\n",
       "      <td>0.000000e+00</td>\n",
       "      <td>0.000000e+00</td>\n",
       "    </tr>\n",
       "    <tr>\n",
       "      <th>25%</th>\n",
       "      <td>2.000000e+00</td>\n",
       "      <td>3.344517e+01</td>\n",
       "      <td>-1.180331e+02</td>\n",
       "      <td>3.344628e+01</td>\n",
       "      <td>-1.180333e+02</td>\n",
       "      <td>5.200000e-02</td>\n",
       "      <td>1.270000e+03</td>\n",
       "      <td>5.000000e+01</td>\n",
       "      <td>4.600000e+01</td>\n",
       "      <td>4.800000e+01</td>\n",
       "      <td>2.931000e+01</td>\n",
       "      <td>1.000000e+01</td>\n",
       "      <td>3.500000e+00</td>\n",
       "      <td>0.000000e+00</td>\n",
       "    </tr>\n",
       "    <tr>\n",
       "      <th>50%</th>\n",
       "      <td>2.000000e+00</td>\n",
       "      <td>3.609861e+01</td>\n",
       "      <td>-9.241808e+01</td>\n",
       "      <td>3.609799e+01</td>\n",
       "      <td>-9.241772e+01</td>\n",
       "      <td>2.440000e-01</td>\n",
       "      <td>4.007000e+03</td>\n",
       "      <td>6.400000e+01</td>\n",
       "      <td>6.300000e+01</td>\n",
       "      <td>6.700000e+01</td>\n",
       "      <td>2.982000e+01</td>\n",
       "      <td>1.000000e+01</td>\n",
       "      <td>7.000000e+00</td>\n",
       "      <td>0.000000e+00</td>\n",
       "    </tr>\n",
       "    <tr>\n",
       "      <th>75%</th>\n",
       "      <td>2.000000e+00</td>\n",
       "      <td>4.016024e+01</td>\n",
       "      <td>-8.037243e+01</td>\n",
       "      <td>4.016105e+01</td>\n",
       "      <td>-8.037338e+01</td>\n",
       "      <td>7.640000e-01</td>\n",
       "      <td>9.567000e+03</td>\n",
       "      <td>7.600000e+01</td>\n",
       "      <td>7.600000e+01</td>\n",
       "      <td>8.300000e+01</td>\n",
       "      <td>3.001000e+01</td>\n",
       "      <td>1.000000e+01</td>\n",
       "      <td>1.000000e+01</td>\n",
       "      <td>0.000000e+00</td>\n",
       "    </tr>\n",
       "    <tr>\n",
       "      <th>max</th>\n",
       "      <td>4.000000e+00</td>\n",
       "      <td>4.900058e+01</td>\n",
       "      <td>-6.711317e+01</td>\n",
       "      <td>4.907500e+01</td>\n",
       "      <td>-6.710924e+01</td>\n",
       "      <td>1.551860e+02</td>\n",
       "      <td>9.999997e+06</td>\n",
       "      <td>1.960000e+02</td>\n",
       "      <td>1.960000e+02</td>\n",
       "      <td>1.000000e+02</td>\n",
       "      <td>5.890000e+01</td>\n",
       "      <td>1.400000e+02</td>\n",
       "      <td>1.087000e+03</td>\n",
       "      <td>2.400000e+01</td>\n",
       "    </tr>\n",
       "  </tbody>\n",
       "</table>\n",
       "</div>"
      ],
      "text/plain": [
       "           Severity     Start_Lat     Start_Lng       End_Lat       End_Lng  \\\n",
       "count  2.845342e+06  2.845342e+06  2.845342e+06  2.845342e+06  2.845342e+06   \n",
       "mean   2.137572e+00  3.624520e+01 -9.711463e+01  3.624532e+01 -9.711439e+01   \n",
       "std    4.787216e-01  5.363797e+00  1.831782e+01  5.363873e+00  1.831763e+01   \n",
       "min    1.000000e+00  2.456603e+01 -1.245481e+02  2.456601e+01 -1.245457e+02   \n",
       "25%    2.000000e+00  3.344517e+01 -1.180331e+02  3.344628e+01 -1.180333e+02   \n",
       "50%    2.000000e+00  3.609861e+01 -9.241808e+01  3.609799e+01 -9.241772e+01   \n",
       "75%    2.000000e+00  4.016024e+01 -8.037243e+01  4.016105e+01 -8.037338e+01   \n",
       "max    4.000000e+00  4.900058e+01 -6.711317e+01  4.907500e+01 -6.710924e+01   \n",
       "\n",
       "       Distance(mi)        Number  Temperature(F)  Wind_Chill(F)  \\\n",
       "count  2.845342e+06  1.101431e+06    2.776068e+06   2.375699e+06   \n",
       "mean   7.026779e-01  8.089408e+03    6.179356e+01   5.965823e+01   \n",
       "std    1.560361e+00  1.836009e+04    1.862263e+01   2.116097e+01   \n",
       "min    0.000000e+00  0.000000e+00   -8.900000e+01  -8.900000e+01   \n",
       "25%    5.200000e-02  1.270000e+03    5.000000e+01   4.600000e+01   \n",
       "50%    2.440000e-01  4.007000e+03    6.400000e+01   6.300000e+01   \n",
       "75%    7.640000e-01  9.567000e+03    7.600000e+01   7.600000e+01   \n",
       "max    1.551860e+02  9.999997e+06    1.960000e+02   1.960000e+02   \n",
       "\n",
       "        Humidity(%)  Pressure(in)  Visibility(mi)  Wind_Speed(mph)  \\\n",
       "count  2.772250e+06  2.786142e+06    2.774796e+06     2.687398e+06   \n",
       "mean   6.436545e+01  2.947234e+01    9.099391e+00     7.395044e+00   \n",
       "std    2.287457e+01  1.045286e+00    2.717546e+00     5.527454e+00   \n",
       "min    1.000000e+00  0.000000e+00    0.000000e+00     0.000000e+00   \n",
       "25%    4.800000e+01  2.931000e+01    1.000000e+01     3.500000e+00   \n",
       "50%    6.700000e+01  2.982000e+01    1.000000e+01     7.000000e+00   \n",
       "75%    8.300000e+01  3.001000e+01    1.000000e+01     1.000000e+01   \n",
       "max    1.000000e+02  5.890000e+01    1.400000e+02     1.087000e+03   \n",
       "\n",
       "       Precipitation(in)  \n",
       "count       2.295884e+06  \n",
       "mean        7.016940e-03  \n",
       "std         9.348831e-02  \n",
       "min         0.000000e+00  \n",
       "25%         0.000000e+00  \n",
       "50%         0.000000e+00  \n",
       "75%         0.000000e+00  \n",
       "max         2.400000e+01  "
      ]
     },
     "execution_count": 7,
     "metadata": {},
     "output_type": "execute_result"
    }
   ],
   "source": [
    "df.describe()"
   ]
  },
  {
   "cell_type": "code",
   "execution_count": 11,
   "id": "847c00bd",
   "metadata": {},
   "outputs": [
    {
     "data": {
      "text/plain": [
       "14"
      ]
     },
     "execution_count": 11,
     "metadata": {},
     "output_type": "execute_result"
    }
   ],
   "source": [
    "# pandas count number of numerical columns\n",
    "\n",
    "numerics = ['int16', 'int32', 'int64', 'float16', 'float32', 'float64']\n",
    "\n",
    "newdf = df.select_dtypes(include=numerics)\n",
    "len(newdf.columns)"
   ]
  },
  {
   "cell_type": "code",
   "execution_count": 12,
   "id": "994359c8",
   "metadata": {},
   "outputs": [
    {
     "data": {
      "text/html": [
       "<div>\n",
       "<style scoped>\n",
       "    .dataframe tbody tr th:only-of-type {\n",
       "        vertical-align: middle;\n",
       "    }\n",
       "\n",
       "    .dataframe tbody tr th {\n",
       "        vertical-align: top;\n",
       "    }\n",
       "\n",
       "    .dataframe thead th {\n",
       "        text-align: right;\n",
       "    }\n",
       "</style>\n",
       "<table border=\"1\" class=\"dataframe\">\n",
       "  <thead>\n",
       "    <tr style=\"text-align: right;\">\n",
       "      <th></th>\n",
       "      <th>ID</th>\n",
       "      <th>Severity</th>\n",
       "      <th>Start_Time</th>\n",
       "      <th>End_Time</th>\n",
       "      <th>Start_Lat</th>\n",
       "      <th>Start_Lng</th>\n",
       "      <th>End_Lat</th>\n",
       "      <th>End_Lng</th>\n",
       "      <th>Distance(mi)</th>\n",
       "      <th>Description</th>\n",
       "      <th>...</th>\n",
       "      <th>Roundabout</th>\n",
       "      <th>Station</th>\n",
       "      <th>Stop</th>\n",
       "      <th>Traffic_Calming</th>\n",
       "      <th>Traffic_Signal</th>\n",
       "      <th>Turning_Loop</th>\n",
       "      <th>Sunrise_Sunset</th>\n",
       "      <th>Civil_Twilight</th>\n",
       "      <th>Nautical_Twilight</th>\n",
       "      <th>Astronomical_Twilight</th>\n",
       "    </tr>\n",
       "  </thead>\n",
       "  <tbody>\n",
       "    <tr>\n",
       "      <th>0</th>\n",
       "      <td>False</td>\n",
       "      <td>False</td>\n",
       "      <td>False</td>\n",
       "      <td>False</td>\n",
       "      <td>False</td>\n",
       "      <td>False</td>\n",
       "      <td>False</td>\n",
       "      <td>False</td>\n",
       "      <td>False</td>\n",
       "      <td>False</td>\n",
       "      <td>...</td>\n",
       "      <td>False</td>\n",
       "      <td>False</td>\n",
       "      <td>False</td>\n",
       "      <td>False</td>\n",
       "      <td>False</td>\n",
       "      <td>False</td>\n",
       "      <td>False</td>\n",
       "      <td>False</td>\n",
       "      <td>False</td>\n",
       "      <td>False</td>\n",
       "    </tr>\n",
       "    <tr>\n",
       "      <th>1</th>\n",
       "      <td>False</td>\n",
       "      <td>False</td>\n",
       "      <td>False</td>\n",
       "      <td>False</td>\n",
       "      <td>False</td>\n",
       "      <td>False</td>\n",
       "      <td>False</td>\n",
       "      <td>False</td>\n",
       "      <td>False</td>\n",
       "      <td>False</td>\n",
       "      <td>...</td>\n",
       "      <td>False</td>\n",
       "      <td>False</td>\n",
       "      <td>False</td>\n",
       "      <td>False</td>\n",
       "      <td>False</td>\n",
       "      <td>False</td>\n",
       "      <td>False</td>\n",
       "      <td>False</td>\n",
       "      <td>False</td>\n",
       "      <td>False</td>\n",
       "    </tr>\n",
       "    <tr>\n",
       "      <th>2</th>\n",
       "      <td>False</td>\n",
       "      <td>False</td>\n",
       "      <td>False</td>\n",
       "      <td>False</td>\n",
       "      <td>False</td>\n",
       "      <td>False</td>\n",
       "      <td>False</td>\n",
       "      <td>False</td>\n",
       "      <td>False</td>\n",
       "      <td>False</td>\n",
       "      <td>...</td>\n",
       "      <td>False</td>\n",
       "      <td>False</td>\n",
       "      <td>False</td>\n",
       "      <td>False</td>\n",
       "      <td>False</td>\n",
       "      <td>False</td>\n",
       "      <td>False</td>\n",
       "      <td>False</td>\n",
       "      <td>False</td>\n",
       "      <td>False</td>\n",
       "    </tr>\n",
       "    <tr>\n",
       "      <th>3</th>\n",
       "      <td>False</td>\n",
       "      <td>False</td>\n",
       "      <td>False</td>\n",
       "      <td>False</td>\n",
       "      <td>False</td>\n",
       "      <td>False</td>\n",
       "      <td>False</td>\n",
       "      <td>False</td>\n",
       "      <td>False</td>\n",
       "      <td>False</td>\n",
       "      <td>...</td>\n",
       "      <td>False</td>\n",
       "      <td>False</td>\n",
       "      <td>False</td>\n",
       "      <td>False</td>\n",
       "      <td>False</td>\n",
       "      <td>False</td>\n",
       "      <td>False</td>\n",
       "      <td>False</td>\n",
       "      <td>False</td>\n",
       "      <td>False</td>\n",
       "    </tr>\n",
       "    <tr>\n",
       "      <th>4</th>\n",
       "      <td>False</td>\n",
       "      <td>False</td>\n",
       "      <td>False</td>\n",
       "      <td>False</td>\n",
       "      <td>False</td>\n",
       "      <td>False</td>\n",
       "      <td>False</td>\n",
       "      <td>False</td>\n",
       "      <td>False</td>\n",
       "      <td>False</td>\n",
       "      <td>...</td>\n",
       "      <td>False</td>\n",
       "      <td>False</td>\n",
       "      <td>False</td>\n",
       "      <td>False</td>\n",
       "      <td>False</td>\n",
       "      <td>False</td>\n",
       "      <td>False</td>\n",
       "      <td>False</td>\n",
       "      <td>False</td>\n",
       "      <td>False</td>\n",
       "    </tr>\n",
       "    <tr>\n",
       "      <th>...</th>\n",
       "      <td>...</td>\n",
       "      <td>...</td>\n",
       "      <td>...</td>\n",
       "      <td>...</td>\n",
       "      <td>...</td>\n",
       "      <td>...</td>\n",
       "      <td>...</td>\n",
       "      <td>...</td>\n",
       "      <td>...</td>\n",
       "      <td>...</td>\n",
       "      <td>...</td>\n",
       "      <td>...</td>\n",
       "      <td>...</td>\n",
       "      <td>...</td>\n",
       "      <td>...</td>\n",
       "      <td>...</td>\n",
       "      <td>...</td>\n",
       "      <td>...</td>\n",
       "      <td>...</td>\n",
       "      <td>...</td>\n",
       "      <td>...</td>\n",
       "    </tr>\n",
       "    <tr>\n",
       "      <th>2845337</th>\n",
       "      <td>False</td>\n",
       "      <td>False</td>\n",
       "      <td>False</td>\n",
       "      <td>False</td>\n",
       "      <td>False</td>\n",
       "      <td>False</td>\n",
       "      <td>False</td>\n",
       "      <td>False</td>\n",
       "      <td>False</td>\n",
       "      <td>False</td>\n",
       "      <td>...</td>\n",
       "      <td>False</td>\n",
       "      <td>False</td>\n",
       "      <td>False</td>\n",
       "      <td>False</td>\n",
       "      <td>False</td>\n",
       "      <td>False</td>\n",
       "      <td>False</td>\n",
       "      <td>False</td>\n",
       "      <td>False</td>\n",
       "      <td>False</td>\n",
       "    </tr>\n",
       "    <tr>\n",
       "      <th>2845338</th>\n",
       "      <td>False</td>\n",
       "      <td>False</td>\n",
       "      <td>False</td>\n",
       "      <td>False</td>\n",
       "      <td>False</td>\n",
       "      <td>False</td>\n",
       "      <td>False</td>\n",
       "      <td>False</td>\n",
       "      <td>False</td>\n",
       "      <td>False</td>\n",
       "      <td>...</td>\n",
       "      <td>False</td>\n",
       "      <td>False</td>\n",
       "      <td>False</td>\n",
       "      <td>False</td>\n",
       "      <td>False</td>\n",
       "      <td>False</td>\n",
       "      <td>False</td>\n",
       "      <td>False</td>\n",
       "      <td>False</td>\n",
       "      <td>False</td>\n",
       "    </tr>\n",
       "    <tr>\n",
       "      <th>2845339</th>\n",
       "      <td>False</td>\n",
       "      <td>False</td>\n",
       "      <td>False</td>\n",
       "      <td>False</td>\n",
       "      <td>False</td>\n",
       "      <td>False</td>\n",
       "      <td>False</td>\n",
       "      <td>False</td>\n",
       "      <td>False</td>\n",
       "      <td>False</td>\n",
       "      <td>...</td>\n",
       "      <td>False</td>\n",
       "      <td>False</td>\n",
       "      <td>False</td>\n",
       "      <td>False</td>\n",
       "      <td>False</td>\n",
       "      <td>False</td>\n",
       "      <td>False</td>\n",
       "      <td>False</td>\n",
       "      <td>False</td>\n",
       "      <td>False</td>\n",
       "    </tr>\n",
       "    <tr>\n",
       "      <th>2845340</th>\n",
       "      <td>False</td>\n",
       "      <td>False</td>\n",
       "      <td>False</td>\n",
       "      <td>False</td>\n",
       "      <td>False</td>\n",
       "      <td>False</td>\n",
       "      <td>False</td>\n",
       "      <td>False</td>\n",
       "      <td>False</td>\n",
       "      <td>False</td>\n",
       "      <td>...</td>\n",
       "      <td>False</td>\n",
       "      <td>False</td>\n",
       "      <td>False</td>\n",
       "      <td>False</td>\n",
       "      <td>False</td>\n",
       "      <td>False</td>\n",
       "      <td>False</td>\n",
       "      <td>False</td>\n",
       "      <td>False</td>\n",
       "      <td>False</td>\n",
       "    </tr>\n",
       "    <tr>\n",
       "      <th>2845341</th>\n",
       "      <td>False</td>\n",
       "      <td>False</td>\n",
       "      <td>False</td>\n",
       "      <td>False</td>\n",
       "      <td>False</td>\n",
       "      <td>False</td>\n",
       "      <td>False</td>\n",
       "      <td>False</td>\n",
       "      <td>False</td>\n",
       "      <td>False</td>\n",
       "      <td>...</td>\n",
       "      <td>False</td>\n",
       "      <td>False</td>\n",
       "      <td>False</td>\n",
       "      <td>False</td>\n",
       "      <td>False</td>\n",
       "      <td>False</td>\n",
       "      <td>False</td>\n",
       "      <td>False</td>\n",
       "      <td>False</td>\n",
       "      <td>False</td>\n",
       "    </tr>\n",
       "  </tbody>\n",
       "</table>\n",
       "<p>2845342 rows × 47 columns</p>\n",
       "</div>"
      ],
      "text/plain": [
       "            ID  Severity  Start_Time  End_Time  Start_Lat  Start_Lng  End_Lat  \\\n",
       "0        False     False       False     False      False      False    False   \n",
       "1        False     False       False     False      False      False    False   \n",
       "2        False     False       False     False      False      False    False   \n",
       "3        False     False       False     False      False      False    False   \n",
       "4        False     False       False     False      False      False    False   \n",
       "...        ...       ...         ...       ...        ...        ...      ...   \n",
       "2845337  False     False       False     False      False      False    False   \n",
       "2845338  False     False       False     False      False      False    False   \n",
       "2845339  False     False       False     False      False      False    False   \n",
       "2845340  False     False       False     False      False      False    False   \n",
       "2845341  False     False       False     False      False      False    False   \n",
       "\n",
       "         End_Lng  Distance(mi)  Description  ...  Roundabout  Station   Stop  \\\n",
       "0          False         False        False  ...       False    False  False   \n",
       "1          False         False        False  ...       False    False  False   \n",
       "2          False         False        False  ...       False    False  False   \n",
       "3          False         False        False  ...       False    False  False   \n",
       "4          False         False        False  ...       False    False  False   \n",
       "...          ...           ...          ...  ...         ...      ...    ...   \n",
       "2845337    False         False        False  ...       False    False  False   \n",
       "2845338    False         False        False  ...       False    False  False   \n",
       "2845339    False         False        False  ...       False    False  False   \n",
       "2845340    False         False        False  ...       False    False  False   \n",
       "2845341    False         False        False  ...       False    False  False   \n",
       "\n",
       "         Traffic_Calming  Traffic_Signal  Turning_Loop  Sunrise_Sunset  \\\n",
       "0                  False           False         False           False   \n",
       "1                  False           False         False           False   \n",
       "2                  False           False         False           False   \n",
       "3                  False           False         False           False   \n",
       "4                  False           False         False           False   \n",
       "...                  ...             ...           ...             ...   \n",
       "2845337            False           False         False           False   \n",
       "2845338            False           False         False           False   \n",
       "2845339            False           False         False           False   \n",
       "2845340            False           False         False           False   \n",
       "2845341            False           False         False           False   \n",
       "\n",
       "         Civil_Twilight  Nautical_Twilight  Astronomical_Twilight  \n",
       "0                 False              False                  False  \n",
       "1                 False              False                  False  \n",
       "2                 False              False                  False  \n",
       "3                 False              False                  False  \n",
       "4                 False              False                  False  \n",
       "...                 ...                ...                    ...  \n",
       "2845337           False              False                  False  \n",
       "2845338           False              False                  False  \n",
       "2845339           False              False                  False  \n",
       "2845340           False              False                  False  \n",
       "2845341           False              False                  False  \n",
       "\n",
       "[2845342 rows x 47 columns]"
      ]
     },
     "execution_count": 12,
     "metadata": {},
     "output_type": "execute_result"
    }
   ],
   "source": [
    "df.isnull()"
   ]
  },
  {
   "cell_type": "code",
   "execution_count": 15,
   "id": "e345a856",
   "metadata": {},
   "outputs": [
    {
     "data": {
      "text/plain": [
       "Number                   1743911\n",
       "Precipitation(in)         549458\n",
       "Wind_Chill(F)             469643\n",
       "Wind_Speed(mph)           157944\n",
       "Wind_Direction             73775\n",
       "Humidity(%)                73092\n",
       "Weather_Condition          70636\n",
       "Visibility(mi)             70546\n",
       "Temperature(F)             69274\n",
       "Pressure(in)               59200\n",
       "Weather_Timestamp          50736\n",
       "Airport_Code                9549\n",
       "Timezone                    3659\n",
       "Nautical_Twilight           2867\n",
       "Civil_Twilight              2867\n",
       "Sunrise_Sunset              2867\n",
       "Astronomical_Twilight       2867\n",
       "Zipcode                     1319\n",
       "City                         137\n",
       "Street                         2\n",
       "Country                        0\n",
       "Junction                       0\n",
       "Start_Time                     0\n",
       "End_Time                       0\n",
       "Start_Lat                      0\n",
       "Turning_Loop                   0\n",
       "Traffic_Signal                 0\n",
       "Traffic_Calming                0\n",
       "Stop                           0\n",
       "Station                        0\n",
       "Roundabout                     0\n",
       "Railway                        0\n",
       "No_Exit                        0\n",
       "Crossing                       0\n",
       "Give_Way                       0\n",
       "Bump                           0\n",
       "Amenity                        0\n",
       "Start_Lng                      0\n",
       "End_Lat                        0\n",
       "End_Lng                        0\n",
       "Distance(mi)                   0\n",
       "Description                    0\n",
       "Severity                       0\n",
       "Side                           0\n",
       "County                         0\n",
       "State                          0\n",
       "ID                             0\n",
       "dtype: int64"
      ]
     },
     "execution_count": 15,
     "metadata": {},
     "output_type": "execute_result"
    }
   ],
   "source": [
    "missig_values = df.isnull().sum().sort_values(ascending=False)\n",
    "missig_values"
   ]
  },
  {
   "cell_type": "code",
   "execution_count": 16,
   "id": "68d21a99",
   "metadata": {},
   "outputs": [
    {
     "data": {
      "text/plain": [
       "Number                   1743911\n",
       "Precipitation(in)         549458\n",
       "Wind_Chill(F)             469643\n",
       "Wind_Speed(mph)           157944\n",
       "Wind_Direction             73775\n",
       "Humidity(%)                73092\n",
       "Weather_Condition          70636\n",
       "Visibility(mi)             70546\n",
       "Temperature(F)             69274\n",
       "Pressure(in)               59200\n",
       "Weather_Timestamp          50736\n",
       "Airport_Code                9549\n",
       "Timezone                    3659\n",
       "Nautical_Twilight           2867\n",
       "Civil_Twilight              2867\n",
       "Sunrise_Sunset              2867\n",
       "Astronomical_Twilight       2867\n",
       "Zipcode                     1319\n",
       "City                         137\n",
       "Street                         2\n",
       "dtype: int64"
      ]
     },
     "execution_count": 16,
     "metadata": {},
     "output_type": "execute_result"
    }
   ],
   "source": [
    "missig_values[missig_values != 0]"
   ]
  },
  {
   "cell_type": "code",
   "execution_count": null,
   "id": "560d1890",
   "metadata": {},
   "outputs": [],
   "source": [
    "# Exploratory and Visualization\n",
    "\n",
    "# columns to use for analysis\n",
    "\n",
    "# 'City' / 'Start_Time' / 'Start_Lat'/ 'Start_Lng' / 'Temperature(F)' / 'Weather_Condition'"
   ]
  },
  {
   "cell_type": "code",
   "execution_count": 17,
   "id": "05872f29",
   "metadata": {},
   "outputs": [
    {
     "data": {
      "text/plain": [
       "Index(['ID', 'Severity', 'Start_Time', 'End_Time', 'Start_Lat', 'Start_Lng',\n",
       "       'End_Lat', 'End_Lng', 'Distance(mi)', 'Description', 'Number', 'Street',\n",
       "       'Side', 'City', 'County', 'State', 'Zipcode', 'Country', 'Timezone',\n",
       "       'Airport_Code', 'Weather_Timestamp', 'Temperature(F)', 'Wind_Chill(F)',\n",
       "       'Humidity(%)', 'Pressure(in)', 'Visibility(mi)', 'Wind_Direction',\n",
       "       'Wind_Speed(mph)', 'Precipitation(in)', 'Weather_Condition', 'Amenity',\n",
       "       'Bump', 'Crossing', 'Give_Way', 'Junction', 'No_Exit', 'Railway',\n",
       "       'Roundabout', 'Station', 'Stop', 'Traffic_Calming', 'Traffic_Signal',\n",
       "       'Turning_Loop', 'Sunrise_Sunset', 'Civil_Twilight', 'Nautical_Twilight',\n",
       "       'Astronomical_Twilight'],\n",
       "      dtype='object')"
      ]
     },
     "execution_count": 17,
     "metadata": {},
     "output_type": "execute_result"
    }
   ],
   "source": [
    "df.columns"
   ]
  },
  {
   "cell_type": "code",
   "execution_count": 19,
   "id": "e5b4354b",
   "metadata": {},
   "outputs": [
    {
     "data": {
      "text/plain": [
       "11682"
      ]
     },
     "execution_count": 19,
     "metadata": {},
     "output_type": "execute_result"
    }
   ],
   "source": [
    "cities = df['City'].unique()\n",
    "len(cities)"
   ]
  },
  {
   "cell_type": "code",
   "execution_count": 6,
   "id": "42d641d1",
   "metadata": {},
   "outputs": [],
   "source": [
    "df[['City', 'County', 'State', 'Zipcode', 'Country', 'Weather_Condition']] = df[['City', 'County', 'State', 'Zipcode', 'Country', 'Weather_Condition']].astype(\"category\")"
   ]
  },
  {
   "cell_type": "code",
   "execution_count": 54,
   "id": "6f27568e",
   "metadata": {},
   "outputs": [
    {
     "name": "stdout",
     "output_type": "stream",
     "text": [
      "<class 'pandas.core.frame.DataFrame'>\n",
      "RangeIndex: 2845342 entries, 0 to 2845341\n",
      "Data columns (total 47 columns):\n",
      " #   Column                 Dtype   \n",
      "---  ------                 -----   \n",
      " 0   ID                     object  \n",
      " 1   Severity               int64   \n",
      " 2   Start_Time             object  \n",
      " 3   End_Time               object  \n",
      " 4   Start_Lat              float64 \n",
      " 5   Start_Lng              float64 \n",
      " 6   End_Lat                float64 \n",
      " 7   End_Lng                float64 \n",
      " 8   Distance(mi)           float64 \n",
      " 9   Description            object  \n",
      " 10  Number                 float64 \n",
      " 11  Street                 object  \n",
      " 12  Side                   object  \n",
      " 13  City                   category\n",
      " 14  County                 category\n",
      " 15  State                  category\n",
      " 16  Zipcode                category\n",
      " 17  Country                category\n",
      " 18  Timezone               object  \n",
      " 19  Airport_Code           object  \n",
      " 20  Weather_Timestamp      object  \n",
      " 21  Temperature(F)         float64 \n",
      " 22  Wind_Chill(F)          float64 \n",
      " 23  Humidity(%)            float64 \n",
      " 24  Pressure(in)           float64 \n",
      " 25  Visibility(mi)         float64 \n",
      " 26  Wind_Direction         object  \n",
      " 27  Wind_Speed(mph)        float64 \n",
      " 28  Precipitation(in)      float64 \n",
      " 29  Weather_Condition      category\n",
      " 30  Amenity                bool    \n",
      " 31  Bump                   bool    \n",
      " 32  Crossing               bool    \n",
      " 33  Give_Way               bool    \n",
      " 34  Junction               bool    \n",
      " 35  No_Exit                bool    \n",
      " 36  Railway                bool    \n",
      " 37  Roundabout             bool    \n",
      " 38  Station                bool    \n",
      " 39  Stop                   bool    \n",
      " 40  Traffic_Calming        bool    \n",
      " 41  Traffic_Signal         bool    \n",
      " 42  Turning_Loop           bool    \n",
      " 43  Sunrise_Sunset         object  \n",
      " 44  Civil_Twilight         object  \n",
      " 45  Nautical_Twilight      object  \n",
      " 46  Astronomical_Twilight  object  \n",
      "dtypes: bool(13), category(6), float64(13), int64(1), object(14)\n",
      "memory usage: 686.9+ MB\n"
     ]
    }
   ],
   "source": [
    "df.info()"
   ]
  },
  {
   "cell_type": "code",
   "execution_count": 31,
   "id": "01585d24",
   "metadata": {},
   "outputs": [
    {
     "data": {
      "text/plain": [
       "Miami               106966\n",
       "Los Angeles          68956\n",
       "Orlando              54691\n",
       "Dallas               41979\n",
       "Houston              39448\n",
       "                     ...  \n",
       "Prospect Hill            1\n",
       "Brooklyn Heights         1\n",
       "Prosper                  1\n",
       "Proviso                  1\n",
       "Dacono                   1\n",
       "Name: City, Length: 11681, dtype: int64"
      ]
     },
     "execution_count": 31,
     "metadata": {},
     "output_type": "execute_result"
    }
   ],
   "source": [
    "cities_by_accident = df[\"City\"].value_counts(ascending=False)\n",
    "cities_by_accident"
   ]
  },
  {
   "cell_type": "code",
   "execution_count": 46,
   "id": "79963032",
   "metadata": {},
   "outputs": [
    {
     "data": {
      "text/plain": [
       "Beersheba Springs      1\n",
       "District 6 Northern    1\n",
       "Nutrioso               1\n",
       "Loudonville            1\n",
       "Odin                   1\n",
       "                      ..\n",
       "Prospect Hill          1\n",
       "Brooklyn Heights       1\n",
       "Prosper                1\n",
       "Proviso                1\n",
       "Dacono                 1\n",
       "Name: City, Length: 1110, dtype: int64"
      ]
     },
     "execution_count": 46,
     "metadata": {},
     "output_type": "execute_result"
    }
   ],
   "source": [
    "one_accident_cities = cities_by_accident[cities_by_accident == 1]\n",
    "one_accident_cities"
   ]
  },
  {
   "cell_type": "code",
   "execution_count": 25,
   "id": "602d1b79",
   "metadata": {},
   "outputs": [
    {
     "data": {
      "text/plain": [
       "Miami           106966\n",
       "Los Angeles      68956\n",
       "Orlando          54691\n",
       "Dallas           41979\n",
       "Houston          39448\n",
       "Charlotte        33152\n",
       "Sacramento       32559\n",
       "San Diego        26627\n",
       "Raleigh          22840\n",
       "Minneapolis      22768\n",
       "Portland         20944\n",
       "Nashville        20267\n",
       "Austin           18301\n",
       "Baton Rouge      18182\n",
       "Phoenix          17143\n",
       "Saint Paul       16869\n",
       "New Orleans      16251\n",
       "Atlanta          15622\n",
       "Jacksonville     14967\n",
       "Richmond         14349\n",
       "Name: City, dtype: int64"
      ]
     },
     "execution_count": 25,
     "metadata": {},
     "output_type": "execute_result"
    }
   ],
   "source": [
    "cities_by_accident[:20]"
   ]
  },
  {
   "cell_type": "code",
   "execution_count": 27,
   "id": "4c24b15f",
   "metadata": {},
   "outputs": [
    {
     "data": {
      "text/plain": [
       "False"
      ]
     },
     "execution_count": 27,
     "metadata": {},
     "output_type": "execute_result"
    }
   ],
   "source": [
    "\"NY\" in df[\"State\"]"
   ]
  },
  {
   "cell_type": "code",
   "execution_count": 32,
   "id": "56316689",
   "metadata": {},
   "outputs": [
    {
     "data": {
      "text/plain": [
       "<AxesSubplot:>"
      ]
     },
     "execution_count": 32,
     "metadata": {},
     "output_type": "execute_result"
    },
    {
     "data": {
      "image/png": "[encoded data removed]",
      "text/plain": [
       "<Figure size 432x288 with 1 Axes>"
      ]
     },
     "metadata": {
      "needs_background": "light"
     },
     "output_type": "display_data"
    }
   ],
   "source": [
    "cities_by_accident[:20].plot(kind=\"barh\")"
   ]
  },
  {
   "cell_type": "code",
   "execution_count": 34,
   "id": "0a05022d",
   "metadata": {},
   "outputs": [],
   "source": [
    "sns.set_style(\"darkgrid\")"
   ]
  },
  {
   "cell_type": "code",
   "execution_count": 37,
   "id": "9a4b2a04",
   "metadata": {},
   "outputs": [
    {
     "name": "stderr",
     "output_type": "stream",
     "text": [
      "C:\\Users\\ELNGGAR\\anaconda3\\envs\\pandas_playground\\lib\\site-packages\\seaborn\\distributions.py:2619: FutureWarning: `distplot` is a deprecated function and will be removed in a future version. Please adapt your code to use either `displot` (a figure-level function with similar flexibility) or `histplot` (an axes-level function for histograms).\n",
      "  warnings.warn(msg, FutureWarning)\n"
     ]
    },
    {
     "data": {
      "text/plain": [
       "<AxesSubplot:xlabel='City', ylabel='Density'>"
      ]
     },
     "execution_count": 37,
     "metadata": {},
     "output_type": "execute_result"
    },
    {
     "data": {
      "image/png": "[encoded data removed]",
      "text/plain": [
       "<Figure size 432x288 with 1 Axes>"
      ]
     },
     "metadata": {},
     "output_type": "display_data"
    }
   ],
   "source": [
    "sns.distplot(cities_by_accident)"
   ]
  },
  {
   "cell_type": "code",
   "execution_count": 38,
   "id": "eb4f35b3",
   "metadata": {},
   "outputs": [],
   "source": [
    "high_accident_cities = cities_by_accident[cities_by_accident>=1000]\n",
    "low_accident_cities = cities_by_accident[cities_by_accident<1000] "
   ]
  },
  {
   "cell_type": "code",
   "execution_count": 39,
   "id": "be6d52e7",
   "metadata": {},
   "outputs": [
    {
     "data": {
      "text/plain": [
       "496"
      ]
     },
     "execution_count": 39,
     "metadata": {},
     "output_type": "execute_result"
    }
   ],
   "source": [
    "len(high_accident_cities)"
   ]
  },
  {
   "cell_type": "code",
   "execution_count": 40,
   "id": "30e050c8",
   "metadata": {},
   "outputs": [
    {
     "data": {
      "text/plain": [
       "11185"
      ]
     },
     "execution_count": 40,
     "metadata": {},
     "output_type": "execute_result"
    }
   ],
   "source": [
    "len(low_accident_cities)"
   ]
  },
  {
   "cell_type": "code",
   "execution_count": 41,
   "id": "3b540954",
   "metadata": {},
   "outputs": [
    {
     "data": {
      "text/plain": [
       "0.04434510505140814"
      ]
     },
     "execution_count": 41,
     "metadata": {},
     "output_type": "execute_result"
    }
   ],
   "source": [
    "len(high_accident_cities)/len(low_accident_cities)"
   ]
  },
  {
   "cell_type": "code",
   "execution_count": 45,
   "id": "7fc733dc",
   "metadata": {},
   "outputs": [
    {
     "data": {
      "text/plain": [
       "<AxesSubplot:xlabel='City', ylabel='Count'>"
      ]
     },
     "execution_count": 45,
     "metadata": {},
     "output_type": "execute_result"
    },
    {
     "data": {
      "image/png": "[encoded data removed]",
      "text/plain": [
       "<Figure size 432x288 with 1 Axes>"
      ]
     },
     "metadata": {},
     "output_type": "display_data"
    }
   ],
   "source": [
    "sns.histplot(high_accident_cities, log_scale=True)"
   ]
  },
  {
   "cell_type": "code",
   "execution_count": 44,
   "id": "a1d18e52",
   "metadata": {},
   "outputs": [
    {
     "data": {
      "text/plain": [
       "<AxesSubplot:xlabel='City', ylabel='Count'>"
      ]
     },
     "execution_count": 44,
     "metadata": {},
     "output_type": "execute_result"
    },
    {
     "data": {
      "image/png": "[encoded data removed]",
      "text/plain": [
       "<Figure size 432x288 with 1 Axes>"
      ]
     },
     "metadata": {},
     "output_type": "display_data"
    }
   ],
   "source": [
    "sns.histplot(low_accident_cities, log_scale=True)"
   ]
  },
  {
   "cell_type": "code",
   "execution_count": 50,
   "id": "7752be29",
   "metadata": {},
   "outputs": [
    {
     "data": {
      "text/html": [
       "<div>\n",
       "<style scoped>\n",
       "    .dataframe tbody tr th:only-of-type {\n",
       "        vertical-align: middle;\n",
       "    }\n",
       "\n",
       "    .dataframe tbody tr th {\n",
       "        vertical-align: top;\n",
       "    }\n",
       "\n",
       "    .dataframe thead th {\n",
       "        text-align: right;\n",
       "    }\n",
       "</style>\n",
       "<table border=\"1\" class=\"dataframe\">\n",
       "  <thead>\n",
       "    <tr style=\"text-align: right;\">\n",
       "      <th></th>\n",
       "      <th>City</th>\n",
       "      <th>Start_Time</th>\n",
       "      <th>End_Time</th>\n",
       "    </tr>\n",
       "  </thead>\n",
       "  <tbody>\n",
       "    <tr>\n",
       "      <th>0</th>\n",
       "      <td>Dublin</td>\n",
       "      <td>2016-02-08 00:37:08</td>\n",
       "      <td>2016-02-08 06:37:08</td>\n",
       "    </tr>\n",
       "    <tr>\n",
       "      <th>1</th>\n",
       "      <td>Dayton</td>\n",
       "      <td>2016-02-08 05:56:20</td>\n",
       "      <td>2016-02-08 11:56:20</td>\n",
       "    </tr>\n",
       "    <tr>\n",
       "      <th>2</th>\n",
       "      <td>Cincinnati</td>\n",
       "      <td>2016-02-08 06:15:39</td>\n",
       "      <td>2016-02-08 12:15:39</td>\n",
       "    </tr>\n",
       "    <tr>\n",
       "      <th>3</th>\n",
       "      <td>Akron</td>\n",
       "      <td>2016-02-08 06:51:45</td>\n",
       "      <td>2016-02-08 12:51:45</td>\n",
       "    </tr>\n",
       "    <tr>\n",
       "      <th>4</th>\n",
       "      <td>Cincinnati</td>\n",
       "      <td>2016-02-08 07:53:43</td>\n",
       "      <td>2016-02-08 13:53:43</td>\n",
       "    </tr>\n",
       "    <tr>\n",
       "      <th>...</th>\n",
       "      <td>...</td>\n",
       "      <td>...</td>\n",
       "      <td>...</td>\n",
       "    </tr>\n",
       "    <tr>\n",
       "      <th>2845337</th>\n",
       "      <td>Riverside</td>\n",
       "      <td>2019-08-23 18:03:25</td>\n",
       "      <td>2019-08-23 18:32:01</td>\n",
       "    </tr>\n",
       "    <tr>\n",
       "      <th>2845338</th>\n",
       "      <td>San Diego</td>\n",
       "      <td>2019-08-23 19:11:30</td>\n",
       "      <td>2019-08-23 19:38:23</td>\n",
       "    </tr>\n",
       "    <tr>\n",
       "      <th>2845339</th>\n",
       "      <td>Orange</td>\n",
       "      <td>2019-08-23 19:00:21</td>\n",
       "      <td>2019-08-23 19:28:49</td>\n",
       "    </tr>\n",
       "    <tr>\n",
       "      <th>2845340</th>\n",
       "      <td>Culver City</td>\n",
       "      <td>2019-08-23 19:00:21</td>\n",
       "      <td>2019-08-23 19:29:42</td>\n",
       "    </tr>\n",
       "    <tr>\n",
       "      <th>2845341</th>\n",
       "      <td>Highland</td>\n",
       "      <td>2019-08-23 18:52:06</td>\n",
       "      <td>2019-08-23 19:21:31</td>\n",
       "    </tr>\n",
       "  </tbody>\n",
       "</table>\n",
       "<p>2845342 rows × 3 columns</p>\n",
       "</div>"
      ],
      "text/plain": [
       "                City           Start_Time             End_Time\n",
       "0             Dublin  2016-02-08 00:37:08  2016-02-08 06:37:08\n",
       "1             Dayton  2016-02-08 05:56:20  2016-02-08 11:56:20\n",
       "2         Cincinnati  2016-02-08 06:15:39  2016-02-08 12:15:39\n",
       "3              Akron  2016-02-08 06:51:45  2016-02-08 12:51:45\n",
       "4         Cincinnati  2016-02-08 07:53:43  2016-02-08 13:53:43\n",
       "...              ...                  ...                  ...\n",
       "2845337    Riverside  2019-08-23 18:03:25  2019-08-23 18:32:01\n",
       "2845338    San Diego  2019-08-23 19:11:30  2019-08-23 19:38:23\n",
       "2845339       Orange  2019-08-23 19:00:21  2019-08-23 19:28:49\n",
       "2845340  Culver City  2019-08-23 19:00:21  2019-08-23 19:29:42\n",
       "2845341     Highland  2019-08-23 18:52:06  2019-08-23 19:21:31\n",
       "\n",
       "[2845342 rows x 3 columns]"
      ]
     },
     "execution_count": 50,
     "metadata": {},
     "output_type": "execute_result"
    }
   ],
   "source": [
    "df[['City', 'Start_Time', 'End_Time']] "
   ]
  },
  {
   "cell_type": "code",
   "execution_count": 11,
   "id": "218cde52",
   "metadata": {},
   "outputs": [
    {
     "data": {
      "text/plain": [
       "0          2016-02-08 00:37:08\n",
       "1          2016-02-08 05:56:20\n",
       "2          2016-02-08 06:15:39\n",
       "3          2016-02-08 06:51:45\n",
       "4          2016-02-08 07:53:43\n",
       "                  ...         \n",
       "2845337    2019-08-23 18:03:25\n",
       "2845338    2019-08-23 19:11:30\n",
       "2845339    2019-08-23 19:00:21\n",
       "2845340    2019-08-23 19:00:21\n",
       "2845341    2019-08-23 18:52:06\n",
       "Name: Start_Time, Length: 2845342, dtype: object"
      ]
     },
     "execution_count": 11,
     "metadata": {},
     "output_type": "execute_result"
    }
   ],
   "source": [
    "df[\"Start_Time\"]"
   ]
  },
  {
   "cell_type": "code",
   "execution_count": 12,
   "id": "b4ba82c2",
   "metadata": {},
   "outputs": [
    {
     "data": {
      "text/plain": [
       "0         2016-02-08 00:37:08\n",
       "1         2016-02-08 05:56:20\n",
       "2         2016-02-08 06:15:39\n",
       "3         2016-02-08 06:51:45\n",
       "4         2016-02-08 07:53:43\n",
       "                  ...        \n",
       "2845337   2019-08-23 18:03:25\n",
       "2845338   2019-08-23 19:11:30\n",
       "2845339   2019-08-23 19:00:21\n",
       "2845340   2019-08-23 19:00:21\n",
       "2845341   2019-08-23 18:52:06\n",
       "Name: Start_Time, Length: 2845342, dtype: datetime64[ns]"
      ]
     },
     "execution_count": 12,
     "metadata": {},
     "output_type": "execute_result"
    }
   ],
   "source": [
    "df[\"Start_Time\"] = pd.to_datetime(df[\"Start_Time\"])\n",
    "df[\"Start_Time\"]"
   ]
  },
  {
   "cell_type": "code",
   "execution_count": 14,
   "id": "1e99a3ee",
   "metadata": {},
   "outputs": [
    {
     "data": {
      "text/plain": [
       "0           0\n",
       "1           5\n",
       "2           6\n",
       "3           6\n",
       "4           7\n",
       "           ..\n",
       "2845337    18\n",
       "2845338    19\n",
       "2845339    19\n",
       "2845340    19\n",
       "2845341    18\n",
       "Name: Start_Time, Length: 2845342, dtype: int64"
      ]
     },
     "execution_count": 14,
     "metadata": {},
     "output_type": "execute_result"
    }
   ],
   "source": [
    "df[\"Start_Time\"].dt.hour"
   ]
  },
  {
   "cell_type": "code",
   "execution_count": 15,
   "id": "d65a3792",
   "metadata": {},
   "outputs": [
    {
     "data": {
      "text/plain": [
       "<AxesSubplot:xlabel='Start_Time', ylabel='Count'>"
      ]
     },
     "execution_count": 15,
     "metadata": {},
     "output_type": "execute_result"
    },
    {
     "data": {
      "image/png": "[encoded data removed]",
      "text/plain": [
       "<Figure size 432x288 with 1 Axes>"
      ]
     },
     "metadata": {
      "needs_background": "light"
     },
     "output_type": "display_data"
    }
   ],
   "source": [
    "sns.histplot(df[\"Start_Time\"].dt.hour, bins=24)"
   ]
  },
  {
   "cell_type": "code",
   "execution_count": 17,
   "id": "9db5d8bb",
   "metadata": {},
   "outputs": [
    {
     "name": "stderr",
     "output_type": "stream",
     "text": [
      "C:\\Users\\ELNGGAR\\anaconda3\\envs\\pandas_playground\\lib\\site-packages\\seaborn\\distributions.py:2619: FutureWarning: `distplot` is a deprecated function and will be removed in a future version. Please adapt your code to use either `displot` (a figure-level function with similar flexibility) or `histplot` (an axes-level function for histograms).\n",
      "  warnings.warn(msg, FutureWarning)\n"
     ]
    },
    {
     "data": {
      "text/plain": [
       "<AxesSubplot:xlabel='Start_Time'>"
      ]
     },
     "execution_count": 17,
     "metadata": {},
     "output_type": "execute_result"
    },
    {
     "data": {
      "image/png": "[encoded data removed]",
      "text/plain": [
       "<Figure size 432x288 with 1 Axes>"
      ]
     },
     "metadata": {
      "needs_background": "light"
     },
     "output_type": "display_data"
    }
   ],
   "source": [
    "sns.distplot(df[\"Start_Time\"].dt.hour, bins=24, kde=False, norm_hist=True)"
   ]
  },
  {
   "cell_type": "code",
   "execution_count": 21,
   "id": "48f44cbe",
   "metadata": {},
   "outputs": [
    {
     "data": {
      "text/plain": [
       "<AxesSubplot:xlabel='Start_Time'>"
      ]
     },
     "execution_count": 21,
     "metadata": {},
     "output_type": "execute_result"
    },
    {
     "data": {
      "image/png": "[encoded data removed]",
      "text/plain": [
       "<Figure size 432x288 with 1 Axes>"
      ]
     },
     "metadata": {
      "needs_background": "light"
     },
     "output_type": "display_data"
    }
   ],
   "source": [
    "sns.distplot(df[\"Start_Time\"].dt.dayofweek, bins=7, kde=False, norm_hist=True)"
   ]
  },
  {
   "cell_type": "code",
   "execution_count": 25,
   "id": "430fcd6c",
   "metadata": {},
   "outputs": [],
   "source": [
    "c = df[\"Start_Time\"][df[\"Start_Time\"].dt.dayofweek == 5]"
   ]
  },
  {
   "cell_type": "code",
   "execution_count": 29,
   "id": "57a46f1c",
   "metadata": {},
   "outputs": [
    {
     "data": {
      "text/plain": [
       "<AxesSubplot:xlabel='Start_Time'>"
      ]
     },
     "execution_count": 29,
     "metadata": {},
     "output_type": "execute_result"
    },
    {
     "data": {
      "image/png": "[encoded data removed]",
      "text/plain": [
       "<Figure size 432x288 with 1 Axes>"
      ]
     },
     "metadata": {
      "needs_background": "light"
     },
     "output_type": "display_data"
    }
   ],
   "source": [
    "sns.distplot(c.dt.hour, bins=24, kde=False, norm_hist=True) # suterday"
   ]
  },
  {
   "cell_type": "code",
   "execution_count": 27,
   "id": "831e9dba",
   "metadata": {},
   "outputs": [],
   "source": [
    "d = df[\"Start_Time\"][df[\"Start_Time\"].dt.dayofweek == 6]"
   ]
  },
  {
   "cell_type": "code",
   "execution_count": 30,
   "id": "b279901f",
   "metadata": {},
   "outputs": [
    {
     "data": {
      "text/plain": [
       "<AxesSubplot:xlabel='Start_Time'>"
      ]
     },
     "execution_count": 30,
     "metadata": {},
     "output_type": "execute_result"
    },
    {
     "data": {
      "image/png": "[encoded data removed]",
      "text/plain": [
       "<Figure size 432x288 with 1 Axes>"
      ]
     },
     "metadata": {
      "needs_background": "light"
     },
     "output_type": "display_data"
    }
   ],
   "source": [
    "sns.distplot(d.dt.hour, bins=24, kde=False, norm_hist=True) #suday"
   ]
  },
  {
   "cell_type": "code",
   "execution_count": 32,
   "id": "5b7cc786",
   "metadata": {},
   "outputs": [
    {
     "data": {
      "text/plain": [
       "<AxesSubplot:xlabel='Start_Time'>"
      ]
     },
     "execution_count": 32,
     "metadata": {},
     "output_type": "execute_result"
    },
    {
     "data": {
      "image/png": "[encoded data removed]",
      "text/plain": [
       "<Figure size 432x288 with 1 Axes>"
      ]
     },
     "metadata": {
      "needs_background": "light"
     },
     "output_type": "display_data"
    }
   ],
   "source": [
    "sns.distplot(df[\"Start_Time\"].dt.month, bins=12, kde=False, norm_hist=True)"
   ]
  },
  {
   "cell_type": "code",
   "execution_count": 34,
   "id": "8b8dcad1",
   "metadata": {},
   "outputs": [],
   "source": [
    "df_2020 = df[df[\"Start_Time\"].dt.year == 2020]"
   ]
  },
  {
   "cell_type": "code",
   "execution_count": 35,
   "id": "9ad14db8",
   "metadata": {},
   "outputs": [
    {
     "name": "stderr",
     "output_type": "stream",
     "text": [
      "C:\\Users\\ELNGGAR\\anaconda3\\envs\\pandas_playground\\lib\\site-packages\\seaborn\\distributions.py:2619: FutureWarning: `distplot` is a deprecated function and will be removed in a future version. Please adapt your code to use either `displot` (a figure-level function with similar flexibility) or `histplot` (an axes-level function for histograms).\n",
      "  warnings.warn(msg, FutureWarning)\n"
     ]
    },
    {
     "data": {
      "text/plain": [
       "<AxesSubplot:xlabel='Start_Time'>"
      ]
     },
     "execution_count": 35,
     "metadata": {},
     "output_type": "execute_result"
    },
    {
     "data": {
      "image/png": "[encoded data removed]",
      "text/plain": [
       "<Figure size 432x288 with 1 Axes>"
      ]
     },
     "metadata": {
      "needs_background": "light"
     },
     "output_type": "display_data"
    }
   ],
   "source": [
    "sns.distplot(df_2020[\"Start_Time\"].dt.month, bins=12, kde=False, norm_hist=True)"
   ]
  },
  {
   "cell_type": "code",
   "execution_count": 36,
   "id": "aec1f78c",
   "metadata": {},
   "outputs": [],
   "source": [
    "df_2021 = df[df[\"Start_Time\"].dt.year == 2021]"
   ]
  },
  {
   "cell_type": "code",
   "execution_count": 37,
   "id": "e46625df",
   "metadata": {},
   "outputs": [
    {
     "data": {
      "text/plain": [
       "<AxesSubplot:xlabel='Start_Time'>"
      ]
     },
     "execution_count": 37,
     "metadata": {},
     "output_type": "execute_result"
    },
    {
     "data": {
      "image/png": "[encoded data removed]",
      "text/plain": [
       "<Figure size 432x288 with 1 Axes>"
      ]
     },
     "metadata": {
      "needs_background": "light"
     },
     "output_type": "display_data"
    }
   ],
   "source": [
    "sns.distplot(df_2021[\"Start_Time\"].dt.month, bins=12, kde=False, norm_hist=True)"
   ]
  },
  {
   "cell_type": "code",
   "execution_count": 48,
   "id": "480a7e1a",
   "metadata": {},
   "outputs": [],
   "source": [
    "sample_df = df.sample(int(0.1*len(df)))"
   ]
  },
  {
   "cell_type": "code",
   "execution_count": 49,
   "id": "57bc9f34",
   "metadata": {},
   "outputs": [
    {
     "data": {
      "text/plain": [
       "<AxesSubplot:xlabel='Start_Lng', ylabel='Start_Lat'>"
      ]
     },
     "execution_count": 49,
     "metadata": {},
     "output_type": "execute_result"
    },
    {
     "data": {
      "image/png": "[encoded data removed]",
      "text/plain": [
       "<Figure size 432x288 with 1 Axes>"
      ]
     },
     "metadata": {
      "needs_background": "light"
     },
     "output_type": "display_data"
    }
   ],
   "source": [
    "sns.scatterplot(x=sample_df['Start_Lng'], y=sample_df['Start_Lat'],size=0.001)"
   ]
  },
  {
   "cell_type": "code",
   "execution_count": 17,
   "id": "f370ce3b",
   "metadata": {},
   "outputs": [
    {
     "data": {
      "text/plain": [
       "(39.10266, -84.52468)"
      ]
     },
     "execution_count": 17,
     "metadata": {},
     "output_type": "execute_result"
    }
   ],
   "source": [
    "lat, lng = df['Start_Lat'][2], df['Start_Lng'][2]\n",
    "lat, lng"
   ]
  },
  {
   "cell_type": "code",
   "execution_count": 12,
   "id": "ec94b9a9",
   "metadata": {
    "collapsed": true
   },
   "outputs": [
    {
     "data": {
      "text/html": [
       "<div style=\"width:100%;\"><div style=\"position:relative;width:100%;height:0;padding-bottom:60%;\"><span style=\"color:#565656\">Make this Notebook Trusted to load map: File -> Trust Notebook</span><iframe src=\"about:blank\" style=\"position:absolute;width:100%;height:100%;left:0;top:0;border:none !important;\" data-html=%3C%21DOCTYPE%20html%3E%0A%3Chead%3E%20%20%20%20%0A%20%20%20%20%3Cmeta%20http-equiv%3D%22content-type%22%20content%3D%22text/html%3B%20charset%3DUTF-8%22%20/%3E%0A%20%20%20%20%0A%20%20%20%20%20%20%20%20%3Cscript%3E%0A%20%20%20%20%20%20%20%20%20%20%20%20L_NO_TOUCH%20%3D%20false%3B%0A%20%20%20%20%20%20%20%20%20%20%20%20L_DISABLE_3D%20%3D%20false%3B%0A%20%20%20%20%20%20%20%20%3C/script%3E%0A%20%20%20%20%0A%20%20%20%20%3Cstyle%3Ehtml%2C%20body%20%7Bwidth%3A%20100%25%3Bheight%3A%20100%25%3Bmargin%3A%200%3Bpadding%3A%200%3B%7D%3C/style%3E%0A%20%20%20%20%3Cstyle%3E%23map%20%7Bposition%3Aabsolute%3Btop%3A0%3Bbottom%3A0%3Bright%3A0%3Bleft%3A0%3B%7D%3C/style%3E%0A%20%20%20%20%3Cscript%20src%3D%22https%3A//cdn.jsdelivr.net/npm/leaflet%401.6.0/dist/leaflet.js%22%3E%3C/script%3E%0A%20%20%20%20%3Cscript%20src%3D%22https%3A//code.jquery.com/jquery-1.12.4.min.js%22%3E%3C/script%3E%0A%20%20%20%20%3Cscript%20src%3D%22https%3A//maxcdn.bootstrapcdn.com/bootstrap/3.2.0/js/bootstrap.min.js%22%3E%3C/script%3E%0A%20%20%20%20%3Cscript%20src%3D%22https%3A//cdnjs.cloudflare.com/ajax/libs/Leaflet.awesome-markers/2.0.2/leaflet.awesome-markers.js%22%3E%3C/script%3E%0A%20%20%20%20%3Clink%20rel%3D%22stylesheet%22%20href%3D%22https%3A//cdn.jsdelivr.net/npm/leaflet%401.6.0/dist/leaflet.css%22/%3E%0A%20%20%20%20%3Clink%20rel%3D%22stylesheet%22%20href%3D%22https%3A//maxcdn.bootstrapcdn.com/bootstrap/3.2.0/css/bootstrap.min.css%22/%3E%0A%20%20%20%20%3Clink%20rel%3D%22stylesheet%22%20href%3D%22https%3A//maxcdn.bootstrapcdn.com/bootstrap/3.2.0/css/bootstrap-theme.min.css%22/%3E%0A%20%20%20%20%3Clink%20rel%3D%22stylesheet%22%20href%3D%22https%3A//maxcdn.bootstrapcdn.com/font-awesome/4.6.3/css/font-awesome.min.css%22/%3E%0A%20%20%20%20%3Clink%20rel%3D%22stylesheet%22%20href%3D%22https%3A//cdnjs.cloudflare.com/ajax/libs/Leaflet.awesome-markers/2.0.2/leaflet.awesome-markers.css%22/%3E%0A%20%20%20%20%3Clink%20rel%3D%22stylesheet%22%20href%3D%22https%3A//cdn.jsdelivr.net/gh/python-visualization/folium/folium/templates/leaflet.awesome.rotate.min.css%22/%3E%0A%20%20%20%20%0A%20%20%20%20%20%20%20%20%20%20%20%20%3Cmeta%20name%3D%22viewport%22%20content%3D%22width%3Ddevice-width%2C%0A%20%20%20%20%20%20%20%20%20%20%20%20%20%20%20%20initial-scale%3D1.0%2C%20maximum-scale%3D1.0%2C%20user-scalable%3Dno%22%20/%3E%0A%20%20%20%20%20%20%20%20%20%20%20%20%3Cstyle%3E%0A%20%20%20%20%20%20%20%20%20%20%20%20%20%20%20%20%23map_88a70e27c7724fe8a5e3495a50d6a935%20%7B%0A%20%20%20%20%20%20%20%20%20%20%20%20%20%20%20%20%20%20%20%20position%3A%20relative%3B%0A%20%20%20%20%20%20%20%20%20%20%20%20%20%20%20%20%20%20%20%20width%3A%20100.0%25%3B%0A%20%20%20%20%20%20%20%20%20%20%20%20%20%20%20%20%20%20%20%20height%3A%20100.0%25%3B%0A%20%20%20%20%20%20%20%20%20%20%20%20%20%20%20%20%20%20%20%20left%3A%200.0%25%3B%0A%20%20%20%20%20%20%20%20%20%20%20%20%20%20%20%20%20%20%20%20top%3A%200.0%25%3B%0A%20%20%20%20%20%20%20%20%20%20%20%20%20%20%20%20%7D%0A%20%20%20%20%20%20%20%20%20%20%20%20%3C/style%3E%0A%20%20%20%20%20%20%20%20%0A%3C/head%3E%0A%3Cbody%3E%20%20%20%20%0A%20%20%20%20%0A%20%20%20%20%20%20%20%20%20%20%20%20%3Cdiv%20class%3D%22folium-map%22%20id%3D%22map_88a70e27c7724fe8a5e3495a50d6a935%22%20%3E%3C/div%3E%0A%20%20%20%20%20%20%20%20%0A%3C/body%3E%0A%3Cscript%3E%20%20%20%20%0A%20%20%20%20%0A%20%20%20%20%20%20%20%20%20%20%20%20var%20map_88a70e27c7724fe8a5e3495a50d6a935%20%3D%20L.map%28%0A%20%20%20%20%20%20%20%20%20%20%20%20%20%20%20%20%22map_88a70e27c7724fe8a5e3495a50d6a935%22%2C%0A%20%20%20%20%20%20%20%20%20%20%20%20%20%20%20%20%7B%0A%20%20%20%20%20%20%20%20%20%20%20%20%20%20%20%20%20%20%20%20center%3A%20%5B0%2C%200%5D%2C%0A%20%20%20%20%20%20%20%20%20%20%20%20%20%20%20%20%20%20%20%20crs%3A%20L.CRS.EPSG3857%2C%0A%20%20%20%20%20%20%20%20%20%20%20%20%20%20%20%20%20%20%20%20zoom%3A%201%2C%0A%20%20%20%20%20%20%20%20%20%20%20%20%20%20%20%20%20%20%20%20zoomControl%3A%20true%2C%0A%20%20%20%20%20%20%20%20%20%20%20%20%20%20%20%20%20%20%20%20preferCanvas%3A%20false%2C%0A%20%20%20%20%20%20%20%20%20%20%20%20%20%20%20%20%7D%0A%20%20%20%20%20%20%20%20%20%20%20%20%29%3B%0A%0A%20%20%20%20%20%20%20%20%20%20%20%20%0A%0A%20%20%20%20%20%20%20%20%0A%20%20%20%20%0A%20%20%20%20%20%20%20%20%20%20%20%20var%20tile_layer_aab43818eeac48d891a7ce79f6a75946%20%3D%20L.tileLayer%28%0A%20%20%20%20%20%20%20%20%20%20%20%20%20%20%20%20%22https%3A//%7Bs%7D.tile.openstreetmap.org/%7Bz%7D/%7Bx%7D/%7By%7D.png%22%2C%0A%20%20%20%20%20%20%20%20%20%20%20%20%20%20%20%20%7B%22attribution%22%3A%20%22Data%20by%20%5Cu0026copy%3B%20%5Cu003ca%20href%3D%5C%22http%3A//openstreetmap.org%5C%22%5Cu003eOpenStreetMap%5Cu003c/a%5Cu003e%2C%20under%20%5Cu003ca%20href%3D%5C%22http%3A//www.openstreetmap.org/copyright%5C%22%5Cu003eODbL%5Cu003c/a%5Cu003e.%22%2C%20%22detectRetina%22%3A%20false%2C%20%22maxNativeZoom%22%3A%2018%2C%20%22maxZoom%22%3A%2018%2C%20%22minZoom%22%3A%200%2C%20%22noWrap%22%3A%20false%2C%20%22opacity%22%3A%201%2C%20%22subdomains%22%3A%20%22abc%22%2C%20%22tms%22%3A%20false%7D%0A%20%20%20%20%20%20%20%20%20%20%20%20%29.addTo%28map_88a70e27c7724fe8a5e3495a50d6a935%29%3B%0A%20%20%20%20%20%20%20%20%0A%3C/script%3E onload=\"this.contentDocument.open();this.contentDocument.write(    decodeURIComponent(this.getAttribute('data-html')));this.contentDocument.close();\" allowfullscreen webkitallowfullscreen mozallowfullscreen></iframe></div></div>"
      ],
      "text/plain": [
       "<folium.folium.Map at 0x220439051e0>"
      ]
     },
     "execution_count": 12,
     "metadata": {},
     "output_type": "execute_result"
    }
   ],
   "source": [
    "folium.Map()"
   ]
  },
  {
   "cell_type": "code",
   "execution_count": 19,
   "id": "0762c304",
   "metadata": {},
   "outputs": [],
   "source": [
    "map = folium.Map()"
   ]
  },
  {
   "cell_type": "code",
   "execution_count": 20,
   "id": "736e3a4a",
   "metadata": {},
   "outputs": [],
   "source": [
    "marker = folium.Marker((lat, lng))"
   ]
  },
  {
   "cell_type": "code",
   "execution_count": 21,
   "id": "d12b4ed3",
   "metadata": {
    "scrolled": true
   },
   "outputs": [
    {
     "data": {
      "text/html": [
       "<div style=\"width:100%;\"><div style=\"position:relative;width:100%;height:0;padding-bottom:60%;\"><span style=\"color:#565656\">Make this Notebook Trusted to load map: File -> Trust Notebook</span><iframe src=\"about:blank\" style=\"position:absolute;width:100%;height:100%;left:0;top:0;border:none !important;\" data-html=%3C%21DOCTYPE%20html%3E%0A%3Chead%3E%20%20%20%20%0A%20%20%20%20%3Cmeta%20http-equiv%3D%22content-type%22%20content%3D%22text/html%3B%20charset%3DUTF-8%22%20/%3E%0A%20%20%20%20%0A%20%20%20%20%20%20%20%20%3Cscript%3E%0A%20%20%20%20%20%20%20%20%20%20%20%20L_NO_TOUCH%20%3D%20false%3B%0A%20%20%20%20%20%20%20%20%20%20%20%20L_DISABLE_3D%20%3D%20false%3B%0A%20%20%20%20%20%20%20%20%3C/script%3E%0A%20%20%20%20%0A%20%20%20%20%3Cstyle%3Ehtml%2C%20body%20%7Bwidth%3A%20100%25%3Bheight%3A%20100%25%3Bmargin%3A%200%3Bpadding%3A%200%3B%7D%3C/style%3E%0A%20%20%20%20%3Cstyle%3E%23map%20%7Bposition%3Aabsolute%3Btop%3A0%3Bbottom%3A0%3Bright%3A0%3Bleft%3A0%3B%7D%3C/style%3E%0A%20%20%20%20%3Cscript%20src%3D%22https%3A//cdn.jsdelivr.net/npm/leaflet%401.6.0/dist/leaflet.js%22%3E%3C/script%3E%0A%20%20%20%20%3Cscript%20src%3D%22https%3A//code.jquery.com/jquery-1.12.4.min.js%22%3E%3C/script%3E%0A%20%20%20%20%3Cscript%20src%3D%22https%3A//maxcdn.bootstrapcdn.com/bootstrap/3.2.0/js/bootstrap.min.js%22%3E%3C/script%3E%0A%20%20%20%20%3Cscript%20src%3D%22https%3A//cdnjs.cloudflare.com/ajax/libs/Leaflet.awesome-markers/2.0.2/leaflet.awesome-markers.js%22%3E%3C/script%3E%0A%20%20%20%20%3Clink%20rel%3D%22stylesheet%22%20href%3D%22https%3A//cdn.jsdelivr.net/npm/leaflet%401.6.0/dist/leaflet.css%22/%3E%0A%20%20%20%20%3Clink%20rel%3D%22stylesheet%22%20href%3D%22https%3A//maxcdn.bootstrapcdn.com/bootstrap/3.2.0/css/bootstrap.min.css%22/%3E%0A%20%20%20%20%3Clink%20rel%3D%22stylesheet%22%20href%3D%22https%3A//maxcdn.bootstrapcdn.com/bootstrap/3.2.0/css/bootstrap-theme.min.css%22/%3E%0A%20%20%20%20%3Clink%20rel%3D%22stylesheet%22%20href%3D%22https%3A//maxcdn.bootstrapcdn.com/font-awesome/4.6.3/css/font-awesome.min.css%22/%3E%0A%20%20%20%20%3Clink%20rel%3D%22stylesheet%22%20href%3D%22https%3A//cdnjs.cloudflare.com/ajax/libs/Leaflet.awesome-markers/2.0.2/leaflet.awesome-markers.css%22/%3E%0A%20%20%20%20%3Clink%20rel%3D%22stylesheet%22%20href%3D%22https%3A//cdn.jsdelivr.net/gh/python-visualization/folium/folium/templates/leaflet.awesome.rotate.min.css%22/%3E%0A%20%20%20%20%0A%20%20%20%20%20%20%20%20%20%20%20%20%3Cmeta%20name%3D%22viewport%22%20content%3D%22width%3Ddevice-width%2C%0A%20%20%20%20%20%20%20%20%20%20%20%20%20%20%20%20initial-scale%3D1.0%2C%20maximum-scale%3D1.0%2C%20user-scalable%3Dno%22%20/%3E%0A%20%20%20%20%20%20%20%20%20%20%20%20%3Cstyle%3E%0A%20%20%20%20%20%20%20%20%20%20%20%20%20%20%20%20%23map_7c5c3e67c02a4db1969ce437a5bc2bda%20%7B%0A%20%20%20%20%20%20%20%20%20%20%20%20%20%20%20%20%20%20%20%20position%3A%20relative%3B%0A%20%20%20%20%20%20%20%20%20%20%20%20%20%20%20%20%20%20%20%20width%3A%20100.0%25%3B%0A%20%20%20%20%20%20%20%20%20%20%20%20%20%20%20%20%20%20%20%20height%3A%20100.0%25%3B%0A%20%20%20%20%20%20%20%20%20%20%20%20%20%20%20%20%20%20%20%20left%3A%200.0%25%3B%0A%20%20%20%20%20%20%20%20%20%20%20%20%20%20%20%20%20%20%20%20top%3A%200.0%25%3B%0A%20%20%20%20%20%20%20%20%20%20%20%20%20%20%20%20%7D%0A%20%20%20%20%20%20%20%20%20%20%20%20%3C/style%3E%0A%20%20%20%20%20%20%20%20%0A%3C/head%3E%0A%3Cbody%3E%20%20%20%20%0A%20%20%20%20%0A%20%20%20%20%20%20%20%20%20%20%20%20%3Cdiv%20class%3D%22folium-map%22%20id%3D%22map_7c5c3e67c02a4db1969ce437a5bc2bda%22%20%3E%3C/div%3E%0A%20%20%20%20%20%20%20%20%0A%3C/body%3E%0A%3Cscript%3E%20%20%20%20%0A%20%20%20%20%0A%20%20%20%20%20%20%20%20%20%20%20%20var%20map_7c5c3e67c02a4db1969ce437a5bc2bda%20%3D%20L.map%28%0A%20%20%20%20%20%20%20%20%20%20%20%20%20%20%20%20%22map_7c5c3e67c02a4db1969ce437a5bc2bda%22%2C%0A%20%20%20%20%20%20%20%20%20%20%20%20%20%20%20%20%7B%0A%20%20%20%20%20%20%20%20%20%20%20%20%20%20%20%20%20%20%20%20center%3A%20%5B0%2C%200%5D%2C%0A%20%20%20%20%20%20%20%20%20%20%20%20%20%20%20%20%20%20%20%20crs%3A%20L.CRS.EPSG3857%2C%0A%20%20%20%20%20%20%20%20%20%20%20%20%20%20%20%20%20%20%20%20zoom%3A%201%2C%0A%20%20%20%20%20%20%20%20%20%20%20%20%20%20%20%20%20%20%20%20zoomControl%3A%20true%2C%0A%20%20%20%20%20%20%20%20%20%20%20%20%20%20%20%20%20%20%20%20preferCanvas%3A%20false%2C%0A%20%20%20%20%20%20%20%20%20%20%20%20%20%20%20%20%7D%0A%20%20%20%20%20%20%20%20%20%20%20%20%29%3B%0A%0A%20%20%20%20%20%20%20%20%20%20%20%20%0A%0A%20%20%20%20%20%20%20%20%0A%20%20%20%20%0A%20%20%20%20%20%20%20%20%20%20%20%20var%20tile_layer_158f63d21ce14be78eb4cd62f041f321%20%3D%20L.tileLayer%28%0A%20%20%20%20%20%20%20%20%20%20%20%20%20%20%20%20%22https%3A//%7Bs%7D.tile.openstreetmap.org/%7Bz%7D/%7Bx%7D/%7By%7D.png%22%2C%0A%20%20%20%20%20%20%20%20%20%20%20%20%20%20%20%20%7B%22attribution%22%3A%20%22Data%20by%20%5Cu0026copy%3B%20%5Cu003ca%20href%3D%5C%22http%3A//openstreetmap.org%5C%22%5Cu003eOpenStreetMap%5Cu003c/a%5Cu003e%2C%20under%20%5Cu003ca%20href%3D%5C%22http%3A//www.openstreetmap.org/copyright%5C%22%5Cu003eODbL%5Cu003c/a%5Cu003e.%22%2C%20%22detectRetina%22%3A%20false%2C%20%22maxNativeZoom%22%3A%2018%2C%20%22maxZoom%22%3A%2018%2C%20%22minZoom%22%3A%200%2C%20%22noWrap%22%3A%20false%2C%20%22opacity%22%3A%201%2C%20%22subdomains%22%3A%20%22abc%22%2C%20%22tms%22%3A%20false%7D%0A%20%20%20%20%20%20%20%20%20%20%20%20%29.addTo%28map_7c5c3e67c02a4db1969ce437a5bc2bda%29%3B%0A%20%20%20%20%20%20%20%20%0A%20%20%20%20%0A%20%20%20%20%20%20%20%20%20%20%20%20var%20marker_11577b07b37944ce99d110bd563d6325%20%3D%20L.marker%28%0A%20%20%20%20%20%20%20%20%20%20%20%20%20%20%20%20%5B39.10266%2C%20-84.52468%5D%2C%0A%20%20%20%20%20%20%20%20%20%20%20%20%20%20%20%20%7B%7D%0A%20%20%20%20%20%20%20%20%20%20%20%20%29.addTo%28map_7c5c3e67c02a4db1969ce437a5bc2bda%29%3B%0A%20%20%20%20%20%20%20%20%0A%3C/script%3E onload=\"this.contentDocument.open();this.contentDocument.write(    decodeURIComponent(this.getAttribute('data-html')));this.contentDocument.close();\" allowfullscreen webkitallowfullscreen mozallowfullscreen></iframe></div></div>"
      ],
      "text/plain": [
       "<folium.folium.Map at 0x22043905360>"
      ]
     },
     "execution_count": 21,
     "metadata": {},
     "output_type": "execute_result"
    }
   ],
   "source": [
    "marker.add_to(map)\n",
    "map"
   ]
  },
  {
   "cell_type": "code",
   "execution_count": 28,
   "id": "3343f131",
   "metadata": {},
   "outputs": [
    {
     "name": "stdout",
     "output_type": "stream",
     "text": [
      "('Start_Lat', 299281     33.165584\n",
      "115485     37.575070\n",
      "1480729    28.486842\n",
      "2333791    37.682417\n",
      "1031728    45.123027\n",
      "             ...    \n",
      "2254910    43.943930\n",
      "1572773    40.846088\n",
      "1510297    39.419041\n",
      "2169737    31.869660\n",
      "2088991    45.029890\n",
      "Name: Start_Lat, Length: 100, dtype: float64)\n",
      "('Start_Lng', 299281     -87.544120\n",
      "115485    -122.046900\n",
      "1480729    -81.418264\n",
      "2333791   -122.126156\n",
      "1031728    -93.335777\n",
      "              ...    \n",
      "2254910    -94.879170\n",
      "1572773   -121.911575\n",
      "1510297    -76.635636\n",
      "2169737   -106.440650\n",
      "2088991    -92.962040\n",
      "Name: Start_Lng, Length: 100, dtype: float64)\n"
     ]
    }
   ],
   "source": [
    "for x in df[['Start_Lat', 'Start_Lng']].sample(100).iteritems():\n",
    "    print(x)"
   ]
  },
  {
   "cell_type": "code",
   "execution_count": 59,
   "id": "1829a95f",
   "metadata": {},
   "outputs": [],
   "source": [
    "sample_df = df.sample(int(0.01*len(df)))"
   ]
  },
  {
   "cell_type": "code",
   "execution_count": 60,
   "id": "8fc638d1",
   "metadata": {},
   "outputs": [
    {
     "data": {
      "text/plain": [
       "[(34.04133, -118.06008),\n",
       " (37.37683, -77.41149),\n",
       " (32.698473, -96.823419),\n",
       " (30.403351, -87.339833),\n",
       " (36.11141, -80.23666999999998),\n",
       " (45.508672, -122.708357),\n",
       " (39.504529, -123.379715),\n",
       " (30.224861, -97.670031),\n",
       " (33.461383000000005, -112.117184),\n",
       " (39.669338, -75.600837),\n",
       " (32.279324, -110.989722),\n",
       " (35.616035, -119.331336),\n",
       " (35.2649, -81.260751),\n",
       " (41.5781, -87.64711),\n",
       " (37.145294, -122.335454),\n",
       " (42.85313, -78.864195),\n",
       " (43.97438, -124.097119),\n",
       " (32.804145, -97.42602),\n",
       " (40.137103, -74.224518),\n",
       " (37.42093, -122.09254),\n",
       " (44.351183, -93.952369),\n",
       " (42.33469, -71.06506),\n",
       " (46.413285, -112.008216),\n",
       " (30.271491, -97.77327),\n",
       " (36.89201, -76.258),\n",
       " (32.792965, -96.777948),\n",
       " (29.86013, -95.56378),\n",
       " (36.720453000000006, -121.593522),\n",
       " (32.97972, -117.086859),\n",
       " (41.632765, -93.575223),\n",
       " (42.4688, -82.91919),\n",
       " (41.98258, -83.371044),\n",
       " (42.35494, -83.4362),\n",
       " (38.833955, -77.11911500000002),\n",
       " (43.17929, -77.64448),\n",
       " (34.15181, -118.12622),\n",
       " (35.835224, -78.67008),\n",
       " (39.165512, -119.929805),\n",
       " (38.310226, -122.690873),\n",
       " (44.15735, -121.26097),\n",
       " (34.580229, -118.049243),\n",
       " (41.100638, -74.033015),\n",
       " (36.178184, -93.965704),\n",
       " (35.921012, -87.600914),\n",
       " (45.038324, -120.717104),\n",
       " (40.631372, -112.053407),\n",
       " (33.113369, -110.099504),\n",
       " (34.06726, -117.53581),\n",
       " (37.94844000000001, -122.512632),\n",
       " (33.958778, -117.065216),\n",
       " (34.234424, -118.642591),\n",
       " (34.190047, -79.800025),\n",
       " (34.728072, -82.727769),\n",
       " (35.48431, -82.55929),\n",
       " (31.47752100000001, -84.866635),\n",
       " (34.200664, -118.473467),\n",
       " (40.0621, -77.47825999999998),\n",
       " (34.404411, -118.588853),\n",
       " (45.17921, -93.116),\n",
       " (27.07219000000001, -80.246983),\n",
       " (33.428166999999995, -86.821292),\n",
       " (39.016131, -77.01947),\n",
       " (33.130004, -117.208305),\n",
       " (37.553644, -77.371461),\n",
       " (43.589797, -116.248638),\n",
       " (33.462070000000004, -112.07012),\n",
       " (30.198555, -81.739311),\n",
       " (32.377246, -111.035816),\n",
       " (36.853197, -80.862818),\n",
       " (34.15006, -118.46844),\n",
       " (38.759547, -76.061995),\n",
       " (33.089628999999995, -117.079807),\n",
       " (42.46633, -83.23241999999998),\n",
       " (37.55458400000001, -97.27311),\n",
       " (33.470463, -84.89733100000002),\n",
       " (36.05148, -86.66975699999998),\n",
       " (39.394595, -123.710889),\n",
       " (29.830595, -81.381536),\n",
       " (28.56524000000001, -81.1657),\n",
       " (45.020052, -123.968921),\n",
       " (37.75251, -122.403005),\n",
       " (39.34529000000001, -76.49358000000002),\n",
       " (35.016145, -85.163176),\n",
       " (34.034371, -118.365062),\n",
       " (42.37853, -83.43658),\n",
       " (32.96458, -117.0957),\n",
       " (33.66892, -112.07623),\n",
       " (34.060520000000004, -81.04902),\n",
       " (33.691446, -79.472668),\n",
       " (25.689706, -80.33366600000002),\n",
       " (36.06185, -95.922188),\n",
       " (38.613024, -121.40148),\n",
       " (37.24596, -121.96139),\n",
       " (25.957044, -80.206941),\n",
       " (36.29517, -119.136103),\n",
       " (33.783381, -117.491122),\n",
       " (39.12730300000001, -121.55583500000002),\n",
       " (41.74925, -71.483213),\n",
       " (47.673014, -117.287818),\n",
       " (34.042949, -118.272635),\n",
       " (38.558214, -121.472164),\n",
       " (35.824238, -78.61851800000002),\n",
       " (34.031896, -118.417066),\n",
       " (40.765419, -111.93923),\n",
       " (40.339858, -111.607641),\n",
       " (46.985982, -122.922474),\n",
       " (28.449055, -81.470923),\n",
       " (37.679106, -113.061743),\n",
       " (36.517401, -119.454985),\n",
       " (34.0069, -118.28113),\n",
       " (25.939345, -80.296654),\n",
       " (32.748645, -117.122304),\n",
       " (47.253795, -122.436393),\n",
       " (33.99048, -118.06482),\n",
       " (45.137795, -93.494391),\n",
       " (34.029947, -118.442112),\n",
       " (32.90902, -117.116478),\n",
       " (44.947181, -93.040305),\n",
       " (37.55136, -77.44074),\n",
       " (33.62964, -84.30024),\n",
       " (33.831377, -118.084109),\n",
       " (26.643165000000003, -80.068748),\n",
       " (38.410331, -78.675523),\n",
       " (27.818316, -82.66453299999998),\n",
       " (33.654920000000004, -84.36503),\n",
       " (39.83912, -75.40878000000002),\n",
       " (29.719575, -95.476394),\n",
       " (30.488712, -86.42365600000002),\n",
       " (34.15364, -118.46759),\n",
       " (34.023514, -118.044087),\n",
       " (27.806335, -81.315763),\n",
       " (33.942370000000004, -118.09755),\n",
       " (36.210724, -119.384374),\n",
       " (25.69891, -80.38217900000002),\n",
       " (45.74778, -95.88185),\n",
       " (38.660211, -121.347637),\n",
       " (36.127906, -86.843183),\n",
       " (37.511356, -121.937638),\n",
       " (45.978866, -92.955204),\n",
       " (46.905019, -118.611344),\n",
       " (44.662594, -121.134393),\n",
       " (25.48534, -80.467102),\n",
       " (29.875656, -95.284783),\n",
       " (39.548522, -76.33551899999998),\n",
       " (38.825479, -90.522054),\n",
       " (41.06408, -75.7074),\n",
       " (37.754482, -122.403149),\n",
       " (30.34083, -91.137874),\n",
       " (34.833081, -82.29708000000002),\n",
       " (42.750196, -71.217127),\n",
       " (34.005720000000004, -117.96019),\n",
       " (35.82059, -78.743895),\n",
       " (34.23561, -118.41232),\n",
       " (41.179339, -111.997483),\n",
       " (42.424317, -123.335233),\n",
       " (33.134535, -117.329524),\n",
       " (29.94536, -90.07888),\n",
       " (30.053991, -89.938877),\n",
       " (45.28279000000001, -95.97355),\n",
       " (37.7014, -121.87685),\n",
       " (35.58580999999999, -89.09155),\n",
       " (32.878139000000004, -117.20051399999998),\n",
       " (34.030345000000004, -117.63626200000002),\n",
       " (36.025167, -87.18218900000002),\n",
       " (28.54708, -81.27017),\n",
       " (39.178436, -76.634606),\n",
       " (33.80443, -118.20754),\n",
       " (41.867141, -87.64450699999998),\n",
       " (42.425543, -122.847372),\n",
       " (36.29052100000001, -119.205487),\n",
       " (40.83541, -73.88211),\n",
       " (30.094141, -83.635633),\n",
       " (30.03830300000001, -82.676991),\n",
       " (38.617906, -121.393315),\n",
       " (41.054211, -73.526782),\n",
       " (38.447125, -81.84702800000002),\n",
       " (33.7791, -117.888768),\n",
       " (40.77706, -111.94931),\n",
       " (38.71318, -90.44765),\n",
       " (27.894061, -82.644535),\n",
       " (44.78608, -93.2887),\n",
       " (34.156848, -118.41692),\n",
       " (37.76937, -122.41783),\n",
       " (39.07851, -94.490495),\n",
       " (41.101881, -73.434665),\n",
       " (42.35474, -83.08440999999998),\n",
       " (39.19253, -76.77131999999997),\n",
       " (30.28863, -81.988917),\n",
       " (34.083189000000004, -117.846667),\n",
       " (35.18592, -80.72998),\n",
       " (30.343317, -81.66824799999998),\n",
       " (36.08995, -95.81531),\n",
       " (37.319089, -77.312563),\n",
       " (32.883721, -80.715018),\n",
       " (25.94678, -80.207356),\n",
       " (36.986646, -121.940506),\n",
       " (39.05584, -94.49347),\n",
       " (28.978345, -81.250546),\n",
       " (34.00490300000001, -117.930245),\n",
       " (32.719007, -117.098902),\n",
       " (25.946863, -80.294126),\n",
       " (33.12723, -117.10502),\n",
       " (40.58781, -111.929201),\n",
       " (34.47208, -83.06305),\n",
       " (37.63912, -122.40541),\n",
       " (45.658482, -118.729022),\n",
       " (42.803968, -74.018036),\n",
       " (25.731159, -80.335665),\n",
       " (44.85957, -93.394614),\n",
       " (30.06127, -95.43363),\n",
       " (34.449839000000004, -117.642799),\n",
       " (33.462471, -112.070256),\n",
       " (33.925957000000004, -118.239898),\n",
       " (28.39295, -81.244247),\n",
       " (38.767239, -76.994511),\n",
       " (42.42128, -123.11945),\n",
       " (35.052228, -80.84966700000003),\n",
       " (32.935928999999994, -117.232236),\n",
       " (33.562813, -112.116004),\n",
       " (38.53956, -90.48433),\n",
       " (37.732747, -120.976928),\n",
       " (32.688499, -117.093497),\n",
       " (27.193361, -82.114723),\n",
       " (45.225187, -93.607818),\n",
       " (39.492074, -74.99584899999998),\n",
       " (40.585299, -122.360732),\n",
       " (36.623329, -119.68066),\n",
       " (37.043913, -76.398228),\n",
       " (30.148718, -82.69738000000002),\n",
       " (42.412017, -123.149871),\n",
       " (41.77822000000001, -87.6301),\n",
       " (37.69963, -121.92952),\n",
       " (37.555273, -122.029811),\n",
       " (31.73447, -82.222827),\n",
       " (40.503202, -80.07686899999999),\n",
       " (29.783887, -95.536096),\n",
       " (34.17715, -118.468424),\n",
       " (25.940336, -80.1887),\n",
       " (42.282755, -87.950482),\n",
       " (25.652265, -80.4156),\n",
       " (34.216414, -118.473351),\n",
       " (25.598639, -80.35282),\n",
       " (38.09092, -122.813924),\n",
       " (40.478643, -80.043715),\n",
       " (33.519612, -117.619699),\n",
       " (30.41133, -90.03681999999998),\n",
       " (35.30426, -96.94338),\n",
       " (32.781439, -117.162603),\n",
       " (38.990994, -77.077084),\n",
       " (35.864299, -84.420629),\n",
       " (44.06261, -123.074072),\n",
       " (39.964517, -75.182117),\n",
       " (38.894446, -121.294093),\n",
       " (34.03715, -117.55006000000002),\n",
       " (41.05843400000001, -73.83109),\n",
       " (41.588481, -72.900888),\n",
       " (30.343455, -91.027339),\n",
       " (32.977909999999994, -117.0873),\n",
       " (28.342167, -81.40384),\n",
       " (38.614207, -121.532725),\n",
       " (28.36503, -81.309619),\n",
       " (29.07790300000001, -81.98175),\n",
       " (35.01463, -85.210306),\n",
       " (42.38334, -83.21757),\n",
       " (25.888477, -80.323995),\n",
       " (37.786142, -122.27662),\n",
       " (42.25501, -83.44055),\n",
       " (37.249769, -93.274396),\n",
       " (38.424989, -77.421226),\n",
       " (25.928351, -80.293413),\n",
       " (38.643406, -121.433596),\n",
       " (37.874748, -122.186742),\n",
       " (37.487634, -122.206018),\n",
       " (38.668543, -77.33359200000002),\n",
       " (38.284388, -122.723777),\n",
       " (33.37833, -111.89327),\n",
       " (44.001448, -92.483748),\n",
       " (35.112262, -85.266625),\n",
       " (45.214008, -123.101967),\n",
       " (38.134714, -122.259711),\n",
       " (37.94569, -120.274849),\n",
       " (39.58424, -77.63589),\n",
       " (37.204312, -93.31227),\n",
       " (32.74792, -83.71646),\n",
       " (39.76363900000001, -104.785182),\n",
       " (26.37208, -80.17079),\n",
       " (37.88353, -122.30864),\n",
       " (40.63997, -74.29014000000002),\n",
       " (33.139549, -117.105006),\n",
       " (28.401674, -81.483173),\n",
       " (38.556682, -121.396754),\n",
       " (32.76621, -96.85685),\n",
       " (37.040029, -77.62483399999998),\n",
       " (38.599542, -121.44103),\n",
       " (26.336537, -80.117343),\n",
       " (42.917227, -85.63127800000002),\n",
       " (40.772891, -74.033125),\n",
       " (39.200826, -121.058605),\n",
       " (45.407118, -87.35968199999998),\n",
       " (36.968811, -119.597221),\n",
       " (39.42226, -120.035258),\n",
       " (40.66141, -74.18448000000002),\n",
       " (39.913169, -86.08359899999998),\n",
       " (41.871119, -87.85056999999998),\n",
       " (35.205227, -80.636698),\n",
       " (33.978875, -118.225227),\n",
       " (28.577486, -81.476862),\n",
       " (38.631631, -121.398035),\n",
       " (25.48462, -80.459293),\n",
       " (35.874538, -78.699823),\n",
       " (37.367857, -79.92161999999998),\n",
       " (37.60263, -122.063864),\n",
       " (45.486417, -122.771028),\n",
       " (41.47509, -81.7165),\n",
       " (37.229254, -93.264064),\n",
       " (45.77592, -92.990137),\n",
       " (33.778678, -117.89522),\n",
       " (28.26538, -80.71808),\n",
       " (45.596716, -122.06261200000002),\n",
       " (34.593647999999995, -117.841144),\n",
       " (25.627093, -80.38489),\n",
       " (32.664120000000004, -117.0793),\n",
       " (37.92233, -122.34755),\n",
       " (36.882462, -76.216775),\n",
       " (35.078321, -81.720883),\n",
       " (33.964459999999995, -117.32559),\n",
       " (32.617994, -90.579179),\n",
       " (35.00592, -89.7955),\n",
       " (33.45924, -112.00607),\n",
       " (33.949808000000004, -80.979773),\n",
       " (33.010535, -117.264644),\n",
       " (37.6982, -121.92182),\n",
       " (34.136540000000004, -117.48842),\n",
       " (33.989215, -118.241834),\n",
       " (30.545103000000005, -83.317247),\n",
       " (38.878501, -77.263101),\n",
       " (28.492947, -81.396759),\n",
       " (42.362429, -83.070995),\n",
       " (42.34127, -83.04952),\n",
       " (39.44125, -76.347738),\n",
       " (38.761079, -90.15891),\n",
       " (35.535846, -80.573998),\n",
       " (33.844712, -117.828327),\n",
       " (28.452192, -81.400388),\n",
       " (33.853786, -117.928364),\n",
       " (43.29687, -123.35078),\n",
       " (37.72305, -121.10104),\n",
       " (28.56641500000001, -81.286017),\n",
       " (38.563739, -121.514636),\n",
       " (38.657058, -78.67016600000002),\n",
       " (43.482982, -121.901604),\n",
       " (40.141261, -75.142741),\n",
       " (39.822725, -75.487629),\n",
       " (32.634809999999995, -97.34897),\n",
       " (34.656009999999995, -84.98501),\n",
       " (37.48768, -122.20653),\n",
       " (34.87262, -82.120254),\n",
       " (25.930897, -80.426275),\n",
       " (37.673383, -122.468222),\n",
       " (41.324375, -72.882839),\n",
       " (40.672994, -122.877862),\n",
       " (43.20607, -71.71016),\n",
       " (38.640508, -121.326788),\n",
       " (35.203762, -80.72223699999998),\n",
       " (33.191203, -117.122008),\n",
       " (32.717851, -96.75874),\n",
       " (40.874172, -73.905683),\n",
       " (26.682195, -81.897481),\n",
       " (40.69662, -111.93751),\n",
       " (43.12227, -77.64766),\n",
       " (38.325725, -122.488274),\n",
       " (34.319747, -117.481361),\n",
       " (32.22155, -110.87731399999998),\n",
       " (33.360942, -81.484659),\n",
       " (47.570062, -94.835959),\n",
       " (38.609228, -78.480319),\n",
       " (33.462638, -84.210012),\n",
       " (34.248247, -111.290158),\n",
       " (34.033303000000004, -118.12502),\n",
       " (33.937293, -118.097845),\n",
       " (33.786535, -118.094154),\n",
       " (27.862576, -82.70085999999998),\n",
       " (33.191203, -117.122008),\n",
       " (41.92884, -88.10104),\n",
       " (37.721881, -121.098937),\n",
       " (34.160129, -80.50014399999998),\n",
       " (33.352946, -86.646658),\n",
       " (39.32558, -120.3932),\n",
       " (43.29444, -83.821013),\n",
       " (28.878432, -82.092536),\n",
       " (35.773584, -78.690798),\n",
       " (44.06842, -89.337618),\n",
       " (33.657851, -117.777761),\n",
       " (37.32373, -120.623758),\n",
       " (36.141474, -86.800239),\n",
       " (40.84738, -73.92541999999997),\n",
       " (34.066384, -117.462524),\n",
       " (45.443213, -122.742618),\n",
       " (33.510409, -86.878237),\n",
       " (36.97351, -76.41978),\n",
       " (28.055789, -82.71151),\n",
       " (30.745428000000004, -85.166348),\n",
       " (27.172528000000003, -80.312238),\n",
       " (37.701068, -121.844097),\n",
       " (29.108568, -82.017134),\n",
       " (33.85423, -117.947212),\n",
       " (45.279883, -118.014224),\n",
       " (43.10062, -87.91808),\n",
       " (33.925024, -118.326561),\n",
       " (39.518788, -77.327812),\n",
       " (34.115788, -117.29641200000002),\n",
       " (26.108437, -80.168726),\n",
       " (42.24729, -88.95595),\n",
       " (40.74058, -73.89903000000002),\n",
       " (47.55504000000001, -122.07756),\n",
       " (37.037847, -76.391476),\n",
       " (36.735787, -119.615881),\n",
       " (33.880866, -117.652305),\n",
       " (34.70092, -118.16987),\n",
       " (39.446793, -76.330853),\n",
       " (30.510594, -87.22410699999998),\n",
       " (27.703549, -80.895252),\n",
       " (37.679892, -77.663234),\n",
       " (42.3821, -83.519832),\n",
       " (37.035539, -121.597242),\n",
       " (30.19392, -81.556373),\n",
       " (40.763611, -73.953358),\n",
       " (32.2161, -110.8068),\n",
       " (33.492662, -117.660991),\n",
       " (45.535056, -122.583298),\n",
       " (32.92807, -96.7602),\n",
       " (28.178096000000004, -81.440217),\n",
       " (35.204424, -82.37225500000002),\n",
       " (36.977908, -121.910367),\n",
       " (38.687629, -77.313017),\n",
       " (32.689890000000005, -114.58665),\n",
       " (25.714117, -80.427899),\n",
       " (37.923184, -122.359124),\n",
       " (29.708763, -96.53928),\n",
       " (43.486829, -73.757183),\n",
       " (29.78475, -95.68309),\n",
       " (42.69436, -73.844),\n",
       " (29.136317, -81.140774),\n",
       " (40.861233, -76.585974),\n",
       " (35.135049, -80.777069),\n",
       " (33.595353, -86.652017),\n",
       " (44.735228, -92.85249),\n",
       " (28.597322, -81.299982),\n",
       " (32.322790000000005, -110.97488),\n",
       " (37.98809, -122.07125),\n",
       " (29.999974, -82.597472),\n",
       " (34.06835, -117.79955),\n",
       " (41.695703, -88.26147399999998),\n",
       " (27.388179, -82.466943),\n",
       " (44.015496, -117.00537),\n",
       " (33.632726, -117.725673),\n",
       " (29.73281, -95.501301),\n",
       " (32.645895, -96.786932),\n",
       " (25.76974, -80.332308),\n",
       " (33.23903, -79.966495),\n",
       " (34.014242, -85.220579),\n",
       " (39.605075, -77.73670600000001),\n",
       " (43.02325, -74.89421),\n",
       " (40.03177700000001, -75.586304),\n",
       " (28.370292, -81.38988499999998),\n",
       " (34.440364, -119.76905),\n",
       " (33.65214, -117.76628999999998),\n",
       " (41.245111, -73.10241500000002),\n",
       " (34.053677, -117.689248),\n",
       " (44.89064000000001, -93.26783),\n",
       " (39.871565, -84.89389399999997),\n",
       " (40.725302, -111.98646),\n",
       " (32.750962, -83.71430699999998),\n",
       " (27.268183, -82.464486),\n",
       " (33.011161, -80.287693),\n",
       " (41.70487, -87.58937),\n",
       " (43.78098, -70.19533),\n",
       " (35.983235, -121.491027),\n",
       " (36.075058, -86.635012),\n",
       " (33.389158, -117.191479),\n",
       " (37.66128, -122.40278),\n",
       " (29.75837000000001, -82.141028),\n",
       " (38.189581, -85.771718),\n",
       " (40.995755, -111.39719),\n",
       " (34.065477, -117.999957),\n",
       " (34.186492, -117.430895),\n",
       " (47.889498, -122.141636),\n",
       " (40.676718, -74.001384),\n",
       " (39.902955, -75.11589599999998),\n",
       " (45.22695, -122.81367),\n",
       " (25.893601, -80.261645),\n",
       " (45.895695, -122.45413),\n",
       " (39.93909, -82.84814),\n",
       " (36.185756, -119.83053),\n",
       " (42.947268, -83.50475300000002),\n",
       " (29.965091, -90.062495),\n",
       " (34.056201, -118.003079),\n",
       " (43.153518, -77.484895),\n",
       " (42.410885, -83.166257),\n",
       " (32.75908, -96.9174),\n",
       " (39.764509, -84.148287),\n",
       " (33.94028, -118.024016),\n",
       " (33.960141, -118.231589),\n",
       " (38.801554, -77.521151),\n",
       " (46.348839, -96.146775),\n",
       " (38.423198, -122.775074),\n",
       " (44.767546, -94.915448),\n",
       " (28.539098, -81.285691),\n",
       " (45.15244000000001, -122.8965),\n",
       " (40.001097, -85.77475),\n",
       " (25.598565, -80.35525200000002),\n",
       " (40.73692, -73.853449),\n",
       " (40.70812, -74.18911),\n",
       " (37.238699, -121.995079),\n",
       " (32.91407, -96.869426),\n",
       " (39.497147, -121.458224),\n",
       " (33.953558, -118.130024),\n",
       " (30.381586, -87.306058),\n",
       " (29.733119, -95.476568),\n",
       " (40.259718, -75.604117),\n",
       " (28.342677, -81.393989),\n",
       " (39.391318, -76.435865),\n",
       " (29.950840000000003, -90.1006),\n",
       " (40.75895, -73.99948),\n",
       " (25.763863, -80.303919),\n",
       " (40.08698, -74.21551),\n",
       " (37.658601, -77.615166),\n",
       " (30.364371, -91.000802),\n",
       " (40.465124, -78.415228),\n",
       " (34.130541, -117.503231),\n",
       " (37.207797, -121.720734),\n",
       " (34.462486, -120.01499),\n",
       " (28.786343, -81.35795300000002),\n",
       " (32.82791, -111.81757),\n",
       " (25.673535, -80.44412),\n",
       " (37.98992, -122.52869),\n",
       " (43.19334, -77.62909),\n",
       " (34.147149, -119.135624),\n",
       " (32.782205, -117.140404),\n",
       " (37.988671, -120.441432),\n",
       " (40.856398, -93.499409),\n",
       " (45.543525, -122.674925),\n",
       " (38.92986, -76.87108),\n",
       " (40.129741, -75.44975),\n",
       " (36.859029, -76.30210100000002),\n",
       " (27.95593, -82.46595),\n",
       " (34.057064000000004, -117.867406),\n",
       " (34.154444, -118.314546),\n",
       " (39.68874, -104.97125),\n",
       " (46.010946, -92.884973),\n",
       " (34.344961, -117.453842),\n",
       " (39.096244, -94.566021),\n",
       " (25.517974, -80.426571),\n",
       " (44.236017, -123.19906),\n",
       " (40.237558, -75.306206),\n",
       " (25.719991, -80.321484),\n",
       " (32.686602, -97.06273),\n",
       " (39.075813, -94.608278),\n",
       " (34.038781, -118.585562),\n",
       " (32.88792, -96.70506),\n",
       " (29.964964, -95.291851),\n",
       " (35.08508, -93.392818),\n",
       " (27.864517, -82.638725),\n",
       " (40.81699, -111.91889),\n",
       " (42.93322, -78.80948000000002),\n",
       " (31.269661, -92.469906),\n",
       " (45.912154, -112.355493),\n",
       " (33.485094000000004, -88.48715899999998),\n",
       " (33.535624, -112.269829),\n",
       " (30.429283, -91.057218),\n",
       " (33.57796, -112.31098),\n",
       " (40.290287, -75.317727),\n",
       " (40.942308, -122.435995),\n",
       " (32.649382, -117.103582),\n",
       " (45.824008, -94.288396),\n",
       " (30.222790000000003, -97.67752),\n",
       " (41.80697, -72.62105),\n",
       " (42.22606, -83.685263),\n",
       " (37.046091, -122.059916),\n",
       " (41.85329, -87.9331),\n",
       " (40.22822, -76.88895),\n",
       " (25.774141, -80.32066),\n",
       " (35.175833000000004, -119.005),\n",
       " (30.041949, -89.967683),\n",
       " (41.86489, -71.51451999999998),\n",
       " (38.77349, -77.18231),\n",
       " (43.65578, -116.35413),\n",
       " (33.882333, -117.588181),\n",
       " (39.896663, -75.494353),\n",
       " (41.319865, -73.979718),\n",
       " (37.77848, -122.40061),\n",
       " (36.13581, -86.724971),\n",
       " (26.6412, -81.839096),\n",
       " (40.809971, -73.90237900000002),\n",
       " (26.303189, -81.34271600000002),\n",
       " (32.279398, -90.0),\n",
       " (34.135884000000004, -117.580951),\n",
       " (34.263568, -119.244693),\n",
       " (25.69898, -80.382134),\n",
       " (33.967226000000004, -118.371303),\n",
       " (35.78213, -78.678882),\n",
       " (39.418375, -77.45186600000002),\n",
       " (39.615486, -107.137395),\n",
       " (40.20335, -111.65548),\n",
       " (43.02838, -88.035162),\n",
       " (45.010032, -93.182978),\n",
       " (38.560071, -121.478187),\n",
       " (34.002971, -117.951255),\n",
       " (39.913169, -86.08359899999998),\n",
       " (39.219356, -76.658617),\n",
       " (47.44942, -111.341836),\n",
       " (28.386385, -81.481526),\n",
       " (42.045957, -122.604954),\n",
       " (33.872040000000005, -117.80029),\n",
       " (35.85749000000001, -78.809264),\n",
       " (33.720055, -117.796064),\n",
       " (46.11626, -123.26675),\n",
       " (33.865983, -118.330831),\n",
       " (41.02877, -111.94657),\n",
       " (25.881657, -80.35433499999998),\n",
       " (25.823886, -80.242068),\n",
       " (36.818308, -121.632633),\n",
       " (43.890079, -124.119563),\n",
       " (33.657219, -117.76003),\n",
       " (45.3731, -122.72935),\n",
       " (39.011482, -94.074943),\n",
       " (45.155042, -93.509005),\n",
       " (41.8153, -87.63048),\n",
       " (39.871091, -75.323371),\n",
       " (38.992699, -76.37439599999998),\n",
       " (38.65744, -121.38294),\n",
       " (39.73098, -121.881751),\n",
       " (25.889296, -80.16624300000002),\n",
       " (32.747701, -80.832327),\n",
       " (28.554434000000004, -81.31081999999998),\n",
       " (40.878611, -73.921),\n",
       " (34.1611, -118.469614),\n",
       " (33.89297, -117.50028),\n",
       " (35.015939, -85.203097),\n",
       " (29.971329, -90.104148),\n",
       " (33.500919, -117.151209),\n",
       " (42.687603, -123.392118),\n",
       " (40.731684, -75.306407),\n",
       " (29.77873300000001, -95.186642),\n",
       " (33.417099, -81.475329),\n",
       " (33.359732, -86.777774),\n",
       " (25.785299, -80.2812),\n",
       " (30.315355, -81.77034599999998),\n",
       " (33.899963, -79.721176),\n",
       " (32.75926, -97.21769),\n",
       " (45.515485, -122.693263),\n",
       " (44.9666, -93.27349),\n",
       " (45.16475, -120.6897),\n",
       " (37.100362, -93.237649),\n",
       " (34.145109999999995, -118.21721399999998),\n",
       " (37.98392, -122.041279),\n",
       " (40.211645, -75.185979),\n",
       " (33.006997, -81.752911),\n",
       " (32.68523, -96.74711),\n",
       " (35.834825, -78.64132),\n",
       " (45.901541, -93.433356),\n",
       " (37.595677, -77.583409),\n",
       " (27.780792, -82.334879),\n",
       " (35.87586500000001, -119.85321100000002),\n",
       " (32.991168, -117.255743),\n",
       " (38.590105, -120.846364),\n",
       " (38.553088, -121.375116),\n",
       " (41.08925, -111.98917),\n",
       " (40.23958, -76.89325600000002),\n",
       " (33.719120000000004, -84.39681),\n",
       " (37.911062, -122.513183),\n",
       " (36.787115, -119.610181),\n",
       " (36.900773, -121.59793),\n",
       " (32.793593, -96.726127),\n",
       " (38.646514, -121.068296),\n",
       " (33.569663, -117.672066),\n",
       " (33.8557, -117.7865),\n",
       " (40.347365, -111.765149),\n",
       " (47.65816, -122.92492),\n",
       " (33.690815, -79.11314499999997),\n",
       " (41.723525, -78.676694),\n",
       " (36.13477, -86.78403),\n",
       " (47.846072, -122.25876),\n",
       " (42.78321, -86.08061),\n",
       " (25.505546, -80.396097),\n",
       " (45.9157, -119.352673),\n",
       " (41.283328, -72.85175),\n",
       " (34.067322999999995, -117.554317),\n",
       " (34.226607, -118.380249),\n",
       " (44.928729, -92.965725),\n",
       " (41.956011, -91.67069),\n",
       " (25.927158, -80.200298),\n",
       " (34.01085, -117.430897),\n",
       " (43.218, -76.3585),\n",
       " (38.59085, -121.50469),\n",
       " (39.554218, -78.022821),\n",
       " (40.64092, -75.26865),\n",
       " (30.00105, -95.269251),\n",
       " (33.869040000000005, -117.729725),\n",
       " (39.287109, -76.73941500000002),\n",
       " (32.888005, -96.89798),\n",
       " (42.359973, -88.03326700000002),\n",
       " (33.85688, -117.98423),\n",
       " (36.260359, -86.712863),\n",
       " (40.201525, -75.139193),\n",
       " (33.776433000000004, -117.900683),\n",
       " (38.183852, -85.508512),\n",
       " (33.382526, -117.173835),\n",
       " (29.949406, -90.099879),\n",
       " (33.854437, -117.79064),\n",
       " (25.885706, -80.134745),\n",
       " (40.44601, -111.47707),\n",
       " (28.492988, -81.432553),\n",
       " (38.82569, -77.122114),\n",
       " (37.701363, -122.119349),\n",
       " (43.22388, -77.54485),\n",
       " (40.237638, -75.615942),\n",
       " (42.199104, -121.702616),\n",
       " (37.344004, -79.994318),\n",
       " (39.81191, -86.17522),\n",
       " (30.348852, -97.713327),\n",
       " (38.591239, -77.317665),\n",
       " (37.75385, -113.05527),\n",
       " (30.087564, -82.638577),\n",
       " (35.73960800000001, -78.568926),\n",
       " (45.0354, -93.08284),\n",
       " (33.622436, -117.269469),\n",
       " (39.868634, -75.308486),\n",
       " (35.426226, -118.818491),\n",
       " (37.78699, -122.389859),\n",
       " (37.429774, -121.918596),\n",
       " (33.701588, -117.858787),\n",
       " (36.95437, -119.793945),\n",
       " (28.44992, -81.479424),\n",
       " (38.671352, -121.586093),\n",
       " (30.328256, -87.16065400000002),\n",
       " (36.84585, -121.70651),\n",
       " (37.731621, -113.055222),\n",
       " (39.725414, -105.024629),\n",
       " (41.630576, -72.686287),\n",
       " (29.791153, -95.456951),\n",
       " (38.53563, -90.19662),\n",
       " (29.094886, -95.415727),\n",
       " (41.108731, -73.5009),\n",
       " (45.55298, -122.67879),\n",
       " (36.23147700000001, -86.616839),\n",
       " (37.754036, -121.48511),\n",
       " (38.577964, -75.970589),\n",
       " (35.752293, -78.70727600000002),\n",
       " (33.751717, -84.49638399999998),\n",
       " (29.581278, -98.641144),\n",
       " (29.87845, -95.412142),\n",
       " (40.827337, -72.947019),\n",
       " (30.04843, -89.95776),\n",
       " (40.019472, -75.04502099999998),\n",
       " (41.046619, -111.957442),\n",
       " (33.193615, -117.25369),\n",
       " (45.087487, -123.403628),\n",
       " (39.234463, -121.107485),\n",
       " (26.104095, -80.265196),\n",
       " (27.847426, -82.827258),\n",
       " (44.304031, -92.68926),\n",
       " (44.05274, -121.30719),\n",
       " (37.425441, -77.498403),\n",
       " (28.204529, -82.666043),\n",
       " (33.85991, -118.30502),\n",
       " (33.707653, -112.116519),\n",
       " (39.828158, -75.103911),\n",
       " (41.174413, -73.81131500000002),\n",
       " (41.87559, -87.66181999999998),\n",
       " (33.689459, -117.905566),\n",
       " (42.687109, -123.391367),\n",
       " (28.539705, -81.497998),\n",
       " (40.17957, -104.979672),\n",
       " (35.09553, -89.75),\n",
       " (46.643689, -112.011398),\n",
       " (35.146846000000004, -85.20652),\n",
       " (34.1227, -118.478579),\n",
       " (41.157706, -96.145259),\n",
       " (28.346512, -81.328526),\n",
       " (41.288295, -72.529012),\n",
       " (37.35478, -122.11216),\n",
       " (40.745249, -73.769491),\n",
       " (34.959352, -81.182264),\n",
       " (32.743964, -117.185869),\n",
       " (37.250338, -78.43791800000002),\n",
       " (25.892036, -80.24954),\n",
       " (32.959922, -97.306306),\n",
       " (34.567959, -82.465057),\n",
       " (40.689335, -122.933373),\n",
       " (33.990465, -86.971324),\n",
       " (28.222817, -80.72255200000002),\n",
       " (43.126492, -77.475974),\n",
       " (27.857013, -82.32759200000002),\n",
       " (40.249605, -75.663847),\n",
       " (33.807731, -84.417132),\n",
       " (33.803448, -117.505384),\n",
       " (34.819857, -82.26783499999998),\n",
       " (35.108728, -118.319959),\n",
       " (42.26370900000001, -121.493403),\n",
       " (45.02836, -92.784965),\n",
       " (32.89385, -79.98304),\n",
       " (32.569518, -97.318957),\n",
       " (37.512431, -77.447843),\n",
       " (44.85889, -93.35017),\n",
       " (33.534209999999995, -111.422556),\n",
       " (32.276739, -90.189113),\n",
       " (31.760766, -106.268273),\n",
       " (40.169802, -74.109724),\n",
       " (33.474408000000004, -112.112957),\n",
       " (33.929702, -80.832375),\n",
       " (34.048234, -117.12138),\n",
       " (35.23212, -80.84488),\n",
       " (28.476285, -81.451991),\n",
       " (47.536422, -113.718916),\n",
       " (34.0171, -118.48254),\n",
       " (29.770277, -95.217014),\n",
       " (46.883239, -113.580038),\n",
       " (29.592142, -98.58784),\n",
       " (39.07344000000001, -77.11185),\n",
       " (28.03253, -82.13271),\n",
       " (36.923734, -120.022147),\n",
       " (34.219186, -117.410459),\n",
       " (38.272429, -122.09259),\n",
       " (40.55267, -79.757036),\n",
       " (26.097364, -80.241325),\n",
       " (33.484686, -117.141991),\n",
       " (45.14944000000001, -121.06051),\n",
       " (38.828221, -91.050685),\n",
       " (40.435101, -79.98176600000002),\n",
       " (39.159945, -121.751372),\n",
       " (40.749782, -73.987737),\n",
       " (38.57398900000001, -121.384491),\n",
       " (39.379231, -76.449205),\n",
       " (33.881547999999995, -117.580431),\n",
       " (25.796856, -80.385059),\n",
       " (45.37542, -122.75555),\n",
       " (45.581158, -118.584992),\n",
       " (35.104054, -80.931033),\n",
       " (37.849086, -122.229974),\n",
       " (40.693633, -111.54424),\n",
       " (35.478211, -81.229895),\n",
       " (40.74888, -73.85010799999998),\n",
       " (34.18212, -117.17423),\n",
       " (41.168245, -73.224825),\n",
       " (27.970841, -82.578412),\n",
       " (34.088891, -117.994462),\n",
       " (28.174847, -82.740401),\n",
       " (25.625151, -80.41441400000002),\n",
       " (33.8958, -84.45173),\n",
       " (26.68388400000001, -81.798872),\n",
       " (33.871482, -117.68551399999998),\n",
       " (40.707964, -74.156134),\n",
       " (34.903181, -82.318564),\n",
       " (35.20838900000001, -80.757625),\n",
       " (38.95330300000001, -77.068822),\n",
       " (39.067607, -77.158005),\n",
       " (48.208865, -116.719917),\n",
       " (37.42435800000001, -76.832274),\n",
       " (45.425867, -94.08679),\n",
       " (29.84192100000001, -95.371669),\n",
       " (34.344173, -117.461646),\n",
       " (47.569287, -122.320415),\n",
       " (39.113088, -75.4492),\n",
       " (33.70345, -84.16691),\n",
       " (25.899184, -80.191929),\n",
       " (35.176069, -119.005003),\n",
       " (38.08829, -122.23185),\n",
       " (34.039646000000005, -118.079885),\n",
       " (36.682287, -76.228584),\n",
       " (45.535476, -122.584701),\n",
       " (39.78465, -104.98937),\n",
       " (31.691275, -84.063538),\n",
       " (25.920147, -80.169762),\n",
       " (35.021056, -85.353758),\n",
       " (29.88925900000001, -95.41196),\n",
       " (39.88488, -122.19271100000002),\n",
       " (39.388582, -76.530524),\n",
       " (29.771564, -95.390788),\n",
       " (33.924640999999994, -81.137986),\n",
       " (38.17188, -122.19677),\n",
       " (40.69024, -82.51824),\n",
       " (36.205784, -86.7672),\n",
       " (30.252867, -97.918284),\n",
       " (42.911382, -85.627707),\n",
       " (38.870974, -77.045102),\n",
       " (38.947745, -121.043576),\n",
       " (25.78084, -80.19989),\n",
       " (30.502359, -91.163611),\n",
       " (26.164502, -80.154501),\n",
       " (36.157998, -86.781548),\n",
       " (25.990817, -80.16583100000003),\n",
       " (34.243945000000004, -118.421338),\n",
       " (29.846555, -95.359081),\n",
       " (38.860143, -77.436573),\n",
       " (31.857887, -81.33988599999998),\n",
       " (46.541025, -92.620376),\n",
       " (40.01778, -76.234746),\n",
       " (33.068472, -117.293418),\n",
       " (25.933331, -80.206554),\n",
       " (29.990819, -90.070284),\n",
       " (34.256707, -118.435259),\n",
       " (44.77614000000001, -94.37553),\n",
       " (38.413639, -82.261634),\n",
       " (32.980351, -117.253123),\n",
       " (37.64889, -121.02004),\n",
       " (32.722883, -96.826988),\n",
       " (43.711457, -124.099925),\n",
       " (28.81141400000001, -82.08860899999998),\n",
       " (28.468861, -81.311408),\n",
       " (39.23811, -94.50615),\n",
       " (39.366193, -106.06033899999998),\n",
       " (44.982951, -93.400579),\n",
       " (33.85391, -117.95589),\n",
       " (33.854447, -117.795914),\n",
       " (28.33161, -81.58821800000003),\n",
       " (39.33654600000001, -120.174034),\n",
       " (37.14335, -121.98493),\n",
       " (34.03217, -117.13603),\n",
       " (35.21931, -80.7992),\n",
       " (35.836931, -78.61269200000002),\n",
       " (41.79749, -71.40375999999998),\n",
       " (32.27357, -110.875191),\n",
       " (28.554384, -81.364453),\n",
       " (45.04224, -122.7518),\n",
       " (38.65565, -77.30721),\n",
       " (36.83691, -119.475755),\n",
       " (40.609953, -111.90596),\n",
       " (36.53716, -78.18932),\n",
       " (35.179298, -80.802637),\n",
       " (45.777886, -123.42331),\n",
       " (32.84859, -83.62759),\n",
       " (40.714001, -74.203213),\n",
       " (34.117490000000004, -117.863428),\n",
       " (40.815893, -73.931003),\n",
       " (44.95162, -93.12629),\n",
       " (40.481817, -122.67148),\n",
       " (28.068446, -81.95616899999997),\n",
       " (33.63178, -112.0308),\n",
       " (41.492781, -81.686192),\n",
       " (36.913767, -121.741246),\n",
       " (36.162402, -86.778085),\n",
       " (32.763812, -117.160677),\n",
       " (30.258201, -81.76321800000002),\n",
       " (40.220268, -89.278072),\n",
       " (39.838365, -121.938646),\n",
       " (45.19496, -93.55245),\n",
       " (38.605326, -121.507344),\n",
       " (45.727554, -120.195075),\n",
       " (46.20485, -123.38225),\n",
       " (29.43883, -95.4767),\n",
       " (33.730725, -117.986721),\n",
       " (33.798, -84.48765999999998),\n",
       " (45.066832, -93.240968),\n",
       " (25.733035, -80.335226),\n",
       " (34.892429, -85.074714),\n",
       " (32.662227, -96.84943),\n",
       " (38.710161, -77.45308100000003),\n",
       " (32.294579, -80.936611),\n",
       " (44.760735, -121.228123),\n",
       " (38.57399, -121.384304),\n",
       " (35.706992, -78.688788),\n",
       " (38.95664, -77.40411),\n",
       " (35.75277, -78.6316),\n",
       " (35.094598, -85.19029),\n",
       " (29.802237, -95.313008),\n",
       " (32.839988, -117.222413),\n",
       " (29.878138, -95.446481),\n",
       " (30.753018, -87.346181),\n",
       " (33.89992, -118.05736),\n",
       " (33.986549, -118.136291),\n",
       " (41.81624, -87.63011),\n",
       " (33.50499, -112.11257),\n",
       " (35.391287, -118.990866),\n",
       " (36.87235, -76.19564),\n",
       " (37.229226, -119.763048),\n",
       " (37.92649, -122.32139),\n",
       " (36.683038, -120.656415),\n",
       " (35.657098, -118.322785),\n",
       " (44.33793, -121.17772),\n",
       " (38.96571, -77.00246),\n",
       " (32.810426, -96.627607),\n",
       " (30.596085, -91.184321),\n",
       " (27.00726, -82.13385),\n",
       " (38.017898, -120.64258999999998),\n",
       " (37.23611, -121.75924),\n",
       " (32.95785, -83.81147),\n",
       " (45.0906, -117.95064),\n",
       " (38.90842, -94.77624),\n",
       " (30.471091, -87.245186),\n",
       " (35.182466, -80.752028),\n",
       " (33.858968, -80.844121),\n",
       " (33.85378, -117.928351),\n",
       " (42.43308, -83.42739),\n",
       " (40.18161, -110.64837),\n",
       " (38.571694, -77.332081),\n",
       " (29.704057, -95.537914),\n",
       " (34.01136, -118.494849),\n",
       " (38.572569, -121.336377),\n",
       " (34.092563, -118.205941),\n",
       " ...]"
      ]
     },
     "execution_count": 60,
     "metadata": {},
     "output_type": "execute_result"
    }
   ],
   "source": [
    "heat_data = list(zip(list(sample_df['Start_Lat']), list(sample_df['Start_Lng'])))\n",
    "heat_data"
   ]
  },
  {
   "cell_type": "code",
   "execution_count": 58,
   "id": "9ec6794f",
   "metadata": {},
   "outputs": [
    {
     "data": {
      "text/html": [
       "<div style=\"width:100%;\"><div style=\"position:relative;width:100%;height:0;padding-bottom:60%;\"><span style=\"color:#565656\">Make this Notebook Trusted to load map: File -> Trust Notebook</span><iframe src=\"about:blank\" style=\"position:absolute;width:100%;height:100%;left:0;top:0;border:none !important;\" data-html=%3C%21DOCTYPE%20html%3E%0A%3Chead%3E%20%20%20%20%0A%20%20%20%20%3Cmeta%20http-equiv%3D%22content-type%22%20content%3D%22text/html%3B%20charset%3DUTF-8%22%20/%3E%0A%20%20%20%20%0A%20%20%20%20%20%20%20%20%3Cscript%3E%0A%20%20%20%20%20%20%20%20%20%20%20%20L_NO_TOUCH%20%3D%20false%3B%0A%20%20%20%20%20%20%20%20%20%20%20%20L_DISABLE_3D%20%3D%20false%3B%0A%20%20%20%20%20%20%20%20%3C/script%3E%0A%20%20%20%20%0A%20%20%20%20%3Cstyle%3Ehtml%2C%20body%20%7Bwidth%3A%20100%25%3Bheight%3A%20100%25%3Bmargin%3A%200%3Bpadding%3A%200%3B%7D%3C/style%3E%0A%20%20%20%20%3Cstyle%3E%23map%20%7Bposition%3Aabsolute%3Btop%3A0%3Bbottom%3A0%3Bright%3A0%3Bleft%3A0%3B%7D%3C/style%3E%0A%20%20%20%20%3Cscript%20src%3D%22https%3A//cdn.jsdelivr.net/npm/leaflet%401.6.0/dist/leaflet.js%22%3E%3C/script%3E%0A%20%20%20%20%3Cscript%20src%3D%22https%3A//code.jquery.com/jquery-1.12.4.min.js%22%3E%3C/script%3E%0A%20%20%20%20%3Cscript%20src%3D%22https%3A//maxcdn.bootstrapcdn.com/bootstrap/3.2.0/js/bootstrap.min.js%22%3E%3C/script%3E%0A%20%20%20%20%3Cscript%20src%3D%22https%3A//cdnjs.cloudflare.com/ajax/libs/Leaflet.awesome-markers/2.0.2/leaflet.awesome-markers.js%22%3E%3C/script%3E%0A%20%20%20%20%3Clink%20rel%3D%22stylesheet%22%20href%3D%22https%3A//cdn.jsdelivr.net/npm/leaflet%401.6.0/dist/leaflet.css%22/%3E%0A%20%20%20%20%3Clink%20rel%3D%22stylesheet%22%20href%3D%22https%3A//maxcdn.bootstrapcdn.com/bootstrap/3.2.0/css/bootstrap.min.css%22/%3E%0A%20%20%20%20%3Clink%20rel%3D%22stylesheet%22%20href%3D%22https%3A//maxcdn.bootstrapcdn.com/bootstrap/3.2.0/css/bootstrap-theme.min.css%22/%3E%0A%20%20%20%20%3Clink%20rel%3D%22stylesheet%22%20href%3D%22https%3A//maxcdn.bootstrapcdn.com/font-awesome/4.6.3/css/font-awesome.min.css%22/%3E%0A%20%20%20%20%3Clink%20rel%3D%22stylesheet%22%20href%3D%22https%3A//cdnjs.cloudflare.com/ajax/libs/Leaflet.awesome-markers/2.0.2/leaflet.awesome-markers.css%22/%3E%0A%20%20%20%20%3Clink%20rel%3D%22stylesheet%22%20href%3D%22https%3A//cdn.jsdelivr.net/gh/python-visualization/folium/folium/templates/leaflet.awesome.rotate.min.css%22/%3E%0A%20%20%20%20%0A%20%20%20%20%20%20%20%20%20%20%20%20%3Cmeta%20name%3D%22viewport%22%20content%3D%22width%3Ddevice-width%2C%0A%20%20%20%20%20%20%20%20%20%20%20%20%20%20%20%20initial-scale%3D1.0%2C%20maximum-scale%3D1.0%2C%20user-scalable%3Dno%22%20/%3E%0A%20%20%20%20%20%20%20%20%20%20%20%20%3Cstyle%3E%0A%20%20%20%20%20%20%20%20%20%20%20%20%20%20%20%20%23map_5f14baffdd9649f5b6486c6426f84ebb%20%7B%0A%20%20%20%20%20%20%20%20%20%20%20%20%20%20%20%20%20%20%20%20position%3A%20relative%3B%0A%20%20%20%20%20%20%20%20%20%20%20%20%20%20%20%20%20%20%20%20width%3A%20100.0%25%3B%0A%20%20%20%20%20%20%20%20%20%20%20%20%20%20%20%20%20%20%20%20height%3A%20100.0%25%3B%0A%20%20%20%20%20%20%20%20%20%20%20%20%20%20%20%20%20%20%20%20left%3A%200.0%25%3B%0A%20%20%20%20%20%20%20%20%20%20%20%20%20%20%20%20%20%20%20%20top%3A%200.0%25%3B%0A%20%20%20%20%20%20%20%20%20%20%20%20%20%20%20%20%7D%0A%20%20%20%20%20%20%20%20%20%20%20%20%3C/style%3E%0A%20%20%20%20%20%20%20%20%0A%20%20%20%20%3Cscript%20src%3D%22https%3A//cdn.jsdelivr.net/gh/python-visualization/folium%40master/folium/templates/leaflet_heat.min.js%22%3E%3C/script%3E%0A%3C/head%3E%0A%3Cbody%3E%20%20%20%20%0A%20%20%20%20%0A%20%20%20%20%20%20%20%20%20%20%20%20%3Cdiv%20class%3D%22folium-map%22%20id%3D%22map_5f14baffdd9649f5b6486c6426f84ebb%22%20%3E%3C/div%3E%0A%20%20%20%20%20%20%20%20%0A%3C/body%3E%0A%3Cscript%3E%20%20%20%20%0A%20%20%20%20%0A%20%20%20%20%20%20%20%20%20%20%20%20var%20map_5f14baffdd9649f5b6486c6426f84ebb%20%3D%20L.map%28%0A%20%20%20%20%20%20%20%20%20%20%20%20%20%20%20%20%22map_5f14baffdd9649f5b6486c6426f84ebb%22%2C%0A%20%20%20%20%20%20%20%20%20%20%20%20%20%20%20%20%7B%0A%20%20%20%20%20%20%20%20%20%20%20%20%20%20%20%20%20%20%20%20center%3A%20%5B0%2C%200%5D%2C%0A%20%20%20%20%20%20%20%20%20%20%20%20%20%20%20%20%20%20%20%20crs%3A%20L.CRS.EPSG3857%2C%0A%20%20%20%20%20%20%20%20%20%20%20%20%20%20%20%20%20%20%20%20zoom%3A%201%2C%0A%20%20%20%20%20%20%20%20%20%20%20%20%20%20%20%20%20%20%20%20zoomControl%3A%20true%2C%0A%20%20%20%20%20%20%20%20%20%20%20%20%20%20%20%20%20%20%20%20preferCanvas%3A%20false%2C%0A%20%20%20%20%20%20%20%20%20%20%20%20%20%20%20%20%7D%0A%20%20%20%20%20%20%20%20%20%20%20%20%29%3B%0A%0A%20%20%20%20%20%20%20%20%20%20%20%20%0A%0A%20%20%20%20%20%20%20%20%0A%20%20%20%20%0A%20%20%20%20%20%20%20%20%20%20%20%20var%20tile_layer_a30ebd36cb5949e19a7538da3687a95b%20%3D%20L.tileLayer%28%0A%20%20%20%20%20%20%20%20%20%20%20%20%20%20%20%20%22https%3A//%7Bs%7D.tile.openstreetmap.org/%7Bz%7D/%7Bx%7D/%7By%7D.png%22%2C%0A%20%20%20%20%20%20%20%20%20%20%20%20%20%20%20%20%7B%22attribution%22%3A%20%22Data%20by%20%5Cu0026copy%3B%20%5Cu003ca%20href%3D%5C%22http%3A//openstreetmap.org%5C%22%5Cu003eOpenStreetMap%5Cu003c/a%5Cu003e%2C%20under%20%5Cu003ca%20href%3D%5C%22http%3A//www.openstreetmap.org/copyright%5C%22%5Cu003eODbL%5Cu003c/a%5Cu003e.%22%2C%20%22detectRetina%22%3A%20false%2C%20%22maxNativeZoom%22%3A%2018%2C%20%22maxZoom%22%3A%2018%2C%20%22minZoom%22%3A%200%2C%20%22noWrap%22%3A%20false%2C%20%22opacity%22%3A%201%2C%20%22subdomains%22%3A%20%22abc%22%2C%20%22tms%22%3A%20false%7D%0A%20%20%20%20%20%20%20%20%20%20%20%20%29.addTo%28map_5f14baffdd9649f5b6486c6426f84ebb%29%3B%0A%20%20%20%20%20%20%20%20%0A%20%20%20%20%0A%20%20%20%20%20%20%20%20%20%20%20%20var%20heat_map_7ff468a963eb4b209fcdc235d39b795c%20%3D%20L.heatLayer%28%0A%20%20%20%20%20%20%20%20%20%20%20%20%20%20%20%20%5B%5B35.105248%2C%20-80.983233%5D%2C%20%5B44.804422%2C%20-124.06108600000002%5D%2C%20%5B33.835111%2C%20-117.875959%5D%2C%20%5B33.549695%2C%20-81.652991%5D%2C%20%5B41.47181%2C%20-73.21726%5D%2C%20%5B40.112308%2C%20-75.116915%5D%2C%20%5B40.17103%2C%20-75.07122%5D%2C%20%5B33.943431%2C%20-117.081034%5D%2C%20%5B38.89002%2C%20-76.957737%5D%2C%20%5B25.833552%2C%20-80.241159%5D%2C%20%5B32.757748%2C%20-117.218133%5D%2C%20%5B44.712871%2C%20-122.80441100000002%5D%2C%20%5B38.59275%2C%20-121.55186%5D%2C%20%5B37.060671%2C%20-122.007037%5D%2C%20%5B33.959247%2C%20-118.253988%5D%2C%20%5B32.72122%2C%20-96.874383%5D%2C%20%5B34.139893%2C%20-117.386065%5D%2C%20%5B33.850147%2C%20-117.875916%5D%2C%20%5B29.347607%2C%20-81.735922%5D%2C%20%5B25.625151%2C%20-80.41441400000002%5D%2C%20%5B25.799306%2C%20-80.321387%5D%2C%20%5B27.9431%2C%20-82.54458000000002%5D%2C%20%5B40.78377%2C%20-73.62621999999998%5D%2C%20%5B41.650704%2C%20-93.577203%5D%2C%20%5B33.503964%2C%20-112.112801%5D%2C%20%5B35.30511%2C%20-93.13516%5D%2C%20%5B33.9187%2C%20-118.08138%5D%2C%20%5B44.861639%2C%20-93.524145%5D%2C%20%5B35.020189%2C%20-81.896111%5D%2C%20%5B30.43541500000001%2C%20-91.024292%5D%2C%20%5B36.845284%2C%20-76.26449000000002%5D%2C%20%5B34.09713%2C%20-80.921192%5D%2C%20%5B34.81872%2C%20-82.638129%5D%2C%20%5B44.324662%2C%20-93.270241%5D%2C%20%5B40.70377%2C%20-112.0249%5D%2C%20%5B41.558972%2C%20-122.827287%5D%2C%20%5B35.014728000000005%2C%20-120.477484%5D%2C%20%5B34.109108%2C%20-117.19918%5D%2C%20%5B37.70155%2C%20-121.91714%5D%2C%20%5B46.25157%2C%20-94.10914%5D%2C%20%5B34.689223%2C%20-118.32424%5D%2C%20%5B42.32303%2C%20-88.16473%5D%2C%20%5B39.10693%2C%20-77.15881%5D%2C%20%5B34.663608%2C%20-82.17659599999998%5D%2C%20%5B37.35405%2C%20-77.49429%5D%2C%20%5B38.84816%2C%20-77.42255300000002%5D%2C%20%5B44.97042800000001%2C%20-93.345644%5D%2C%20%5B33.670174%2C%20-111.965216%5D%2C%20%5B33.841767%2C%20-118.265595%5D%2C%20%5B29.894937%2C%20-90.096224%5D%2C%20%5B25.704802%2C%20-80.366366%5D%2C%20%5B28.174834000000004%2C%20-82.329815%5D%2C%20%5B40.06573%2C%20-75.33221999999998%5D%2C%20%5B35.883293%2C%20-78.740904%5D%2C%20%5B41.057378%2C%20-73.81305%5D%2C%20%5B38.292963%2C%20-77.115248%5D%2C%20%5B45.47037%2C%20-122.68532%5D%2C%20%5B32.73741%2C%20-83.72227%5D%2C%20%5B37.318112%2C%20-121.976543%5D%2C%20%5B34.135352000000005%2C%20-118.041989%5D%2C%20%5B44.745973%2C%20-117.803531%5D%2C%20%5B37.96061%2C%20-122.50972%5D%2C%20%5B35.49655999999999%2C%20-119.15999%5D%2C%20%5B34.437922%2C%20-119.848619%5D%2C%20%5B34.702676000000004%2C%20-92.365289%5D%2C%20%5B36.954052%2C%20-76.26469200000003%5D%2C%20%5B28.59635%2C%20-81.45141%5D%2C%20%5B33.77333400000001%2C%20-118.039027%5D%2C%20%5B33.94577%2C%20-118.09436%5D%2C%20%5B34.89806%2C%20-119.595519%5D%2C%20%5B28.115289%2C%20-80.70585%5D%2C%20%5B32.789465%2C%20-96.754144%5D%2C%20%5B36.98742100000001%2C%20-121.964912%5D%2C%20%5B25.90682%2C%20-80.21024%5D%2C%20%5B38.90765%2C%20-77.46414200000002%5D%2C%20%5B32.955034999999995%2C%20-96.976325%5D%2C%20%5B40.838936%2C%20-73.92968499999998%5D%2C%20%5B28.597537%2C%20-81.29907299999998%5D%2C%20%5B39.1252%2C%20-84.54775%5D%2C%20%5B33.954306%2C%20-118.300254%5D%2C%20%5B38.64343%2C%20-121.10757%5D%2C%20%5B37.713229%2C%20-122.170387%5D%2C%20%5B37.861888%2C%20-122.21026100000002%5D%2C%20%5B44.95096%2C%20-117.85294%5D%2C%20%5B37.77939600000001%2C%20-121.179424%5D%2C%20%5B25.638985%2C%20-80.33879300000002%5D%2C%20%5B29.4702%2C%20-81.181443%5D%2C%20%5B33.88739%2C%20-118.34383%5D%2C%20%5B38.548434%2C%20-76.985252%5D%2C%20%5B45.60701%2C%20-121.19483%5D%2C%20%5B25.701238%2C%20-80.334038%5D%2C%20%5B32.471452%2C%20-93.819415%5D%2C%20%5B33.782385999999995%2C%20-118.271901%5D%2C%20%5B38.25419%2C%20-122.47836399999998%5D%2C%20%5B35.134173%2C%20-84.99855500000002%5D%2C%20%5B35.217025%2C%20-80.851174%5D%2C%20%5B40.07587%2C%20-74.945996%5D%2C%20%5B43.387577%2C%20-71.969902%5D%2C%20%5B25.85299%2C%20-80.32236%5D%2C%20%5B37.217342%2C%20-121.740281%5D%2C%20%5B35.01324%2C%20-81.9059%5D%2C%20%5B43.598781%2C%20-116.549438%5D%2C%20%5B38.30115%2C%20-122.70598%5D%2C%20%5B39.255625%2C%20-120.048965%5D%2C%20%5B34.15103%2C%20-118.46835%5D%2C%20%5B25.599334%2C%20-80.360562%5D%2C%20%5B30.457718%2C%20-91.112846%5D%2C%20%5B29.768263%2C%20-95.26532%5D%2C%20%5B39.54202%2C%20-77.60606%5D%2C%20%5B36.824967%2C%20-76.328038%5D%2C%20%5B37.536497%2C%20-77.342001%5D%2C%20%5B34.777898%2C%20-92.396577%5D%2C%20%5B39.908963%2C%20-75.569404%5D%2C%20%5B41.195055%2C%20-73.883847%5D%2C%20%5B38.901311%2C%20-77.039426%5D%2C%20%5B36.304552%2C%20-115.279418%5D%2C%20%5B37.398816%2C%20-77.672169%5D%2C%20%5B35.20610999999999%2C%20-91.730036%5D%2C%20%5B34.82324000000001%2C%20-92.15833%5D%2C%20%5B40.68429%2C%20-112.27349%5D%2C%20%5B32.67705%2C%20-96.60387%5D%2C%20%5B43.00688%2C%20-83.70804100000002%5D%2C%20%5B25.733894%2C%20-80.28828100000001%5D%2C%20%5B33.873542%2C%20-118.252426%5D%2C%20%5B28.071162%2C%20-82.738991%5D%2C%20%5B32.1342%2C%20-110.9095%5D%2C%20%5B25.83865%2C%20-80.20626%5D%2C%20%5B29.564369%2C%20-98.591297%5D%2C%20%5B33.81421%2C%20-117.83214%5D%2C%20%5B38.747824%2C%20-121.268366%5D%2C%20%5B37.062415%2C%20-121.576062%5D%2C%20%5B32.812945%2C%20-96.790645%5D%2C%20%5B31.659688%2C%20-89.52194899999998%5D%2C%20%5B39.642813%2C%20-122.789052%5D%2C%20%5B34.03968%2C%20-118.052015%5D%2C%20%5B28.141116%2C%20-81.894681%5D%2C%20%5B33.931153%2C%20-118.39622%5D%2C%20%5B45.588465%2C%20-111.641832%5D%2C%20%5B27.93345%2C%20-82.33004%5D%2C%20%5B45.469934%2C%20-122.68316000000002%5D%2C%20%5B40.383225%2C%20-74.163787%5D%2C%20%5B36.159649%2C%20-86.782573%5D%2C%20%5B39.777513%2C%20-86.030877%5D%2C%20%5B34.04299%2C%20-118.22097%5D%2C%20%5B32.967528%2C%20-80.019491%5D%2C%20%5B35.112092%2C%20-85.096503%5D%2C%20%5B25.733292%2C%20-80.330738%5D%2C%20%5B40.310341%2C%20-75.319284%5D%2C%20%5B40.04629%2C%20-76.302862%5D%2C%20%5B40.43965%2C%20-104.99242%5D%2C%20%5B37.711139%2C%20-121.084216%5D%2C%20%5B28.42741%2C%20-81.400363%5D%2C%20%5B45.730648%2C%20-111.066711%5D%2C%20%5B36.874746%2C%20-76.197475%5D%2C%20%5B36.783799%2C%20-119.784681%5D%2C%20%5B29.737727000000003%2C%20-95.49836%5D%2C%20%5B29.778949%2C%20-95.441201%5D%2C%20%5B41.903%2C%20-88.08051%5D%2C%20%5B34.365825%2C%20-118.506452%5D%2C%20%5B36.506953%2C%20-119.549096%5D%2C%20%5B34.02558%2C%20-118.20587%5D%2C%20%5B45.42539%2C%20-122.56823%5D%2C%20%5B40.726157%2C%20-73.90325899999998%5D%2C%20%5B41.840196%2C%20-124.109169%5D%2C%20%5B38.00095200000001%2C%20-122.282603%5D%2C%20%5B30.512648%2C%20-87.296784%5D%2C%20%5B33.455607%2C%20-86.74710300000002%5D%2C%20%5B39.772615%2C%20-84.235837%5D%2C%20%5B43.515174%2C%20-91.819263%5D%2C%20%5B33.006898%2C%20-117.260839%5D%2C%20%5B26.185037%2C%20-80.152357%5D%2C%20%5B25.905851%2C%20-80.210044%5D%2C%20%5B44.08258%2C%20-121.3013%5D%2C%20%5B44.97626%2C%20-93.24667%5D%2C%20%5B34.031621%2C%20-118.187109%5D%2C%20%5B36.736681%2C%20-119.805522%5D%2C%20%5B32.885106%2C%20-96.699467%5D%2C%20%5B32.514542%2C%20-93.768921%5D%2C%20%5B28.486795%2C%20-81.419402%5D%2C%20%5B36.747438%2C%20-119.80278%5D%2C%20%5B46.558481%2C%20-98.704379%5D%2C%20%5B37.62573%2C%20-122.080078%5D%2C%20%5B41.078232%2C%20-78.334285%5D%2C%20%5B42.49110200000001%2C%20-83.504234%5D%2C%20%5B28.42116%2C%20-81.45877800000002%5D%2C%20%5B32.65813%2C%20-96.88665%5D%2C%20%5B38.589526%2C%20-121.504587%5D%2C%20%5B40.779842%2C%20-77.75089200000002%5D%2C%20%5B41.326156%2C%20-123.520027%5D%2C%20%5B33.448101%2C%20-112.221146%5D%2C%20%5B34.004798%2C%20-81.036925%5D%2C%20%5B40.696903000000006%2C%20-74.123731%5D%2C%20%5B34.147019%2C%20-119.118404%5D%2C%20%5B35.24237700000001%2C%20-120.677381%5D%2C%20%5B42.466899%2C%20-88.01737299999998%5D%2C%20%5B40.252976%2C%20-75.660442%5D%2C%20%5B38.909558%2C%20-77.974551%5D%2C%20%5B37.107954%2C%20-121.601213%5D%2C%20%5B41.583956%2C%20-72.713174%5D%2C%20%5B39.864533%2C%20-75.107569%5D%2C%20%5B25.703506%2C%20-80.33425600000002%5D%2C%20%5B41.79733%2C%20-71.40356%5D%2C%20%5B39.22824%2C%20-77.28297099999997%5D%2C%20%5B33.702086%2C%20-93.020124%5D%2C%20%5B40.305773%2C%20-76.959148%5D%2C%20%5B41.80404%2C%20-78.4532%5D%2C%20%5B28.409825%2C%20-81.37413199999997%5D%2C%20%5B35.241726%2C%20-80.858693%5D%2C%20%5B40.92705%2C%20-111.89119%5D%2C%20%5B40.515147%2C%20-76.113281%5D%2C%20%5B37.49802%2C%20-121.926499%5D%2C%20%5B32.884043%2C%20-96.696842%5D%2C%20%5B37.255185%2C%20-121.956428%5D%2C%20%5B33.921890000000005%2C%20-118.28151%5D%2C%20%5B42.939194%2C%20-85.678628%5D%2C%20%5B40.735255%2C%20-73.919159%5D%2C%20%5B41.962156%2C%20-91.14328%5D%2C%20%5B36.117894%2C%20-86.809997%5D%2C%20%5B33.822039000000004%2C%20-118.206845%5D%2C%20%5B40.36635%2C%20-78.425688%5D%2C%20%5B34.000498%2C%20-117.844999%5D%2C%20%5B40.583008%2C%20-83.006907%5D%2C%20%5B39.098264%2C%20-94.601556%5D%2C%20%5B32.71148%2C%20-117.11908%5D%2C%20%5B32.4159%2C%20-80.654453%5D%2C%20%5B44.89069%2C%20-93.30447%5D%2C%20%5B31.263774%2C%20-82.52615300000002%5D%2C%20%5B35.949959%2C%20-78.570515%5D%2C%20%5B25.92139%2C%20-80.18366999999998%5D%2C%20%5B33.843553%2C%20-117.534695%5D%2C%20%5B28.49616%2C%20-81.396924%5D%2C%20%5B40.727896%2C%20-73.838796%5D%2C%20%5B46.79997%2C%20-122.27544%5D%2C%20%5B33.973972%2C%20-118.22277%5D%2C%20%5B32.834583%2C%20-96.898115%5D%2C%20%5B33.995144%2C%20-117.356233%5D%2C%20%5B28.360927%2C%20-82.666312%5D%2C%20%5B34.040969%2C%20-117.665758%5D%2C%20%5B45.509898%2C%20-122.707533%5D%2C%20%5B33.719120000000004%2C%20-84.39681%5D%2C%20%5B38.801235%2C%20-77.525328%5D%2C%20%5B45.84976%2C%20-95.49165%5D%2C%20%5B41.047834%2C%20-78.464448%5D%2C%20%5B36.152743%2C%20-86.857708%5D%2C%20%5B25.717076%2C%20-80.330822%5D%2C%20%5B39.19253%2C%20-76.77131999999997%5D%2C%20%5B36.156767%2C%20-86.77534200000002%5D%2C%20%5B40.442881%2C%20-79.813823%5D%2C%20%5B29.579592%2C%20-95.120799%5D%2C%20%5B30.503443%2C%20-87.233537%5D%2C%20%5B33.710253%2C%20-117.782227%5D%2C%20%5B41.855989%2C%20-80.120576%5D%2C%20%5B33.956140000000005%2C%20-118.10918%5D%2C%20%5B37.50597%2C%20-77.73236999999997%5D%2C%20%5B34.081579999999995%2C%20-117.72332%5D%2C%20%5B34.19239%2C%20-118.40236000000002%5D%2C%20%5B25.92466%2C%20-80.3138%5D%2C%20%5B28.078858%2C%20-82.739029%5D%2C%20%5B42.37747%2C%20-123.49567%5D%2C%20%5B32.865329%2C%20-96.743465%5D%2C%20%5B34.431984%2C%20-119.802297%5D%2C%20%5B41.095914%2C%20-73.936933%5D%2C%20%5B37.377145%2C%20-121.94327%5D%2C%20%5B45.493644%2C%20-122.67365%5D%2C%20%5B37.716312%2C%20-122.173762%5D%2C%20%5B33.888069%2C%20-79.455749%5D%2C%20%5B39.00243%2C%20-93.80626%5D%2C%20%5B35.24087%2C%20-80.94433000000002%5D%2C%20%5B33.17963%2C%20-87.55694%5D%2C%20%5B35.82737%2C%20-78.286739%5D%2C%20%5B37.799992%2C%20-122.435254%5D%2C%20%5B32.867815%2C%20-117.10828899999998%5D%2C%20%5B33.653185%2C%20-117.769879%5D%2C%20%5B34.935484%2C%20-81.990112%5D%2C%20%5B41.90432%2C%20-88.12056%5D%2C%20%5B29.988225%2C%20-90.109752%5D%2C%20%5B45.09344%2C%20-93.75763%5D%2C%20%5B41.03809%2C%20-111.938569%5D%2C%20%5B34.103886%2C%20-118.711355%5D%2C%20%5B34.05612%2C%20-117.968547%5D%2C%20%5B30.363491%2C%20-97.697934%5D%2C%20%5B40.79973%2C%20-78.05419%5D%2C%20%5B28.495074%2C%20-81.334393%5D%2C%20%5B35.28565%2C%20-80.76233%5D%2C%20%5B33.870228000000004%2C%20-117.669681%5D%2C%20%5B28.448906%2C%20-81.40112099999997%5D%2C%20%5B41.592249%2C%20-93.794501%5D%2C%20%5B40.718066%2C%20-111.873998%5D%2C%20%5B34.971721%2C%20-81.99860699999998%5D%2C%20%5B38.801797%2C%20-121.300204%5D%2C%20%5B40.56329%2C%20-111.89898%5D%2C%20%5B42.841976%2C%20-121.833141%5D%2C%20%5B41.873352%2C%20-73.976311%5D%2C%20%5B39.88534%2C%20-104.881064%5D%2C%20%5B36.766508%2C%20-76.27059799999998%5D%2C%20%5B28.28783300000001%2C%20-82.710103%5D%2C%20%5B43.105851%2C%20-123.537928%5D%2C%20%5B32.940081%2C%20-96.745696%5D%2C%20%5B30.420475%2C%20-91.066524%5D%2C%20%5B35.287129%2C%20-80.760681%5D%2C%20%5B34.03781%2C%20-118.2797%5D%2C%20%5B29.728123%2C%20-95.501083%5D%2C%20%5B34.06446%2C%20-118.00388%5D%2C%20%5B40.831885%2C%20-73.855711%5D%2C%20%5B36.351378%2C%20-83.39814399999999%5D%2C%20%5B35.043285%2C%20-85.262466%5D%2C%20%5B43.980612%2C%20-122.966216%5D%2C%20%5B29.88732000000001%2C%20-95.41219%5D%2C%20%5B41.770287%2C%20-72.682253%5D%2C%20%5B42.42528%2C%20-123.03937%5D%2C%20%5B27.771758%2C%20-82.724293%5D%2C%20%5B29.43046%2C%20-95.060168%5D%2C%20%5B25.700047%2C%20-80.413232%5D%2C%20%5B33.725677000000005%2C%20-79.89993199999998%5D%2C%20%5B44.97706%2C%20-93.088593%5D%2C%20%5B39.273587%2C%20-77.50044%5D%2C%20%5B42.254308%2C%20-83.684009%5D%2C%20%5B38.4991%2C%20-122.7605%5D%2C%20%5B35.082381%2C%20-82.243817%5D%2C%20%5B45.560724%2C%20-94.343145%5D%2C%20%5B43.05405%2C%20-76.1529%5D%2C%20%5B37.253359%2C%20-76.64270400000002%5D%2C%20%5B34.15233%2C%20-118.33343%5D%2C%20%5B27.996136%2C%20-82.378624%5D%2C%20%5B33.941%2C%20-118.0966%5D%2C%20%5B36.053043%2C%20-119.146757%5D%2C%20%5B34.01623%2C%20-117.916533%5D%2C%20%5B47.60173%2C%20-122.3246%5D%2C%20%5B34.121559000000005%2C%20-117.696732%5D%2C%20%5B34.120317%2C%20-118.271191%5D%2C%20%5B25.703367%2C%20-80.33425%5D%2C%20%5B28.318808%2C%20-81.540776%5D%2C%20%5B33.97486%2C%20-80.230417%5D%2C%20%5B43.406324%2C%20-123.382163%5D%2C%20%5B34.935207%2C%20-120.546425%5D%2C%20%5B40.31051400000001%2C%20-74.254374%5D%2C%20%5B37.82660300000001%2C%20-122.286533%5D%2C%20%5B34.062174%2C%20-118.985479%5D%2C%20%5B39.556349%2C%20-105.080398%5D%2C%20%5B42.27759%2C%20-88.15484000000002%5D%2C%20%5B40.01641400000001%2C%20-75.682661%5D%2C%20%5B25.76413%2C%20-80.32054000000002%5D%2C%20%5B30.417473%2C%20-91.142582%5D%2C%20%5B40.621602%2C%20-77.688878%5D%2C%20%5B45.783197%2C%20-108.056676%5D%2C%20%5B40.678092%2C%20-77.15156400000002%5D%2C%20%5B34.136549%2C%20-117.420855%5D%2C%20%5B25.986388%2C%20-80.229281%5D%2C%20%5B40.12829%2C%20-75.43172%5D%2C%20%5B38.511741%2C%20-77.37713199999997%5D%2C%20%5B34.50796%2C%20-82.7623%5D%2C%20%5B43.082824%2C%20-83.69415%5D%2C%20%5B33.971602000000004%2C%20-118.122849%5D%2C%20%5B42.971499%2C%20-85.639785%5D%2C%20%5B34.17035300000001%2C%20-118.501087%5D%2C%20%5B33.87592%2C%20-118.16354%5D%2C%20%5B38.922901%2C%20-75.957533%5D%2C%20%5B32.67735%2C%20-97.05524%5D%2C%20%5B39.01965%2C%20-76.98029%5D%2C%20%5B29.155257%2C%20-82.086807%5D%2C%20%5B40.820099%2C%20-73.202301%5D%2C%20%5B25.969657%2C%20-80.165319%5D%2C%20%5B29.78433%2C%20-95.48716%5D%2C%20%5B34.120675%2C%20-117.907588%5D%2C%20%5B44.89115%2C%20-122.99374%5D%2C%20%5B28.574927%2C%20-81.364494%5D%2C%20%5B34.029133%2C%20-117.755261%5D%2C%20%5B42.36163300000001%2C%20-83.072585%5D%2C%20%5B39.03039%2C%20-76.85348%5D%2C%20%5B33.892661%2C%20-79.047911%5D%2C%20%5B32.770972%2C%20-96.691982%5D%2C%20%5B28.477819%2C%20-81.239694%5D%2C%20%5B47.598372%2C%20-122.32246%5D%2C%20%5B34.270302%2C%20-118.447346%5D%2C%20%5B39.312841%2C%20-74.601191%5D%2C%20%5B34.056513%2C%20-118.00316%5D%2C%20%5B33.983018%2C%20-81.106954%5D%2C%20%5B44.952868%2C%20-93.095086%5D%2C%20%5B33.60575%2C%20-117.690192%5D%2C%20%5B40.740056%2C%20-73.84515999999998%5D%2C%20%5B46.732224%2C%20-92.203091%5D%2C%20%5B40.77335%2C%20-73.83064%5D%2C%20%5B34.096225%2C%20-80.118324%5D%2C%20%5B39.399779%2C%20-121.414914%5D%2C%20%5B39.628401%2C%20-74.39044%5D%2C%20%5B42.807942%2C%20-83.841073%5D%2C%20%5B38.660843%2C%20-121.272286%5D%2C%20%5B45.64883%2C%20-120.96094%5D%2C%20%5B28.480543%2C%20-81.45896%5D%2C%20%5B28.760312%2C%20-81.362267%5D%2C%20%5B37.779653%2C%20-121.314948%5D%2C%20%5B34.196544%2C%20-119.096077%5D%2C%20%5B41.72711%2C%20-87.62476%5D%2C%20%5B37.63491%2C%20-122.0869%5D%2C%20%5B25.805096%2C%20-80.20596%5D%2C%20%5B34.242891%2C%20-119.190381%5D%2C%20%5B27.43530800000001%2C%20-82.44099200000002%5D%2C%20%5B27.495987%2C%20-82.619351%5D%2C%20%5B33.569343%2C%20-113.357073%5D%2C%20%5B29.885414%2C%20-82.668886%5D%2C%20%5B45.54656%2C%20-122.71079%5D%2C%20%5B32.363582%2C%20-86.210854%5D%2C%20%5B27.790608%2C%20-82.33478199999998%5D%2C%20%5B38.86009%2C%20-77.06991%5D%2C%20%5B43.99265%2C%20-123.00564%5D%2C%20%5B34.863548%2C%20-82.965614%5D%2C%20%5B35.299456%2C%20-119.031269%5D%2C%20%5B28.449998%2C%20-81.469145%5D%2C%20%5B44.950727%2C%20-93.099345%5D%2C%20%5B42.77897%2C%20-114.72893%5D%2C%20%5B28.492236%2C%20-81.23863399999998%5D%2C%20%5B38.84218%2C%20-77.08339000000002%5D%2C%20%5B37.433132%2C%20-76.845552%5D%2C%20%5B40.653041%2C%20-112.025619%5D%2C%20%5B30.397789000000003%2C%20-84.34513000000003%5D%2C%20%5B43.16477800000001%2C%20-77.683049%5D%2C%20%5B40.75189%2C%20-74.11381999999998%5D%2C%20%5B32.10082%2C%20-81.32681%5D%2C%20%5B34.041577000000004%2C%20-81.088699%5D%2C%20%5B44.64745%2C%20-117.55445%5D%2C%20%5B25.61679%2C%20-80.312149%5D%2C%20%5B30.403622%2C%20-81.564785%5D%2C%20%5B28.552238%2C%20-81.376856%5D%2C%20%5B41.318355%2C%20-87.103598%5D%2C%20%5B44.929264%2C%20-93.023504%5D%2C%20%5B33.796703%2C%20-118.107792%5D%2C%20%5B30.750623%2C%20-86.63946700000002%5D%2C%20%5B25.87676%2C%20-80.194018%5D%2C%20%5B37.699858%2C%20-121.986798%5D%2C%20%5B39.04895%2C%20-77.15117%5D%2C%20%5B26.08162%2C%20-80.16242%5D%2C%20%5B34.06811%2C%20-118.02873999999998%5D%2C%20%5B25.761814%2C%20-80.338151%5D%2C%20%5B41.486522%2C%20-112.015486%5D%2C%20%5B40.733538%2C%20-74.12678299999997%5D%2C%20%5B38.881662%2C%20-77.029507%5D%2C%20%5B33.438763%2C%20-84.546624%5D%2C%20%5B28.409796000000004%2C%20-81.41670400000002%5D%2C%20%5B40.06566%2C%20-74.16205%5D%2C%20%5B43.3789%2C%20-123.33809%5D%2C%20%5B35.213008%2C%20-80.801073%5D%2C%20%5B41.69249%2C%20-71.47677%5D%2C%20%5B25.811006%2C%20-80.25657199999998%5D%2C%20%5B29.81395%2C%20-95.379171%5D%2C%20%5B25.76002%2C%20-80.38545%5D%2C%20%5B40.847779%2C%20-73.826698%5D%2C%20%5B33.62424%2C%20-84.45734%5D%2C%20%5B36.963019%2C%20-81.069375%5D%2C%20%5B34.622704%2C%20-117.343975%5D%2C%20%5B34.11853%2C%20-117.84169%5D%2C%20%5B39.39882%2C%20-76.55215%5D%2C%20%5B28.56768%2C%20-81.21588%5D%2C%20%5B40.70097%2C%20-73.99471%5D%2C%20%5B39.15454%2C%20-75.981546%5D%2C%20%5B38.905999%2C%20-77.07931500000002%5D%2C%20%5B29.436503%2C%20-98.492914%5D%2C%20%5B37.000483%2C%20-121.556253%5D%2C%20%5B37.32866%2C%20-121.87031%5D%2C%20%5B34.675665%2C%20-80.72084699999998%5D%2C%20%5B42.7512%2C%20-73.92799000000002%5D%2C%20%5B25.913209%2C%20-80.207492%5D%2C%20%5B35.223572%2C%20-118.842293%5D%2C%20%5B42.35200800000001%2C%20-87.93927%5D%2C%20%5B41.73029%2C%20-74.066852%5D%2C%20%5B37.6908%2C%20-122.09188%5D%2C%20%5B46.55832%2C%20-122.27525%5D%2C%20%5B40.70881%2C%20-74.19166%5D%2C%20%5B33.894845000000004%2C%20-117.273569%5D%2C%20%5B34.056438%2C%20-117.78422%5D%2C%20%5B28.485668%2C%20-81.41736%5D%2C%20%5B32.93483%2C%20-96.75197%5D%2C%20%5B25.714872%2C%20-80.380915%5D%2C%20%5B33.912338%2C%20-84.37913%5D%2C%20%5B29.730044%2C%20-95.341168%5D%2C%20%5B33.869015000000005%2C%20-117.730573%5D%2C%20%5B38.677148%2C%20-120.91836200000002%5D%2C%20%5B32.692845%2C%20-117.095032%5D%2C%20%5B33.420261%2C%20-86.69505799999996%5D%2C%20%5B25.796831%2C%20-80.36641%5D%2C%20%5B33.567322999999995%2C%20-117.724777%5D%2C%20%5B27.88019%2C%20-82.657803%5D%2C%20%5B33.195169%2C%20-117.249318%5D%2C%20%5B40.729547%2C%20-73.910983%5D%2C%20%5B37.371871%2C%20-122.252618%5D%2C%20%5B34.054012%2C%20-117.689253%5D%2C%20%5B33.694847%2C%20-117.933485%5D%2C%20%5B25.890824%2C%20-80.17165899999998%5D%2C%20%5B40.5935%2C%20-111.9027%5D%2C%20%5B39.11208900000001%2C%20-94.564872%5D%2C%20%5B27.887072%2C%20-82.75654899999998%5D%2C%20%5B40.75185%2C%20-73.9429%5D%2C%20%5B44.06427%2C%20-123.10045%5D%2C%20%5B42.19748%2C%20-87.93706999999998%5D%2C%20%5B44.971531%2C%20-93.493012%5D%2C%20%5B25.8323%2C%20-80.226954%5D%2C%20%5B34.805606%2C%20-118.255118%5D%2C%20%5B34.892247999999995%2C%20-82.101267%5D%2C%20%5B40.610601%2C%20-74.097668%5D%2C%20%5B28.253687%2C%20-81.486757%5D%2C%20%5B27.96449%2C%20-82.42647099999998%5D%2C%20%5B39.79868%2C%20-86.04566%5D%2C%20%5B33.945481%2C%20-118.29613799999998%5D%2C%20%5B34.400378%2C%20-118.572644%5D%2C%20%5B36.15152%2C%20-86.75153%5D%2C%20%5B32.935912%2C%20-96.803942%5D%2C%20%5B34.01648%2C%20-118.05468%5D%2C%20%5B32.972190999999995%2C%20-96.921762%5D%2C%20%5B38.51752000000001%2C%20-90.54789%5D%2C%20%5B33.90183%2C%20-117.46671%5D%2C%20%5B48.406876%2C%20-114.262604%5D%2C%20%5B29.612857%2C%20-82.38267900000002%5D%2C%20%5B45.501927%2C%20-122.673586%5D%2C%20%5B45.04634%2C%20-122.97426000000002%5D%2C%20%5B45.07916%2C%20-93.1765%5D%2C%20%5B33.925046%2C%20-118.293903%5D%2C%20%5B29.69245%2C%20-82.449742%5D%2C%20%5B38.703929%2C%20-75.509883%5D%2C%20%5B38.665319%2C%20-77.273701%5D%2C%20%5B41.49453%2C%20-73.16062%5D%2C%20%5B33.501670000000004%2C%20-86.81465%5D%2C%20%5B38.560079%2C%20-121.468505%5D%2C%20%5B40.86553%2C%20-73.22046999999998%5D%2C%20%5B33.760101%2C%20-117.189451%5D%2C%20%5B37.334205%2C%20-122.047844%5D%2C%20%5B33.911367%2C%20-118.246221%5D%2C%20%5B38.769282%2C%20-121.249483%5D%2C%20%5B40.554438%2C%20-75.431804%5D%2C%20%5B26.22525%2C%20-80.13627%5D%2C%20%5B35.26991%2C%20-118.682405%5D%2C%20%5B43.01679%2C%20-74.87841%5D%2C%20%5B28.503523%2C%20-82.336004%5D%2C%20%5B39.680941%2C%20-104.82867%5D%2C%20%5B33.561617%2C%20-84.31488900000002%5D%2C%20%5B30.211658%2C%20-97.638376%5D%2C%20%5B33.847294%2C%20-117.907153%5D%2C%20%5B42.428394%2C%20-123.166726%5D%2C%20%5B36.547298%2C%20-119.799929%5D%2C%20%5B32.771102%2C%20-96.682631%5D%2C%20%5B34.645669%2C%20-78.589177%5D%2C%20%5B42.969878%2C%20-77.075518%5D%2C%20%5B33.859547%2C%20-117.923099%5D%2C%20%5B33.811209000000005%2C%20-118.293154%5D%2C%20%5B25.913562%2C%20-80.301879%5D%2C%20%5B33.016237%2C%20-80.088522%5D%2C%20%5B40.64525%2C%20-75.42576%5D%2C%20%5B34.849083%2C%20-111.605236%5D%2C%20%5B25.924424%2C%20-80.31085300000002%5D%2C%20%5B40.6344%2C%20-111.89536%5D%2C%20%5B40.677158%2C%20-74.002324%5D%2C%20%5B28.064701%2C%20-82.504385%5D%2C%20%5B39.90261%2C%20-75.15103%5D%2C%20%5B34.733823%2C%20-77.583485%5D%2C%20%5B34.226583000000005%2C%20-118.379893%5D%2C%20%5B29.965559%2C%20-90.087509%5D%2C%20%5B40.674036%2C%20-77.172292%5D%2C%20%5B25.701994%2C%20-80.379227%5D%2C%20%5B37.867474%2C%20-121.670977%5D%2C%20%5B39.9327%2C%20-82.82655%5D%2C%20%5B34.068622999999995%2C%20-117.375837%5D%2C%20%5B40.797663%2C%20-73.474958%5D%2C%20%5B33.914019%2C%20-118.104678%5D%2C%20%5B25.643213%2C%20-80.334324%5D%2C%20%5B47.595013%2C%20-122.180218%5D%2C%20%5B33.824379%2C%20-118.288516%5D%2C%20%5B33.010443%2C%20-80.240984%5D%2C%20%5B33.953634%2C%20-80.991577%5D%2C%20%5B36.840735%2C%20-119.675077%5D%2C%20%5B34.135595%2C%20-117.40975%5D%2C%20%5B35.644239%2C%20-88.91038%5D%2C%20%5B33.990838000000004%2C%20-118.342008%5D%2C%20%5B39.78067%2C%20-105.13507%5D%2C%20%5B25.891072%2C%20-80.209422%5D%2C%20%5B39.406938%2C%20-76.419574%5D%2C%20%5B39.05748%2C%20-121.449404%5D%2C%20%5B25.801189%2C%20-80.369279%5D%2C%20%5B37.77867%2C%20-122.40124%5D%2C%20%5B44.79382800000001%2C%20-92.888618%5D%2C%20%5B27.965408%2C%20-82.420517%5D%2C%20%5B41.23543%2C%20-96.08624%5D%2C%20%5B33.132177%2C%20-111.853221%5D%2C%20%5B33.562059999999995%2C%20-117.67292%5D%2C%20%5B33.901853%2C%20-118.293608%5D%2C%20%5B33.017201%2C%20-117.101705%5D%2C%20%5B33.073085%2C%20-96.687422%5D%2C%20%5B38.606311%2C%20-90.450836%5D%2C%20%5B36.15282%2C%20-86.68337%5D%2C%20%5B25.98034%2C%20-80.1657%5D%2C%20%5B37.08709%2C%20-120.212931%5D%2C%20%5B36.268988%2C%20-119.224934%5D%2C%20%5B37.325168%2C%20-121.886239%5D%2C%20%5B25.704114%2C%20-80.334288%5D%2C%20%5B27.59393%2C%20-82.42551999999998%5D%2C%20%5B41.172198%2C%20-93.784199%5D%2C%20%5B35.44208%2C%20-119.022214%5D%2C%20%5B44.815866%2C%20-93.218458%5D%2C%20%5B25.94236%2C%20-80.207619%5D%2C%20%5B45.23728%2C%20-122.80514%5D%2C%20%5B34.19925%2C%20-118.21943%5D%2C%20%5B40.69455%2C%20-75.233227%5D%2C%20%5B33.928931%2C%20-118.281073%5D%2C%20%5B40.726221%2C%20-73.97215899999998%5D%2C%20%5B33.846173%2C%20-118.284358%5D%2C%20%5B34.229933%2C%20-117.415856%5D%2C%20%5B29.514301%2C%20-98.695176%5D%2C%20%5B33.793913%2C%20-118.283797%5D%2C%20%5B38.98011500000001%2C%20-77.319225%5D%2C%20%5B38.595901%2C%20-121.295843%5D%2C%20%5B29.030041%2C%20-82.158783%5D%2C%20%5B38.621292%2C%20-121.503295%5D%2C%20%5B38.80229%2C%20-90.70362%5D%2C%20%5B35.100225%2C%20-80.77820200000002%5D%2C%20%5B37.155901%2C%20-121.655141%5D%2C%20%5B29.311676%2C%20-82.450969%5D%2C%20%5B46.208834%2C%20-114.14461%5D%2C%20%5B45.02289%2C%20-93.08985%5D%2C%20%5B35.0825%2C%20-89.94808%5D%2C%20%5B40.368464%2C%20-111.56035%5D%2C%20%5B28.56559600000001%2C%20-81.20740699999998%5D%2C%20%5B33.494106%2C%20-112.26385%5D%2C%20%5B32.741376%2C%20-117.11245%5D%2C%20%5B25.810799%2C%20-80.36940600000001%5D%2C%20%5B25.782748%2C%20-80.379989%5D%2C%20%5B38.550306%2C%20-121.473874%5D%2C%20%5B34.633506%2C%20-80.66920400000002%5D%2C%20%5B41.69835%2C%20-87.59477%5D%2C%20%5B28.216939%2C%20-82.723537%5D%2C%20%5B36.590294%2C%20-119.638124%5D%2C%20%5B25.872452%2C%20-80.170425%5D%2C%20%5B32.914284%2C%20-96.738979%5D%2C%20%5B33.367194%2C%20-117.183287%5D%2C%20%5B34.062294%2C%20-118.161746%5D%2C%20%5B34.118267%2C%20-84.218949%5D%2C%20%5B38.84965800000001%2C%20-76.557365%5D%2C%20%5B36.595531%2C%20-87.27914100000002%5D%2C%20%5B33.936192%2C%20-118.046571%5D%2C%20%5B36.923131%2C%20-76.270444%5D%2C%20%5B48.377216%2C%20-114.055466%5D%2C%20%5B39.74745%2C%20-84.16948000000002%5D%2C%20%5B32.221294%2C%20-110.973327%5D%2C%20%5B34.207562%2C%20-117.113102%5D%2C%20%5B34.055563%2C%20-118.197539%5D%2C%20%5B33.42946%2C%20-112.09347%5D%2C%20%5B33.155923%2C%20-111.840944%5D%2C%20%5B34.162361%2C%20-117.673371%5D%2C%20%5B30.30558%2C%20-84.400673%5D%2C%20%5B33.740462%2C%20-87.200127%5D%2C%20%5B33.93828%2C%20-118.36855%5D%2C%20%5B36.153956%2C%20-86.757305%5D%2C%20%5B39.23898%2C%20-76.66861999999998%5D%2C%20%5B37.827109%2C%20-122.279787%5D%2C%20%5B34.295406%2C%20-82.375785%5D%2C%20%5B38.901444%2C%20-121.181433%5D%2C%20%5B25.7695%2C%20-80.32034%5D%2C%20%5B33.474592%2C%20-112.266127%5D%2C%20%5B33.76403%2C%20-78.963552%5D%2C%20%5B43.96023%2C%20-93.25838%5D%2C%20%5B25.879999%2C%20-80.243026%5D%2C%20%5B34.983476%2C%20-85.408741%5D%2C%20%5B34.80115%2C%20-82.280273%5D%2C%20%5B43.713703%2C%20-91.45649%5D%2C%20%5B45.200516%2C%20-122.782679%5D%2C%20%5B35.754221%2C%20-78.64160600000002%5D%2C%20%5B33.696774%2C%20-117.863613%5D%2C%20%5B33.775309%2C%20-117.873526%5D%2C%20%5B41.05533300000001%2C%20-111.692875%5D%2C%20%5B38.91553%2C%20-94.70116%5D%2C%20%5B32.73007%2C%20-117.10786%5D%2C%20%5B32.83958%2C%20-96.8147%5D%2C%20%5B32.826721%2C%20-80.080031%5D%2C%20%5B40.722743%2C%20-74.134312%5D%2C%20%5B38.458676%2C%20-76.990787%5D%2C%20%5B29.682952%2C%20-95.569691%5D%2C%20%5B30.99529%2C%20-83.38909%5D%2C%20%5B45.13378%2C%20-93.23508%5D%2C%20%5B34.820202%2C%20-82.261806%5D%2C%20%5B26.55807%2C%20-80.07003%5D%2C%20%5B37.953205%2C%20-79.208651%5D%2C%20%5B28.582077%2C%20-81.38754300000002%5D%2C%20%5B34.968534000000005%2C%20-82.030971%5D%2C%20%5B36.108895%2C%20-86.724518%5D%2C%20%5B39.78253400000001%2C%20-104.998987%5D%2C%20%5B46.733533%2C%20-92.198134%5D%2C%20%5B39.256311%2C%20-104.889521%5D%2C%20%5B48.055395%2C%20-122.184727%5D%2C%20%5B34.030541%2C%20-81.10361%5D%2C%20%5B40.743888%2C%20-73.84697299999998%5D%2C%20%5B45.638669%2C%20-95.882141%5D%2C%20%5B38.288716%2C%20-77.50862%5D%2C%20%5B37.659844%2C%20-122.103742%5D%2C%20%5B33.990011%2C%20-117.945315%5D%2C%20%5B35.23443%2C%20-80.85771%5D%2C%20%5B32.784713%2C%20-96.562978%5D%2C%20%5B39.790595%2C%20-84.253805%5D%2C%20%5B41.74276%2C%20-71.44491%5D%2C%20%5B32.79384%2C%20-96.7257%5D%2C%20%5B38.27162%2C%20-104.57222%5D%2C%20%5B40.693351%2C%20-111.469171%5D%2C%20%5B34.02363%2C%20-117.76581000000002%5D%2C%20%5B39.825411%2C%20-121.927237%5D%2C%20%5B32.847165999999994%2C%20-96.710823%5D%2C%20%5B25.809469%2C%20-80.326111%5D%2C%20%5B38.965878%2C%20-94.358463%5D%2C%20%5B25.73315400000001%2C%20-80.330557%5D%2C%20%5B32.66225%2C%20-96.805863%5D%2C%20%5B33.57798%2C%20-84.34121999999998%5D%2C%20%5B38.714947%2C%20-77.164178%5D%2C%20%5B34.49094%2C%20-118.20267%5D%2C%20%5B43.137018%2C%20-77.60550500000002%5D%2C%20%5B40.826004%2C%20-73.85970999999998%5D%2C%20%5B40.786743%2C%20-73.92929699999998%5D%2C%20%5B44.164188%2C%20-92.779481%5D%2C%20%5B41.71321%2C%20-72.94575%5D%2C%20%5B35.792247%2C%20-78.599113%5D%2C%20%5B34.329444%2C%20-119.398056%5D%2C%20%5B25.92615%2C%20-80.147343%5D%2C%20%5B38.216165%2C%20-77.498655%5D%2C%20%5B32.209622%2C%20-110.879416%5D%2C%20%5B33.948124%2C%20-118.156364%5D%2C%20%5B38.979653000000006%2C%20-76.87474399999998%5D%2C%20%5B33.869341%2C%20-117.754349%5D%2C%20%5B34.921085999999995%2C%20-78.02800400000002%5D%2C%20%5B47.72242%2C%20-122.18975%5D%2C%20%5B42.91625%2C%20-74.16601999999997%5D%2C%20%5B40.472336%2C%20-75.860455%5D%2C%20%5B38.8148%2C%20-76.77772%5D%2C%20%5B38.74395%2C%20-121.184851%5D%2C%20%5B30.387503%2C%20-97.649666%5D%2C%20%5B39.612418%2C%20-77.782484%5D%2C%20%5B34.983191%2C%20-85.408975%5D%2C%20%5B37.776349%2C%20-122.393782%5D%2C%20%5B47.826029%2C%20-122.254668%5D%2C%20%5B37.627376%2C%20-122.081256%5D%2C%20%5B43.235717%2C%20-75.42833900000002%5D%2C%20%5B25.769687%2C%20-80.320326%5D%2C%20%5B33.494106%2C%20-117.149661%5D%2C%20%5B47.62995%2C%20-122.32673%5D%2C%20%5B37.151455%2C%20-121.651269%5D%2C%20%5B27.38891%2C%20-82.448593%5D%2C%20%5B34.148140000000005%2C%20-118.27932%5D%2C%20%5B36.605226%2C%20-119.610653%5D%2C%20%5B40.070524%2C%20-76.326677%5D%2C%20%5B36.104469%2C%20-95.855617%5D%2C%20%5B37.982719%2C%20-122.041525%5D%2C%20%5B25.648472%2C%20-80.362915%5D%2C%20%5B39.87650900000001%2C%20-75.257704%5D%2C%20%5B25.94071700000001%2C%20-80.300054%5D%2C%20%5B36.119731%2C%20-86.802302%5D%2C%20%5B43.143352%2C%20-123.38558700000002%5D%2C%20%5B39.927513%2C%20-86.26631400000002%5D%2C%20%5B43.439801%2C%20-123.316029%5D%2C%20%5B28.547451%2C%20-81.475639%5D%2C%20%5B40.106925%2C%20-76.249892%5D%2C%20%5B28.537185%2C%20-81.475727%5D%2C%20%5B42.64157%2C%20-124.40561%5D%2C%20%5B39.016109%2C%20-77.01646600000002%5D%2C%20%5B33.526933%2C%20-80.840158%5D%2C%20%5B39.033855%2C%20-94.301432%5D%2C%20%5B32.945362%2C%20-117.210779%5D%2C%20%5B44.830039%2C%20-117.443864%5D%2C%20%5B25.48444%2C%20-80.48156%5D%2C%20%5B25.78651%2C%20-80.212222%5D%2C%20%5B39.87363%2C%20-75.041%5D%2C%20%5B38.516351%2C%20-121.464581%5D%2C%20%5B35.76789%2C%20-78.57531999999998%5D%2C%20%5B46.867772%2C%20-113.946579%5D%2C%20%5B28.042217%2C%20-82.45496999999997%5D%2C%20%5B40.254517%2C%20-74.695025%5D%2C%20%5B27.755564%2C%20-82.764213%5D%2C%20%5B27.956198%2C%20-82.501525%5D%2C%20%5B39.077521%2C%20-76.95200799999998%5D%2C%20%5B29.481990000000003%2C%20-95.39958%5D%2C%20%5B28.60378900000001%2C%20-81.30995%5D%2C%20%5B28.421416%2C%20-81.397551%5D%2C%20%5B34.840557000000004%2C%20-82.707527%5D%2C%20%5B33.930240000000005%2C%20-79.929276%5D%2C%20%5B34.019644%2C%20-117.50717%5D%2C%20%5B39.113339%2C%20-76.777209%5D%2C%20%5B30.280691%2C%20-97.74556%5D%2C%20%5B42.45892%2C%20-83.21968000000003%5D%2C%20%5B40.185574%2C%20-79.91578100000002%5D%2C%20%5B25.670422%2C%20-80.430624%5D%2C%20%5B40.867627%2C%20-74.44626600000002%5D%2C%20%5B44.108285%2C%20-93.667454%5D%2C%20%5B35.3137%2C%20-119.03503%5D%2C%20%5B47.788431%2C%20-122.201259%5D%2C%20%5B42.37685%2C%20-83.03948000000003%5D%2C%20%5B37.360843%2C%20-79.962626%5D%2C%20%5B37.87423%2C%20-122.3059%5D%2C%20%5B25.69891%2C%20-80.38217900000002%5D%2C%20%5B25.853308%2C%20-80.22562099999998%5D%2C%20%5B45.36098%2C%20-122.760975%5D%2C%20%5B44.03127%2C%20-92.48841%5D%2C%20%5B42.24055%2C%20-87.97705%5D%2C%20%5B45.54079%2C%20-122.29839%5D%2C%20%5B34.272105%2C%20-118.46745%5D%2C%20%5B42.09194%2C%20-76.23288000000002%5D%2C%20%5B33.38596%2C%20-111.9568%5D%2C%20%5B38.014593%2C%20-122.25136%5D%2C%20%5B34.074169%2C%20-117.295623%5D%2C%20%5B32.712699%2C%20-96.714111%5D%2C%20%5B40.7276%2C%20-74.02104%5D%2C%20%5B35.263836%2C%20-81.06101%5D%2C%20%5B40.115485%2C%20-75.472792%5D%2C%20%5B38.24194%2C%20-122.05034%5D%2C%20%5B25.732173%2C%20-80.33572099999998%5D%2C%20%5B40.13284%2C%20-74.97509000000002%5D%2C%20%5B48.183988%2C%20-114.409061%5D%2C%20%5B25.579736%2C%20-80.368589%5D%2C%20%5B33.461791%2C%20-112.044378%5D%2C%20%5B41.189867%2C%20-111.971179%5D%2C%20%5B38.770542%2C%20-90.339174%5D%2C%20%5B32.763177%2C%20-96.807398%5D%2C%20%5B37.37531%2C%20-121.93404%5D%2C%20%5B37.461601%2C%20-121.178239%5D%2C%20%5B37.22669000000001%2C%20-121.97485%5D%2C%20%5B34.11966%2C%20-117.807473%5D%2C%20%5B34.229424%2C%20-79.708569%5D%2C%20%5B44.96987100000001%2C%20-93.308972%5D%2C%20%5B39.15376%2C%20-76.748417%5D%2C%20%5B26.46674%2C%20-80.08927%5D%2C%20%5B34.06983%2C%20-118.26133%5D%2C%20%5B27.446457%2C%20-82.494753%5D%2C%20%5B38.876585%2C%20-75.824196%5D%2C%20%5B39.264074%2C%20-76.565748%5D%2C%20%5B40.6659%2C%20-73.99604000000002%5D%2C%20%5B33.967291%2C%20-118.280986%5D%2C%20%5B39.826316%2C%20-121.59702%5D%2C%20%5B35.335239%2C%20-119.039708%5D%2C%20%5B36.300756%2C%20-86.70101899999996%5D%2C%20%5B38.566291%2C%20-109.550463%5D%2C%20%5B38.25045%2C%20-85.80674%5D%2C%20%5B25.785586%2C%20-80.214288%5D%2C%20%5B29.820962%2C%20-95.410419%5D%2C%20%5B33.946195%2C%20-117.297335%5D%2C%20%5B25.812155%2C%20-80.235505%5D%2C%20%5B33.709761%2C%20-117.084943%5D%2C%20%5B30.247336%2C%20-97.769558%5D%2C%20%5B45.507012%2C%20-122.670625%5D%2C%20%5B35.9447%2C%20-78.562016%5D%2C%20%5B29.069103%2C%20-81.040913%5D%2C%20%5B44.85879%2C%20-93.66296%5D%2C%20%5B30.228013%2C%20-97.941967%5D%2C%20%5B42.959191%2C%20-85.671974%5D%2C%20%5B33.754804%2C%20-84.46599599999998%5D%2C%20%5B37.37386%2C%20-121.928728%5D%2C%20%5B43.662983%2C%20-116.354323%5D%2C%20%5B37.20877%2C%20-76.580718%5D%2C%20%5B40.357514%2C%20-74.12920799999998%5D%2C%20%5B38.47833%2C%20-121.42725%5D%2C%20%5B25.77004%2C%20-80.313908%5D%2C%20%5B35.221184%2C%20-80.829882%5D%2C%20%5B34.119661%2C%20-117.799083%5D%2C%20%5B45.272183%2C%20-123.835496%5D%2C%20%5B33.851719%2C%20-83.903193%5D%2C%20%5B37.76345300000001%2C%20-77.460447%5D%2C%20%5B37.610396%2C%20-122.069102%5D%2C%20%5B36.734948%2C%20-120.042326%5D%2C%20%5B44.884172%2C%20-93.171888%5D%2C%20%5B36.113386%2C%20-95.89594%5D%2C%20%5B40.63063%2C%20-111.87976%5D%2C%20%5B41.03961%2C%20-73.83644%5D%2C%20%5B32.84411%2C%20-117.176173%5D%2C%20%5B36.32586%2C%20-119.11695%5D%2C%20%5B25.63346%2C%20-80.382633%5D%2C%20%5B37.71122%2C%20-122.16472%5D%2C%20%5B43.900872%2C%20-91.3463%5D%2C%20%5B34.934042%2C%20-82.145584%5D%2C%20%5B32.77021%2C%20-117.139179%5D%2C%20%5B32.578424%2C%20-97.355426%5D%2C%20%5B41.59451%2C%20-88.16296%5D%2C%20%5B36.04414000000001%2C%20-86.65718000000004%5D%2C%20%5B36.727187%2C%20-76.631603%5D%2C%20%5B28.59155800000001%2C%20-81.380173%5D%2C%20%5B38.290934%2C%20-121.337392%5D%2C%20%5B28.167024%2C%20-80.705984%5D%2C%20%5B33.676636%2C%20-117.843507%5D%2C%20%5B34.849899%2C%20-117.08592%5D%2C%20%5B30.343455%2C%20-91.027339%5D%2C%20%5B33.735890999999995%2C%20-117.99414%5D%2C%20%5B34.382909999999995%2C%20-78.318889%5D%2C%20%5B34.153839000000005%2C%20-118.325889%5D%2C%20%5B36.78931%2C%20-76.223966%5D%2C%20%5B44.685923%2C%20-93.293263%5D%2C%20%5B38.315807%2C%20-122.03213%5D%2C%20%5B34.087270000000004%2C%20-117.6515%5D%2C%20%5B39.530686%2C%20-76.182192%5D%2C%20%5B37.490687%2C%20-122.217312%5D%2C%20%5B38.70104600000001%2C%20-78.655811%5D%2C%20%5B34.018065%2C%20-117.340805%5D%2C%20%5B34.999340000000004%2C%20-120.435959%5D%2C%20%5B34.222372%2C%20-89.925841%5D%2C%20%5B39.137238%2C%20-85.957921%5D%2C%20%5B37.66434%2C%20-97.33421%5D%2C%20%5B41.342779%2C%20-74.117435%5D%2C%20%5B27.38856%2C%20-82.454759%5D%2C%20%5B39.629622%2C%20-74.771434%5D%2C%20%5B40.731912%2C%20-74.04616899999998%5D%2C%20%5B32.846878000000004%2C%20-96.912428%5D%2C%20%5B27.01240300000001%2C%20-80.214843%5D%2C%20%5B33.587270000000004%2C%20-112.11705%5D%2C%20%5B33.60237%2C%20-114.51447%5D%2C%20%5B34.433084%2C%20-118.531463%5D%2C%20%5B33.912238%2C%20-84.207817%5D%2C%20%5B29.78908%2C%20-95.443046%5D%2C%20%5B37.35096%2C%20-121.83839%5D%2C%20%5B39.983901%2C%20-75.017831%5D%2C%20%5B35.79896%2C%20-78.47482%5D%2C%20%5B40.406846%2C%20-111.521996%5D%2C%20%5B34.11001%2C%20-118.33386000000002%5D%2C%20%5B28.568399%2C%20-81.475962%5D%2C%20%5B25.672005%2C%20-80.382019%5D%2C%20%5B36.866022%2C%20-76.269297%5D%2C%20%5B47.554053%2C%20-122.19231200000002%5D%2C%20%5B42.26796%2C%20-71.79333000000003%5D%2C%20%5B43.14442%2C%20-88.05471999999996%5D%2C%20%5B39.189617%2C%20-74.820647%5D%2C%20%5B41.85697%2C%20-88.16093000000002%5D%2C%20%5B34.009745%2C%20-117.426909%5D%2C%20%5B43.670534%2C%20-120.231944%5D%2C%20%5B45.072623%2C%20-122.960363%5D%2C%20%5B28.568293%2C%20-81.37612800000002%5D%2C%20%5B30.21535200000001%2C%20-81.760865%5D%2C%20%5B38.10808%2C%20-87.553771%5D%2C%20%5B32.836067%2C%20-117.20138500000002%5D%2C%20%5B34.119287%2C%20-118.23257%5D%2C%20%5B27.964839%2C%20-82.446154%5D%2C%20%5B42.607008%2C%20-83.209623%5D%2C%20%5B40.099014%2C%20-76.258517%5D%2C%20%5B33.306638%2C%20-87.630096%5D%2C%20%5B30.315431%2C%20-81.752022%5D%2C%20%5B25.624187%2C%20-80.414429%5D%2C%20%5B40.74328%2C%20-73.7755%5D%2C%20%5B27.85854%2C%20-82.78699%5D%2C%20%5B36.973236%2C%20-122.024542%5D%2C%20%5B45.06892%2C%20-93.29695%5D%2C%20%5B25.899013%2C%20-80.258791%5D%2C%20%5B40.91042%2C%20-74.56411%5D%2C%20%5B34.11638%2C%20-118.17085%5D%2C%20%5B37.50507%2C%20-77.61169%5D%2C%20%5B40.75673%2C%20-73.9951%5D%2C%20%5B29.95167600000001%2C%20-90.068641%5D%2C%20%5B39.784959%2C%20-94.794749%5D%2C%20%5B36.85381%2C%20-121.568965%5D%2C%20%5B38.55956%2C%20-121.46919%5D%2C%20%5B34.172007%2C%20-118.47146399999998%5D%2C%20%5B44.13607%2C%20-93.88524%5D%2C%20%5B37.363138%2C%20-121.891589%5D%2C%20%5B37.239907%2C%20-121.784895%5D%2C%20%5B36.977172%2C%20-122.053162%5D%2C%20%5B37.793505%2C%20-122.263985%5D%2C%20%5B43.498238%2C%20-70.488703%5D%2C%20%5B30.038262%2C%20-89.905403%5D%2C%20%5B39.78139%2C%20-105.13389%5D%2C%20%5B41.55362%2C%20-87.31126%5D%2C%20%5B44.773313%2C%20-93.299197%5D%2C%20%5B34.15542%2C%20-118.40082%5D%2C%20%5B28.575209%2C%20-81.451796%5D%2C%20%5B29.71932%2C%20-95.496798%5D%2C%20%5B32.49622%2C%20-82.97473000000002%5D%2C%20%5B45.06441%2C%20-93.22256%5D%2C%20%5B34.185922999999995%2C%20-118.473891%5D%2C%20%5B34.720383%2C%20-82.220302%5D%2C%20%5B45.06653%2C%20-93.16941%5D%2C%20%5B25.880906%2C%20-80.226609%5D%2C%20%5B37.67326%2C%20-122.46817%5D%2C%20%5B28.452192%2C%20-81.400388%5D%2C%20%5B41.97701%2C%20-78.623453%5D%2C%20%5B34.664679%2C%20-118.76129%5D%2C%20%5B33.463723%2C%20-112.063775%5D%2C%20%5B32.21583%2C%20-109.883462%5D%2C%20%5B35.968392%2C%20-119.288446%5D%2C%20%5B41.35278%2C%20-81.03763000000002%5D%2C%20%5B34.005720000000004%2C%20-117.96019%5D%2C%20%5B33.000699%2C%20-117.225683%5D%2C%20%5B43.015629%2C%20-85.687113%5D%2C%20%5B41.170309%2C%20-79.08593%5D%2C%20%5B45.50442%2C%20-122.56546000000002%5D%2C%20%5B38.835693%2C%20-77.42275500000002%5D%2C%20%5B34.142259%2C%20-118.173452%5D%2C%20%5B33.88356%2C%20-118.191038%5D%2C%20%5B35.0877%2C%20-89.87219%5D%2C%20%5B39.828411%2C%20-86.033796%5D%2C%20%5B38.781934%2C%20-90.376929%5D%2C%20%5B40.404132%2C%20-75.498515%5D%2C%20%5B39.017397%2C%20-76.97705500000002%5D%2C%20%5B33.88358%2C%20-117.5358%5D%2C%20%5B39.00556%2C%20-94.69402%5D%2C%20%5B33.501681%2C%20-112.043541%5D%2C%20%5B39.725675%2C%20-105.064834%5D%2C%20%5B34.07504%2C%20-118.46846%5D%2C%20%5B28.520865%2C%20-82.56454000000002%5D%2C%20%5B45.083668%2C%20-123.470818%5D%2C%20%5B32.92484%2C%20-97.08833%5D%2C%20%5B34.036996%2C%20-118.28755%5D%2C%20%5B33.776087%2C%20-82.811966%5D%2C%20%5B32.44342%2C%20-93.731956%5D%2C%20%5B35.207802%2C%20-80.864704%5D%2C%20%5B36.138286%2C%20-119.107306%5D%2C%20%5B34.502531%2C%20-82.68388900000002%5D%2C%20%5B35.00605%2C%20-80.894088%5D%2C%20%5B40.68018%2C%20-111.83238%5D%2C%20%5B34.14666%2C%20-118.22637%5D%2C%20%5B35.20139%2C%20-78.67101%5D%2C%20%5B46.012963%2C%20-95.775622%5D%2C%20%5B37.001641%2C%20-122.020908%5D%2C%20%5B38.346683%2C%20-121.996627%5D%2C%20%5B29.68845%2C%20-95.5702%5D%2C%20%5B35.32271%2C%20-80.90196999999998%5D%2C%20%5B28.359565000000003%2C%20-81.40843199999998%5D%2C%20%5B44.54035800000001%2C%20-117.416254%5D%2C%20%5B36.48706%2C%20-119.324358%5D%2C%20%5B39.061971%2C%20-77.481658%5D%2C%20%5B34.3357%2C%20-119.293073%5D%2C%20%5B30.06568%2C%20-95.43414%5D%2C%20%5B37.593308%2C%20-122.366427%5D%2C%20%5B40.603361%2C%20-74.476119%5D%2C%20%5B28.449998%2C%20-81.469791%5D%2C%20%5B33.21408%2C%20-117.38968%5D%2C%20%5B34.937499%2C%20-82.068139%5D%2C%20%5B25.71596700000001%2C%20-80.364191%5D%2C%20%5B34.779134%2C%20-82.458471%5D%2C%20%5B38.673176%2C%20-121.630883%5D%2C%20%5B30.418957%2C%20-97.702292%5D%2C%20%5B40.535656%2C%20-77.379938%5D%2C%20%5B44.321795%2C%20-93.298218%5D%2C%20%5B26.096795%2C%20-80.23881%5D%2C%20%5B46.01841%2C%20-122.84944%5D%2C%20%5B40.69992%2C%20-73.96172%5D%2C%20%5B28.496393%2C%20-81.39693100000002%5D%2C%20%5B47.867935%2C%20-122.276748%5D%2C%20%5B34.067811%2C%20-117.516821%5D%2C%20%5B25.840731%2C%20-80.33363100000003%5D%2C%20%5B34.059483%2C%20-117.96498400000002%5D%2C%20%5B32.07217%2C%20-81.135052%5D%2C%20%5B39.160047%2C%20-76.82388399999998%5D%2C%20%5B44.862161%2C%20-93.277347%5D%2C%20%5B25.950338%2C%20-80.245662%5D%2C%20%5B35.205312%2C%20-78.666476%5D%2C%20%5B33.614676%2C%20-117.707795%5D%2C%20%5B33.765159999999995%2C%20-84.52149%5D%2C%20%5B47.18834%2C%20-122.46281%5D%2C%20%5B41.34151%2C%20-83.22446%5D%2C%20%5B40.49727100000001%2C%20-74.440136%5D%2C%20%5B37.138698%2C%20-93.278272%5D%2C%20%5B40.004804%2C%20-76.814662%5D%2C%20%5B34.141144%2C%20-118.277854%5D%2C%20%5B38.900951%2C%20-76.850566%5D%2C%20%5B36.233012%2C%20-86.768387%5D%2C%20%5B25.591477%2C%20-80.38010200000002%5D%2C%20%5B33.54333%2C%20-117.176603%5D%2C%20%5B38.593359%2C%20-121.401479%5D%2C%20%5B41.566928%2C%20-73.907347%5D%2C%20%5B34.121313%2C%20-117.25736299999998%5D%2C%20%5B41.39947%2C%20-72.85128%5D%2C%20%5B30.414424%2C%20-91.098846%5D%2C%20%5B39.121469%2C%20-122.839881%5D%2C%20%5B33.526465%2C%20-84.979218%5D%2C%20%5B25.979964%2C%20-80.165963%5D%2C%20%5B45.14561%2C%20-93.18248%5D%2C%20%5B44.540945%2C%20-123.06197%5D%2C%20%5B42.705342%2C%20-73.831824%5D%2C%20%5B25.629835%2C%20-80.305621%5D%2C%20%5B37.855597%2C%20-121.274852%5D%2C%20%5B25.821982%2C%20-80.243563%5D%2C%20%5B37.463274%2C%20-120.822409%5D%2C%20%5B28.029738%2C%20-82.14043000000002%5D%2C%20%5B33.925834%2C%20-118.212515%5D%2C%20%5B33.85127%2C%20-117.789369%5D%2C%20%5B29.845725%2C%20-95.392826%5D%2C%20%5B28.554416%2C%20-81.489808%5D%2C%20%5B33.974651%2C%20-118.280991%5D%2C%20%5B38.528455%2C%20-121.519141%5D%2C%20%5B38.962093%2C%20-77.186571%5D%2C%20%5B32.87513%2C%20-117.199411%5D%2C%20%5B39.85056%2C%20-75.37680999999998%5D%2C%20%5B44.969401%2C%20-93.303545%5D%2C%20%5B37.88263%2C%20-122.05207%5D%2C%20%5B40.706223%2C%20-74.002779%5D%2C%20%5B28.436768%2C%20-81.404486%5D%2C%20%5B43.543961%2C%20-96.749964%5D%2C%20%5B32.358159%2C%20-95.307606%5D%2C%20%5B34.653624%2C%20-84.436666%5D%2C%20%5B34.179703%2C%20-79.808757%5D%2C%20%5B40.732332%2C%20-111.9045%5D%2C%20%5B35.111351%2C%20-85.130072%5D%2C%20%5B25.731966%2C%20-80.384853%5D%2C%20%5B38.235408%2C%20-122.67703799999998%5D%2C%20%5B44.397602%2C%20-122.736024%5D%2C%20%5B32.748539%2C%20-117.153469%5D%2C%20%5B33.62783%2C%20-84.48899%5D%2C%20%5B43.85298%2C%20-91.30094%5D%2C%20%5B41.233237%2C%20-73.03760600000003%5D%2C%20%5B30.394212%2C%20-97.718213%5D%2C%20%5B35.997562%2C%20-95.904276%5D%2C%20%5B37.318826%2C%20-121.901998%5D%2C%20%5B33.662519%2C%20-117.874879%5D%2C%20%5B32.459297%2C%20-93.767273%5D%2C%20%5B33.87322%2C%20-118.00946%5D%2C%20%5B34.000574%2C%20-117.888032%5D%2C%20%5B45.233443%2C%20-112.604959%5D%2C%20%5B39.719629%2C%20-120.53526%5D%2C%20%5B37.340862%2C%20-121.928055%5D%2C%20%5B42.231469%2C%20-83.59683100000002%5D%2C%20%5B41.30367%2C%20-73.03426999999998%5D%2C%20%5B27.44766%2C%20-82.55591%5D%2C%20%5B25.89808%2C%20-80.339272%5D%2C%20%5B35.080785%2C%20-85.24359799999998%5D%2C%20%5B34.853557%2C%20-82.383416%5D%2C%20%5B35.51859%2C%20-82.96736%5D%2C%20%5B29.733122%2C%20-95.501305%5D%2C%20%5B29.954516%2C%20-81.44245500000002%5D%2C%20%5B34.948985%2C%20-82.197253%5D%2C%20%5B37.999551%2C%20-122.076159%5D%2C%20%5B40.743771%2C%20-73.895377%5D%2C%20%5B42.665179%2C%20-84.267679%5D%2C%20%5B41.815027%2C%20-112.396909%5D%2C%20%5B38.595512%2C%20-121.48077%5D%2C%20%5B43.633476%2C%20-73.94104300000002%5D%2C%20%5B34.800084000000005%2C%20-91.753853%5D%2C%20%5B38.845199%2C%20-120.030795%5D%2C%20%5B45.253978%2C%20-121.711426%5D%2C%20%5B33.953263%2C%20-118.232854%5D%2C%20%5B42.730668%2C%20-83.369718%5D%2C%20%5B40.766357%2C%20-76.548276%5D%2C%20%5B33.657569%2C%20-117.777387%5D%2C%20%5B45.17974%2C%20-117.984098%5D%2C%20%5B37.565086%2C%20-120.923568%5D%2C%20%5B40.56329%2C%20-111.89898%5D%2C%20%5B37.552525%2C%20-77.47882800000002%5D%2C%20%5B37.496079%2C%20-122.232535%5D%2C%20%5B29.52253%2C%20-82.309721%5D%2C%20%5B37.38665%2C%20-121.90556%5D%2C%20%5B34.510868%2C%20-84.918679%5D%2C%20%5B34.053044%2C%20-118.228279%5D%2C%20%5B34.172764%2C%20-80.898031%5D%2C%20%5B35.83381400000001%2C%20-78.632772%5D%2C%20%5B30.86936%2C%20-88.19710500000002%5D%2C%20%5B36.732374%2C%20-121.597132%5D%2C%20%5B39.86816%2C%20-75.33935%5D%2C%20%5B34.929201%2C%20-85.15362900000002%5D%2C%20%5B34.134256%2C%20-117.674963%5D%2C%20%5B40.641248%2C%20-74.209787%5D%2C%20%5B36.08268%2C%20-86.71049000000002%5D%2C%20%5B37.672045%2C%20-122.119855%5D%2C%20%5B41.758568%2C%20-88.03564200000002%5D%2C%20%5B43.604961%2C%20-116.277827%5D%2C%20%5B26.164726%2C%20-80.20489%5D%2C%20%5B37.80857%2C%20-122.24208%5D%2C%20%5B25.953452%2C%20-80.205487%5D%2C%20%5B39.936153%2C%20-75.08601999999998%5D%2C%20%5B39.236174%2C%20-76.473327%5D%2C%20%5B43.89215%2C%20-121.37673999999998%5D%2C%20%5B34.358105%2C%20-117.62449%5D%2C%20%5B39.613555%2C%20-84.163325%5D%2C%20%5B45.305105%2C%20-93.570607%5D%2C%20%5B34.457328000000004%2C%20-117.669307%5D%2C%20%5B30.680211%2C%20-87.98974799999998%5D%2C%20%5B28.176101%2C%20-82.353526%5D%2C%20%5B37.36274%2C%20-121.88781000000002%5D%2C%20%5B45.045761%2C%20-122.97503799999998%5D%2C%20%5B41.299055%2C%20-76.690825%5D%2C%20%5B28.494544%2C%20-81.39556%5D%2C%20%5B45.499809%2C%20-122.622643%5D%2C%20%5B34.552457000000004%2C%20-118.668886%5D%2C%20%5B29.817533%2C%20-82.900451%5D%2C%20%5B34.035528%2C%20-118.169879%5D%2C%20%5B33.428515999999995%2C%20-112.09932%5D%2C%20%5B27.110642%2C%20-82.342647%5D%2C%20%5B39.89912800000001%2C%20-75.174825%5D%2C%20%5B37.307065%2C%20-80.06882900000002%5D%2C%20%5B32.701238000000004%2C%20-117.142868%5D%2C%20%5B38.537188%2C%20-121.473496%5D%2C%20%5B25.79548%2C%20-80.196729%5D%2C%20%5B26.268235%2C%20-80.168684%5D%2C%20%5B38.284461%2C%20-77.479699%5D%2C%20%5B38.366134%2C%20-122.296592%5D%2C%20%5B32.715207%2C%20-79.965288%5D%2C%20%5B38.424989%2C%20-77.421226%5D%2C%20%5B32.88432%2C%20-96.69737%5D%2C%20%5B34.007020000000004%2C%20-117.82629%5D%2C%20%5B44.12968%2C%20-93.24778%5D%2C%20%5B40.799328%2C%20-74.467123%5D%2C%20%5B33.742041%2C%20-117.836363%5D%2C%20%5B38.622731%2C%20-76.904972%5D%2C%20%5B37.5199%2C%20-122.35397%5D%2C%20%5B40.7276%2C%20-74.02104%5D%2C%20%5B37.364358%2C%20-121.9018%5D%2C%20%5B34.01996%2C%20-78.26668000000002%5D%2C%20%5B44.896177%2C%20-94.333173%5D%2C%20%5B39.8564%2C%20-75.37698%5D%2C%20%5B32.723312%2C%20-96.828346%5D%2C%20%5B42.98085%2C%20-78.84728%5D%2C%20%5B41.160761%2C%20-74.184783%5D%2C%20%5B39.01985%2C%20-76.41466%5D%2C%20%5B28.41652%2C%20-81.41924300000002%5D%2C%20%5B35.260281%2C%20-80.89894100000002%5D%2C%20%5B41.99345%2C%20-88.16271%5D%2C%20%5B40.146443%2C%20-76.612916%5D%2C%20%5B42.46493%2C%20-123.32363%5D%2C%20%5B37.685929%2C%20-121.916623%5D%2C%20%5B39.38837%2C%20-76.55117%5D%2C%20%5B29.80597%2C%20-95.56354%5D%2C%20%5B25.768661%2C%20-80.365911%5D%2C%20%5B47.60978%2C%20-122.18878%5D%2C%20%5B40.125315%2C%20-75.350075%5D%2C%20%5B38.911556%2C%20-78.073824%5D%2C%20%5B43.051746%2C%20-76.1406%5D%2C%20%5B34.136223%2C%20-117.453729%5D%2C%20%5B33.650490999999995%2C%20-112.112137%5D%2C%20%5B42.682806%2C%20-73.84303100000002%5D%2C%20%5B40.129698%2C%20-75.335914%5D%2C%20%5B30.068104%2C%20-89.953453%5D%2C%20%5B32.272079999999995%2C%20-110.96052%5D%2C%20%5B29.71121%2C%20-95.12001%5D%2C%20%5B44.9549%2C%20-93.18846%5D%2C%20%5B39.775527%2C%20-74.244989%5D%2C%20%5B25.749276%2C%20-80.30357099999998%5D%2C%20%5B47.61953%2C%20-122.32821%5D%2C%20%5B33.902734%2C%20-117.46374%5D%2C%20%5B32.330016%2C%20-95.302715%5D%2C%20%5B37.718%2C%20-121.70134%5D%2C%20%5B44.741553%2C%20-124.055747%5D%2C%20%5B39.053016%2C%20-76.841286%5D%2C%20%5B25.99086%2C%20-80.16569%5D%2C%20%5B35.084228%2C%20-85.073774%5D%2C%20%5B42.80536%2C%20-86.02095%5D%2C%20%5B35.356598%2C%20-80.854552%5D%2C%20%5B46.743293%2C%20-92.154896%5D%2C%20%5B34.020055%2C%20-118.190522%5D%2C%20%5B33.51762%2C%20-117.6643%5D%2C%20%5B39.034775%2C%20-94.3091%5D%2C%20%5B25.687938%2C%20-80.41644000000002%5D%2C%20%5B34.067464%2C%20-117.58678700000002%5D%2C%20%5B34.04132%2C%20-117.155493%5D%2C%20%5B37.833399%2C%20-122.29393%5D%2C%20%5B32.97639%2C%20-96.71549%5D%2C%20%5B25.723989000000003%2C%20-80.315201%5D%2C%20%5B42.598675%2C%20-123.384007%5D%2C%20%5B42.974475%2C%20-83.669273%5D%2C%20%5B40.052295%2C%20-75.530038%5D%2C%20%5B34.002741%2C%20-118.167016%5D%2C%20%5B34.281495%2C%20-118.713895%5D%2C%20%5B40.18508%2C%20-75.09456%5D%2C%20%5B26.46053%2C%20-80.09356%5D%2C%20%5B41.065499%2C%20-104.870651%5D%2C%20%5B41.42688%2C%20-72.6356%5D%2C%20%5B42.97009%2C%20-85.67815999999998%5D%2C%20%5B25.893911%2C%20-80.32444%5D%2C%20%5B37.89589%2C%20-122.071867%5D%2C%20%5B39.72526%2C%20-105.19053%5D%2C%20%5B30.481573%2C%20-91.097319%5D%2C%20%5B33.865120000000005%2C%20-118.32863%5D%2C%20%5B34.055819%2C%20-117.691533%5D%2C%20%5B25.889494%2C%20-80.16233199999998%5D%2C%20%5B25.811616%2C%20-80.197845%5D%2C%20%5B40.86721%2C%20-74.044927%5D%2C%20%5B29.842804%2C%20-95.390966%5D%2C%20%5B42.826668%2C%20-73.769763%5D%2C%20%5B41.84259%2C%20-87.83263000000002%5D%2C%20%5B36.431067%2C%20-119.801184%5D%2C%20%5B30.312517%2C%20-82.162511%5D%2C%20%5B40.114686%2C%20-79.310879%5D%2C%20%5B42.38139%2C%20-83.43642%5D%2C%20%5B35.283115%2C%20-119.027279%5D%2C%20%5B37.892864%2C%20-122.124999%5D%2C%20%5B34.019884000000005%2C%20-118.424722%5D%2C%20%5B33.90784%2C%20-117.45404%5D%2C%20%5B37.094621%2C%20-121.573656%5D%2C%20%5B38.45545%2C%20-122.72592%5D%2C%20%5B41.53831%2C%20-93.64513%5D%2C%20%5B35.014959000000005%2C%20-120.540826%5D%2C%20%5B38.31472%2C%20-77.470128%5D%2C%20%5B29.972796%2C%20-90.042653%5D%2C%20%5B44.0289%2C%20-92.62821%5D%2C%20%5B39.71761%2C%20-105.69641%5D%2C%20%5B40.21961%2C%20-111.10414%5D%2C%20%5B39.93268%2C%20-74.96864000000002%5D%2C%20%5B40.55951%2C%20-79.95926%5D%2C%20%5B37.580268%2C%20-120.950218%5D%2C%20%5B30.187113%2C%20-97.693028%5D%2C%20%5B40.9619%2C%20-81.46262%5D%2C%20%5B44.803308%2C%20-117.814689%5D%2C%20%5B36.073431%2C%20-86.63763%5D%2C%20%5B34.006956%2C%20-117.964227%5D%2C%20%5B46.96878%2C%20-93.603%5D%2C%20%5B33.853269%2C%20-118.280556%5D%2C%20%5B43.19311%2C%20-77.62187%5D%2C%20%5B30.446207%2C%20-91.007654%5D%2C%20%5B37.722832%2C%20-122.401651%5D%2C%20%5B41.868361%2C%20-122.807825%5D%2C%20%5B37.768519%2C%20-122.405095%5D%2C%20%5B39.265083%2C%20-76.56225%5D%2C%20%5B37.44256%2C%20-77.42954%5D%2C%20%5B40.727981%2C%20-73.886414%5D%2C%20%5B43.03545%2C%20-89.43212%5D%2C%20%5B30.367931%2C%20-91.027721%5D%2C%20%5B37.340147%2C%20-120.59668899999998%5D%2C%20%5B36.622108%2C%20-121.684477%5D%2C%20%5B41.39654%2C%20-73.59488%5D%2C%20%5B37.14573%2C%20-121.985052%5D%2C%20%5B33.106328000000005%2C%20-117.312309%5D%2C%20%5B42.912664%2C%20-85.63023000000003%5D%2C%20%5B40.69654%2C%20-112.03243700000002%5D%2C%20%5B43.75456%2C%20-87.90115%5D%2C%20%5B25.68887%2C%20-80.35042800000002%5D%2C%20%5B25.736737%2C%20-80.335842%5D%2C%20%5B25.685172%2C%20-80.419318%5D%2C%20%5B34.167941%2C%20-117.336148%5D%2C%20%5B26.797724%2C%20-80.131691%5D%2C%20%5B27.960463%2C%20-82.748802%5D%2C%20%5B45.698908%2C%20-108.671661%5D%2C%20%5B40.075903%2C%20-75.28528299999998%5D%2C%20%5B37.510699%2C%20-120.87976299999998%5D%2C%20%5B36.142015%2C%20-86.627537%5D%2C%20%5B44.27718%2C%20-84.151915%5D%2C%20%5B43.992636%2C%20-123.005647%5D%2C%20%5B41.569166%2C%20-87.356174%5D%2C%20%5B28.5387%2C%20-81.3477%5D%2C%20%5B42.533255%2C%20-70.982076%5D%2C%20%5B45.14283%2C%20-93.27922%5D%2C%20%5B35.123361%2C%20-81.86362%5D%2C%20%5B33.914312%2C%20-117.28623%5D%2C%20%5B34.30296%2C%20-117.461035%5D%2C%20%5B33.77556%2C%20-112.13081%5D%2C%20%5B40.923825%2C%20-74.95393299999998%5D%2C%20%5B40.7312%2C%20-74.12525%5D%2C%20%5B33.507527%2C%20-81.710838%5D%2C%20%5B38.785603%2C%20-77.178637%5D%2C%20%5B39.982842%2C%20-75.926567%5D%2C%20%5B45.56086%2C%20-122.56372%5D%2C%20%5B29.8346%2C%20-95.38534%5D%2C%20%5B28.156405%2C%20-82.53770300000002%5D%2C%20%5B25.928067%2C%20-80.19905200000002%5D%2C%20%5B25.627652%2C%20-80.341551%5D%2C%20%5B34.98678%2C%20-90.00198%5D%2C%20%5B38.66257%2C%20-121.36446399999998%5D%2C%20%5B34.733215%2C%20-83.015151%5D%2C%20%5B34.060497%2C%20-118.21497%5D%2C%20%5B44.86314%2C%20-93.65344%5D%2C%20%5B38.596173%2C%20-121.412259%5D%2C%20%5B40.825209%2C%20-77.857598%5D%2C%20%5B42.37351%2C%20-83.05986%5D%2C%20%5B32.711456%2C%20-117.119075%5D%2C%20%5B33.864192%2C%20-118.28513999999998%5D%2C%20%5B25.892134%2C%20-80.18514300000002%5D%2C%20%5B35.186069%2C%20-80.890171%5D%2C%20%5B44.82909%2C%20-93.29247%5D%2C%20%5B34.0659%2C%20-118.156185%5D%2C%20%5B42.675825%2C%20-76.428065%5D%2C%20%5B37.591127%2C%20-121.333626%5D%2C%20%5B30.501445%2C%20-86.208987%5D%2C%20%5B34.347021000000005%2C%20-117.476956%5D%2C%20%5B42.962927%2C%20-85.654327%5D%2C%20%5B25.582114%2C%20-80.366346%5D%2C%20%5B37.132061%2C%20-77.518898%5D%2C%20%5B30.314164%2C%20-81.733048%5D%2C%20%5B39.627266%2C%20-77.972819%5D%2C%20%5B40.125562%2C%20-74.716952%5D%2C%20%5B34.003757%2C%20-118.282706%5D%2C%20%5B34.05447%2C%20-118.20992%5D%2C%20%5B35.673617%2C%20-81.149463%5D%2C%20%5B38.276446%2C%20-78.93643%5D%2C%20%5B40.77048%2C%20-74.06276%5D%2C%20%5B36.07362%2C%20-79.17389%5D%2C%20%5B39.825879%2C%20-85.62299200000002%5D%2C%20%5B45.847095%2C%20-122.70073%5D%2C%20%5B40.78125%2C%20-111.949195%5D%2C%20%5B45.054111%2C%20-123.49643%5D%2C%20%5B41.410185%2C%20-112.050236%5D%2C%20%5B40.686844%2C%20-124.264367%5D%2C%20%5B25.684798%2C%20-80.431106%5D%2C%20%5B41.765481%2C%20-72.690128%5D%2C%20%5B41.038898%2C%20-81.940214%5D%2C%20%5B33.50201%2C%20-84.22675%5D%2C%20%5B39.78325%2C%20-105.00679%5D%2C%20%5B32.997629%2C%20-96.828489%5D%2C%20%5B38.423062%2C%20-121.486569%5D%2C%20%5B37.33783%2C%20-121.99509%5D%2C%20%5B27.429207%2C%20-82.54196999999998%5D%2C%20%5B35.233876%2C%20-80.858276%5D%2C%20%5B45.385969%2C%20-122.578378%5D%2C%20%5B33.60148%2C%20-83.12633000000002%5D%2C%20%5B28.585841%2C%20-81.307056%5D%2C%20%5B30.060385%2C%20-81.498008%5D%2C%20%5B37.793756%2C%20-122.263917%5D%2C%20%5B25.948502%2C%20-80.148765%5D%2C%20%5B44.373251%2C%20-93.294082%5D%2C%20%5B45.510145%2C%20-122.687555%5D%2C%20%5B29.086238%2C%20-82.053537%5D%2C%20%5B40.701438%2C%20-111.903251%5D%2C%20%5B38.65734000000001%2C%20-121.05698999999998%5D%2C%20%5B38.655129%2C%20-121.379056%5D%2C%20%5B25.92958%2C%20-80.188317%5D%2C%20%5B33.075396999999995%2C%20-115.614488%5D%2C%20%5B46.012091%2C%20-92.622262%5D%2C%20%5B35.070698%2C%20-80.949108%5D%2C%20%5B36.842966%2C%20-121.633536%5D%2C%20%5B33.854015999999994%2C%20-117.915862%5D%2C%20%5B38.86812000000001%2C%20-75.824787%5D%2C%20%5B46.73334000000001%2C%20-95.736805%5D%2C%20%5B28.024207%2C%20-82.239398%5D%2C%20%5B44.10381%2C%20-121.30612%5D%2C%20%5B32.133732%2C%20-111.002114%5D%2C%20%5B38.55203%2C%20-121.69905%5D%2C%20%5B43.021034%2C%20-85.65740699999998%5D%2C%20%5B28.378598%2C%20-81.400582%5D%2C%20%5B34.194527%2C%20-117.42006%5D%2C%20%5B25.62665%2C%20-80.40298100000003%5D%2C%20%5B45.4518%2C%20-122.57911%5D%2C%20%5B32.56806%2C%20-117.04634%5D%2C%20%5B45.51883%2C%20-122.68743%5D%2C%20%5B40.16521%2C%20-111.64684%5D%2C%20%5B28.150228%2C%20-82.698914%5D%2C%20%5B39.66775300000001%2C%20-77.020613%5D%2C%20%5B39.635957%2C%20-77.768064%5D%2C%20%5B30.266443%2C%20-97.740737%5D%2C%20%5B47.579625%2C%20-122.196474%5D%2C%20%5B40.086906%2C%20-75.259688%5D%2C%20%5B36.907068%2C%20-121.75333899999998%5D%2C%20%5B42.17587%2C%20-88.13577%5D%2C%20%5B29.482424%2C%20-98.600677%5D%2C%20%5B25.995995%2C%20-80.165863%5D%2C%20%5B26.381%2C%20-80.111136%5D%2C%20%5B43.10479%2C%20-75.263224%5D%2C%20%5B34.44885%2C%20-117.36289%5D%2C%20%5B42.27551%2C%20-83.16015%5D%2C%20%5B40.58776%2C%20-111.963882%5D%2C%20%5B37.821459%2C%20-104.828841%5D%2C%20%5B33.467029%2C%20-117.669527%5D%2C%20%5B25.733252%2C%20-80.333709%5D%2C%20%5B34.546326%2C%20-81.998248%5D%2C%20%5B33.887514%2C%20-117.55187%5D%2C%20%5B33.537432%2C%20-112.047482%5D%2C%20%5B34.102986%2C%20-118.196413%5D%2C%20%5B46.15327%2C%20-123.4147%5D%2C%20%5B38.594522%2C%20-121.41525%5D%2C%20%5B39.743712%2C%20-104.825438%5D%2C%20%5B32.84611%2C%20-117.11848%5D%2C%20%5B47.576605%2C%20-122.31953500000002%5D%2C%20%5B25.963012%2C%20-80.155381%5D%2C%20%5B35.86434000000001%2C%20-83.6569%5D%2C%20%5B34.320664%2C%20-118.495922%5D%2C%20%5B36.923734%2C%20-120.022147%5D%2C%20%5B37.815077%2C%20-79.84393%5D%2C%20%5B32.774840000000005%2C%20-96.79016%5D%2C%20%5B29.54464%2C%20-95.14573%5D%2C%20%5B40.012775%2C%20-78.524855%5D%2C%20%5B43.22637%2C%20-77.64421999999998%5D%2C%20%5B34.033552%2C%20-118.436254%5D%2C%20%5B34.065861%2C%20-117.322921%5D%2C%20%5B42.975822%2C%20-93.347042%5D%2C%20%5B26.3514%2C%20-80.11989%5D%2C%20%5B25.903154%2C%20-80.324381%5D%2C%20%5B26.0603%2C%20-80.21512%5D%2C%20%5B46.856692%2C%20-105.11638700000002%5D%2C%20%5B28.371606%2C%20-81.427628%5D%2C%20%5B40.15692%2C%20-83.0185%5D%2C%20%5B33.792217%2C%20-118.087888%5D%2C%20%5B41.79733%2C%20-71.40356%5D%2C%20%5B34.042949%2C%20-118.272635%5D%2C%20%5B28.260617%2C%20-81.33219799999998%5D%2C%20%5B32.48917%2C%20-85.63231999999998%5D%2C%20%5B45.041245%2C%20-93.061409%5D%2C%20%5B28.068168%2C%20-82.768208%5D%2C%20%5B33.664792%2C%20-117.872767%5D%2C%20%5B34.620656%2C%20-120.248424%5D%2C%20%5B44.801247%2C%20-93.232032%5D%2C%20%5B33.948788%2C%20-118.368223%5D%2C%20%5B37.673095%2C%20-113.555105%5D%2C%20%5B27.551475%2C%20-81.704532%5D%2C%20%5B40.753693%2C%20-74.056754%5D%2C%20%5B39.6956%2C%20-106.66807%5D%2C%20%5B41.92693%2C%20-91.67408%5D%2C%20%5B34.070419%2C%20-117.418869%5D%2C%20%5B30.02828400000001%2C%20-90.016747%5D%2C%20%5B47.19322%2C%20-114.895588%5D%2C%20%5B34.152959%2C%20-118.375565%5D%2C%20%5B35.615973%2C%20-81.127752%5D%2C%20%5B26.54249%2C%20-80.07197%5D%2C%20%5B46.637051%2C%20-111.941729%5D%2C%20%5B29.81356%2C%20-95.39551%5D%2C%20%5B35.250824%2C%20-85.87331400000002%5D%2C%20%5B33.855466%2C%20-117.970026%5D%2C%20%5B40.84508%2C%20-73.9192%5D%2C%20%5B33.93888%2C%20-81.00578399999998%5D%2C%20%5B37.143406%2C%20-121.984842%5D%2C%20%5B41.13017%2C%20-73.298069%5D%2C%20%5B48.84852%2C%20-95.67519%5D%2C%20%5B40.342086%2C%20-74.10431700000002%5D%2C%20%5B34.385136%2C%20-112.091134%5D%2C%20%5B28.566698%2C%20-81.205547%5D%2C%20%5B40.686842%2C%20-111.896772%5D%2C%20%5B33.665138%2C%20-84.418549%5D%2C%20%5B39.652878%2C%20-75.52748100000002%5D%2C%20%5B36.75771%2C%20-76.283186%5D%2C%20%5B37.690511%2C%20-122.078223%5D%2C%20%5B36.12024%2C%20-119.53646%5D%2C%20%5B34.154348%2C%20-118.119898%5D%2C%20%5B41.95381%2C%20-88.03171999999998%5D%2C%20%5B38.87902%2C%20-77.25445%5D%2C%20%5B34.0738%2C%20-80.95345999999998%5D%2C%20%5B35.149123%2C%20-84.955627%5D%2C%20%5B33.57354%2C%20-112.1172%5D%2C%20%5B29.447017%2C%20-98.479803%5D%2C%20%5B29.78372%2C%20-95.46021%5D%2C%20%5B34.109811%2C%20-117.84636%5D%2C%20%5B28.494227%2C%20-81.426183%5D%2C%20%5B38.882367%2C%20-77.015751%5D%2C%20%5B45.943182%2C%20-95.595463%5D%2C%20%5B32.313637%2C%20-95.267893%5D%2C%20%5B45.504004%2C%20-122.990948%5D%2C%20%5B41.67183%2C%20-122.080375%5D%2C%20%5B29.98703%2C%20-90.071475%5D%2C%20%5B33.911851%2C%20-86.510724%5D%2C%20%5B34.224988%2C%20-117.409219%5D%2C%20%5B30.407987%2C%20-91.148673%5D%2C%20%5B33.516502%2C%20-112.04423%5D%2C%20%5B34.068632%2C%20-118.257937%5D%2C%20%5B26.130605%2C%20-80.218144%5D%2C%20%5B34.036084%2C%20-118.321241%5D%2C%20%5B38.727925%2C%20-120.824251%5D%2C%20%5B30.444074%2C%20-97.652066%5D%2C%20%5B36.583399%2C%20-119.574829%5D%2C%20%5B42.213876%2C%20-121.743443%5D%2C%20%5B34.23648%2C%20-118.41395%5D%2C%20%5B30.24992%2C%20-81.54675%5D%2C%20%5B33.922242%2C%20-118.281839%5D%2C%20%5B44.94136500000001%2C%20-93.274837%5D%2C%20%5B32.489223%2C%20-93.759018%5D%2C%20%5B35.107196%2C%20-82.617068%5D%2C%20%5B33.86571%2C%20-80.884062%5D%2C%20%5B42.308155%2C%20-87.857794%5D%2C%20%5B29.444685%2C%20-98.477613%5D%2C%20%5B33.38613%2C%20-111.79356%5D%2C%20%5B41.887715%2C%20-112.500076%5D%2C%20%5B26.115274%2C%20-80.137066%5D%2C%20%5B26.084986%2C%20-80.202845%5D%2C%20%5B40.458766%2C%20-78.409374%5D%2C%20%5B33.984886%2C%20-117.372487%5D%2C%20%5B38.783701%2C%20-76.998056%5D%2C%20%5B43.144664%2C%20-77.553765%5D%2C%20%5B38.03058%2C%20-78.659759%5D%2C%20%5B42.40517%2C%20-83.42478%5D%2C%20%5B40.732407%2C%20-74.124635%5D%2C%20%5B42.5752%2C%20-82.85838000000003%5D%2C%20%5B27.099182%2C%20-82.20820400000002%5D%2C%20%5B40.69903%2C%20-73.50950999999998%5D%2C%20%5B25.82849%2C%20-80.24109399999998%5D%2C%20%5B28.515259000000004%2C%20-81.388952%5D%2C%20%5B33.941992%2C%20-118.029542%5D%2C%20%5B42.80669%2C%20-85.668716%5D%2C%20%5B44.776416%2C%20-93.279865%5D%2C%20%5B35.96912899999999%2C%20-78.55366%5D%2C%20%5B41.60387%2C%20-93.58018%5D%2C%20%5B41.275417%2C%20-95.952354%5D%2C%20%5B32.117597%2C%20-110.79711100000002%5D%2C%20%5B39.98584%2C%20-76.31537%5D%2C%20%5B33.882908%2C%20-117.515158%5D%2C%20%5B41.10637%2C%20-112.00682%5D%2C%20%5B43.0876%2C%20-87.92166999999998%5D%2C%20%5B33.235444%2C%20-87.549865%5D%2C%20%5B30.242217%2C%20-97.690182%5D%2C%20%5B25.89659%2C%20-80.28648000000003%5D%2C%20%5B25.898445%2C%20-80.32441899999998%5D%2C%20%5B33.932813%2C%20-118.294896%5D%2C%20%5B36.32448%2C%20-119.633313%5D%2C%20%5B32.362069%2C%20-110.978606%5D%2C%20%5B44.555334%2C%20-123.02196399999998%5D%2C%20%5B40.756417%2C%20-73.95322%5D%2C%20%5B34.11753%2C%20-117.85069%5D%2C%20%5B28.47256%2C%20-80.7087%5D%2C%20%5B40.413283%2C%20-111.871966%5D%2C%20%5B35.798176%2C%20-78.707668%5D%2C%20%5B39.104261%2C%20-121.560801%5D%2C%20%5B30.432117%2C%20-91.007532%5D%2C%20%5B25.902771%2C%20-80.267887%5D%2C%20%5B25.939221%2C%20-80.293932%5D%2C%20%5B35.872005%2C%20-78.700889%5D%2C%20%5B34.04503%2C%20-117.311351%5D%2C%20%5B32.877765999999994%2C%20-96.686542%5D%2C%20%5B34.006021999999994%2C%20-117.92963799999998%5D%2C%20%5B34.779257%2C%20-82.310287%5D%2C%20%5B32.731551%2C%20-96.612618%5D%2C%20%5B38.364332%2C%20-77.765426%5D%2C%20%5B33.445639%2C%20-111.891022%5D%2C%20%5B34.17088%2C%20-118.57432%5D%2C%20%5B34.211653000000005%2C%20-118.228028%5D%2C%20%5B34.203915%2C%20-117.414952%5D%2C%20%5B37.303209%2C%20-121.816593%5D%2C%20%5B25.890213%2C%20-80.187688%5D%2C%20%5B39.11263%2C%20-77.19017%5D%2C%20%5B34.436217%2C%20-119.861414%5D%2C%20%5B32.763311%2C%20-96.666071%5D%2C%20%5B40.0781%2C%20-111.71042%5D%2C%20%5B29.580205%2C%20-95.385439%5D%2C%20%5B41.83018%2C%20-73.01687%5D%2C%20%5B45.01074000000001%2C%20-93.08969%5D%2C%20%5B26.110001%2C%20-80.168759%5D%2C%20%5B38.445163%2C%20-78.009485%5D%2C%20%5B44.778619%2C%20-93.499226%5D%2C%20%5B33.759369%2C%20-117.973293%5D%2C%20%5B34.028792%2C%20-117.62841%5D%2C%20%5B33.344814%2C%20-111.972092%5D%2C%20%5B39.79832%2C%20-84.23525%5D%2C%20%5B25.630444%2C%20-80.515785%5D%2C%20%5B33.402608%2C%20-112.30616%5D%2C%20%5B38.81207%2C%20-76.69346%5D%2C%20%5B40.162782%2C%20-76.276195%5D%2C%20%5B46.57604600000001%2C%20-122.846564%5D%2C%20%5B33.93087%2C%20-118.36824%5D%2C%20%5B33.897354%2C%20-117.479184%5D%2C%20%5B32.762505%2C%20-97.317744%5D%2C%20%5B34.689212%2C%20-118.169753%5D%2C%20%5B42.28242%2C%20-87.94614%5D%2C%20%5B39.26414000000001%2C%20-76.70978000000002%5D%2C%20%5B38.92734%2C%20-77.42980899999998%5D%2C%20%5B34.03345%2C%20-118.14574%5D%2C%20%5B34.070646999999994%2C%20-117.958498%5D%2C%20%5B41.316372%2C%20-73.010491%5D%2C%20%5B40.624583%2C%20-124.180877%5D%2C%20%5B45.06676%2C%20-93.193171%5D%2C%20%5B25.806911%2C%20-80.31311600000002%5D%2C%20%5B28.163726%2C%20-81.120418%5D%2C%20%5B40.428582%2C%20-74.229093%5D%2C%20%5B35.48392%2C%20-80.81987%5D%2C%20%5B39.033039%2C%20-76.944133%5D%2C%20%5B34.136283%2C%20-117.427328%5D%2C%20%5B46.008085%2C%20-122.87528%5D%2C%20%5B38.741751%2C%20-121.271649%5D%2C%20%5B34.10819%2C%20-118.18573%5D%2C%20%5B46.546056%2C%20-92.35838%5D%2C%20%5B25.826281%2C%20-80.325479%5D%2C%20%5B38.65583%2C%20-121.00387%5D%2C%20%5B40.058029%2C%20-77.481347%5D%2C%20%5B30.006042%2C%20-95.46579%5D%2C%20%5B33.820581%2C%20-84.16628100000001%5D%2C%20%5B38.878192%2C%20-76.84361899999998%5D%2C%20%5B37.72249%2C%20-113.05802%5D%2C%20%5B30.07053%2C%20-99.11668%5D%2C%20%5B39.31558%2C%20-76.62856%5D%2C%20%5B27.464153000000003%2C%20-82.58762%5D%2C%20%5B39.92257%2C%20-84.18844%5D%2C%20%5B25.791634%2C%20-80.368776%5D%2C%20%5B32.788470000000004%2C%20-117.1483%5D%2C%20%5B38.752824%2C%20-77.18402900000002%5D%2C%20%5B27.8861%2C%20-82.71718299999998%5D%2C%20%5B34.147543%2C%20-118.082988%5D%2C%20%5B38.59605%2C%20-121.415231%5D%2C%20%5B43.98025%2C%20-91.68015%5D%2C%20%5B42.12213%2C%20-71.22919%5D%2C%20%5B37.724196%2C%20-121.936974%5D%2C%20%5B38.57852000000001%2C%20-90.44659%5D%2C%20%5B30.349978000000004%2C%20-89.915875%5D%2C%20%5B33.678366%2C%20-117.757702%5D%2C%20%5B33.881857000000004%2C%20-117.592566%5D%2C%20%5B35.159436%2C%20-80.949507%5D%2C%20%5B39.9354%2C%20-75.199751%5D%2C%20%5B41.92462%2C%20-87.717486%5D%2C%20%5B27.79198%2C%20-82.33479%5D%2C%20%5B35.863831%2C%20-81.60078100000001%5D%2C%20%5B30.439488%2C%20-91.19545%5D%2C%20%5B42.795742%2C%20-88.623047%5D%2C%20%5B29.76548%2C%20-95.45602%5D%2C%20%5B33.997333000000005%2C%20-118.446383%5D%2C%20%5B39.011929%2C%20-121.55206499999998%5D%2C%20%5B34.717022%2C%20-81.031733%5D%2C%20%5B42.92008%2C%20-73.34939%5D%2C%20%5B42.385334%2C%20-87.963387%5D%2C%20%5B28.501528000000004%2C%20-80.838421%5D%2C%20%5B28.48298%2C%20-81.457877%5D%2C%20%5B42.35689%2C%20-83.07951%5D%2C%20%5B40.71071%2C%20-74.1669%5D%2C%20%5B33.461872%2C%20-84.46198000000003%5D%2C%20%5B25.727052%2C%20-80.383021%5D%2C%20%5B35.0957%2C%20-80.78875%5D%2C%20%5B38.511152%2C%20-122.769895%5D%2C%20%5B40.971909%2C%20-111.442732%5D%2C%20%5B40.14691%2C%20-82.92388000000003%5D%2C%20%5B40.291198%2C%20-75.27186%5D%2C%20%5B32.867255%2C%20-83.655941%5D%2C%20%5B36.8336%2C%20-76.13217%5D%2C%20%5B36.772602%2C%20-76.331323%5D%2C%20%5B40.28950800000001%2C%20-75.29266199999998%5D%2C%20%5B38.61477%2C%20-121.51249%5D%2C%20%5B30.445363%2C%20-91.338795%5D%2C%20%5B28.205067%2C%20-82.504254%5D%2C%20%5B37.752596%2C%20-77.850548%5D%2C%20%5B37.30356%2C%20-121.87799%5D%2C%20%5B37.517262%2C%20-77.349368%5D%2C%20%5B25.988148%2C%20-80.165745%5D%2C%20%5B25.808751%2C%20-80.321481%5D%2C%20%5B25.944913%2C%20-80.17098399999998%5D%2C%20%5B32.744475%2C%20-96.682967%5D%2C%20%5B41.073875%2C%20-73.47022%5D%2C%20%5B48.55386%2C%20-122.35027%5D%2C%20%5B34.281099%2C%20-118.400358%5D%2C%20%5B39.11344%2C%20-77.19075%5D%2C%20%5B32.767163000000004%2C%20-117.20606399999998%5D%2C%20%5B34.934471%2C%20-81.98985400000002%5D%2C%20%5B25.92871%2C%20-80.18718100000002%5D%2C%20%5B40.931933%2C%20-76.715053%5D%2C%20%5B28.368262%2C%20-81.512715%5D%2C%20%5B37.701477%2C%20-122.021132%5D%2C%20%5B25.795911%2C%20-80.33691400000002%5D%2C%20%5B38.92854000000001%2C%20-77.24093%5D%2C%20%5B32.797642%2C%20-96.801389%5D%2C%20%5B28.548382%2C%20-81.413617%5D%2C%20%5B42.026777%2C%20-83.67866%5D%2C%20%5B45.433011%2C%20-122.577853%5D%2C%20%5B38.964384%2C%20-76.106378%5D%2C%20%5B25.75153%2C%20-80.20721800000003%5D%2C%20%5B36.297937%2C%20-119.227353%5D%2C%20%5B35.6132%2C%20-80.51569%5D%2C%20%5B40.116855%2C%20-75.238562%5D%2C%20%5B41.601952%2C%20-87.181738%5D%2C%20%5B34.264709%2C%20-118.493521%5D%2C%20%5B25.712548%2C%20-80.382427%5D%2C%20%5B41.763547%2C%20-72.69471%5D%2C%20%5B26.315507%2C%20-80.11693100000002%5D%2C%20%5B34.141892%2C%20-117.489584%5D%2C%20%5B40.7127%2C%20-74.31704%5D%2C%20%5B34.42715%2C%20-119.729636%5D%2C%20%5B27.539581%2C%20-82.563918%5D%2C%20%5B37.288673%2C%20-93.954223%5D%2C%20%5B33.561859000000005%2C%20-80.827023%5D%2C%20%5B36.986168%2C%20-120.653041%5D%2C%20%5B40.553086%2C%20-78.922312%5D%2C%20%5B43.22576%2C%20-123.36053%5D%2C%20%5B40.716564%2C%20-111.93896200000002%5D%2C%20%5B34.544452%2C%20-117.126559%5D%2C%20%5B40.63228%2C%20-111.8914%5D%2C%20%5B38.809923%2C%20-121.160629%5D%2C%20%5B27.470297%2C%20-82.538213%5D%2C%20%5B44.08512%2C%20-123.04641%5D%2C%20%5B37.46497%2C%20-121.90408%5D%2C%20%5B42.39574%2C%20-83.1078%5D%2C%20%5B32.19246%2C%20-110.934506%5D%2C%20%5B34.17327%2C%20-118.54017%5D%2C%20%5B33.674743%2C%20-79.791946%5D%2C%20%5B33.880221%2C%20-118.334785%5D%2C%20%5B25.758112%2C%20-80.352132%5D%2C%20%5B39.59195%2C%20-104.88308%5D%2C%20%5B37.027812%2C%20-121.552411%5D%2C%20%5B33.910214%2C%20-84.363817%5D%2C%20%5B27.431807%2C%20-82.396367%5D%2C%20%5B37.939248%2C%20-77.47341999999998%5D%2C%20%5B37.63917100000001%2C%20-122.089956%5D%2C%20%5B33.876092%2C%20-118.125184%5D%2C%20%5B42.80498%2C%20-86.10878000000002%5D%2C%20%5B28.449921000000003%2C%20-81.479337%5D%2C%20%5B40.562787%2C%20-111.97721%5D%2C%20%5B33.997356%2C%20-117.967604%5D%2C%20%5B34.06471%2C%20-117.20876%5D%2C%20%5B37.891667%2C%20-121.4875%5D%2C%20%5B33.563685%2C%20-79.03779300000002%5D%2C%20%5B35.842098%2C%20-78.679322%5D%2C%20%5B29.930099%2C%20-90.109555%5D%2C%20%5B34.14696%2C%20-119.1126%5D%2C%20%5B28.219853000000004%2C%20-82.367001%5D%2C%20%5B40.140158%2C%20-75.310289%5D%2C%20%5B40.887494%2C%20-73.894347%5D%2C%20%5B43.684525%2C%20-116.320081%5D%2C%20%5B36.807705%2C%20-120.01554%5D%2C%20%5B34.765774%2C%20-82.49114200000002%5D%2C%20%5B34.382913%2C%20-117.415565%5D%2C%20%5B41.873731%2C%20-87.80392900000002%5D%2C%20%5B36.21937%2C%20-86.77435799999998%5D%2C%20%5B38.5518%2C%20-121.69899%5D%2C%20%5B38.878386%2C%20-76.993779%5D%2C%20%5B45.13059000000001%2C%20-93.421624%5D%2C%20%5B40.435795%2C%20-79.96891%5D%2C%20%5B36.112726%2C%20-86.688716%5D%2C%20%5B37.56615%2C%20-77.36021%5D%2C%20%5B37.924712%2C%20-122.359986%5D%2C%20%5B33.779059000000004%2C%20-117.880603%5D%2C%20%5B34.136691%2C%20-117.544525%5D%2C%20%5B34.893864%2C%20-82.408819%5D%2C%20%5B38.935557%2C%20-94.612119%5D%2C%20%5B35.895496%2C%20-78.551757%5D%2C%20%5B33.84206%2C%20-84.32983399999998%5D%2C%20%5B38.94945%2C%20-94.53197%5D%2C%20%5B26.66436%2C%20-80.071157%5D%2C%20%5B40.70788%2C%20-111.90367%5D%2C%20%5B35.177363%2C%20-80.799825%5D%2C%20%5B45.34344%2C%20-118.120805%5D%2C%20%5B44.668704%2C%20-118.335188%5D%2C%20%5B37.73323%2C%20-122.405703%5D%2C%20%5B29.263018%2C%20-82.19184200000002%5D%2C%20%5B37.1063%2C%20-113.13921%5D%2C%20%5B29.93884000000001%2C%20-90.06241%5D%2C%20%5B41.150375%2C%20-73.248499%5D%2C%20%5B27.386231%2C%20-82.558397%5D%2C%20%5B39.647115%2C%20-75.73966999999998%5D%2C%20%5B43.673867%2C%20-124.176593%5D%2C%20%5B36.546793%2C%20-119.489856%5D%2C%20%5B33.671127%2C%20-79.139092%5D%2C%20%5B47.59813%2C%20-122.32044%5D%2C%20%5B36.78177%2C%20-81.73770999999998%5D%2C%20%5B25.796852%2C%20-80.353022%5D%2C%20%5B34.869871%2C%20-79.101359%5D%2C%20%5B36.783653%2C%20-76.395782%5D%2C%20%5B36.87294%2C%20-76.37948%5D%2C%20%5B32.66528%2C%20-97.32525%5D%2C%20%5B41.563307%2C%20-72.647856%5D%2C%20%5B25.714569%2C%20-80.414261%5D%2C%20%5B38.007717%2C%20-75.81906500000002%5D%2C%20%5B30.168424%2C%20-81.593538%5D%2C%20%5B29.736555%2C%20-95.500824%5D%2C%20%5B35.47428%2C%20-97.52871%5D%2C%20%5B34.853354%2C%20-82.233152%5D%2C%20%5B33.95644%2C%20-117.306328%5D%2C%20%5B39.536533%2C%20-119.80806499999998%5D%2C%20%5B33.004849%2C%20-96.847644%5D%2C%20%5B33.758869%2C%20-78.96812%5D%2C%20%5B37.405339%2C%20-122.056326%5D%2C%20%5B33.452751%2C%20-117.306457%5D%2C%20%5B45.43257%2C%20-122.57927%5D%2C%20%5B28.34688%2C%20-81.67397%5D%2C%20%5B47.499236%2C%20-113.68421%5D%2C%20%5B32.668162%2C%20-97.234835%5D%2C%20%5B35.146889%2C%20-80.818449%5D%2C%20%5B28.552176%2C%20-81.474654%5D%2C%20%5B37.951101%2C%20-120.424693%5D%2C%20%5B41.34017%2C%20-88.19142%5D%2C%20%5B30.21615%2C%20-81.76108%5D%2C%20%5B45.366938%2C%20-122.142926%5D%2C%20%5B44.21709%2C%20-88.47361%5D%2C%20%5B44.73842%2C%20-92.930942%5D%2C%20%5B25.807451%2C%20-80.2922%5D%2C%20%5B32.746283%2C%20-97.320213%5D%2C%20%5B45.09455%2C%20-93.40227%5D%2C%20%5B42.866802%2C%20-73.872411%5D%2C%20%5B25.583223%2C%20-80.328163%5D%2C%20%5B26.61374600000001%2C%20-80.06851999999998%5D%2C%20%5B40.77349%2C%20-74.04213%5D%2C%20%5B38.185912%2C%20-122.136179%5D%2C%20%5B36.112258%2C%20-86.811112%5D%2C%20%5B29.723201%2C%20-95.499142%5D%2C%20%5B42.236348%2C%20-83.351608%5D%2C%20%5B32.92598%2C%20-79.903999%5D%2C%20%5B37.119599%2C%20-122.086014%5D%2C%20%5B39.565094%2C%20-76.143335%5D%2C%20%5B37.638579%2C%20-120.874996%5D%2C%20%5B35.611686%2C%20-81.08519%5D%2C%20%5B38.40196%2C%20-112.65571%5D%2C%20%5B39.363016%2C%20-121.687907%5D%2C%20%5B43.029252%2C%20-77.973929%5D%2C%20%5B33.91685%2C%20-117.287415%5D%2C%20%5B30.347542%2C%20-83.147954%5D%2C%20%5B33.469570000000004%2C%20-117.673837%5D%2C%20%5B42.68441%2C%20-73.80207%5D%2C%20%5B35.34243499999999%2C%20-118.9897%5D%2C%20%5B37.856395%2C%20-121.054101%5D%2C%20%5B33.77475%2C%20-118.08644%5D%2C%20%5B29.579478%2C%20-95.1922%5D%2C%20%5B33.093522%2C%20-80.231117%5D%2C%20%5B37.574839%2C%20-77.43133%5D%2C%20%5B39.872571%2C%20-75.077873%5D%2C%20%5B28.553311%2C%20-81.330272%5D%2C%20%5B32.703198%2C%20-96.563698%5D%2C%20%5B41.637443%2C%20-74.07831%5D%2C%20%5B34.219332%2C%20-117.398153%5D%2C%20%5B31.401822%2C%20-89.31918%5D%2C%20%5B46.148115%2C%20-95.941369%5D%2C%20%5B36.55627%2C%20-121.550329%5D%2C%20%5B37.780877%2C%20-121.186956%5D%2C%20%5B41.05868%2C%20-111.961982%5D%2C%20%5B33.31815%2C%20-84.289512%5D%2C%20%5B34.070444%2C%20-117.433922%5D%2C%20%5B30.013179%2C%20-90.052062%5D%2C%20%5B37.920947%2C%20-122.317782%5D%2C%20%5B37.56453%2C%20-122.27231%5D%2C%20%5B45.221028%2C%20-93.600576%5D%2C%20%5B38.963412%2C%20-120.714875%5D%2C%20%5B35.030734%2C%20-80.818935%5D%2C%20%5B38.901135%2C%20-94.302639%5D%2C%20%5B40.052115%2C%20-76.26066%5D%2C%20%5B25.81314%2C%20-80.32155%5D%2C%20%5B40.64728%2C%20-74.20296%5D%2C%20%5B45.436317%2C%20-93.580197%5D%2C%20%5B33.990952%2C%20-118.173296%5D%2C%20%5B42.923017%2C%20-85.647102%5D%2C%20%5B38.60989%2C%20-121.33392%5D%2C%20%5B34.05608400000001%2C%20-118.255871%5D%2C%20%5B32.776939%2C%20-86.570288%5D%2C%20%5B30.444169%2C%20-87.24861700000002%5D%2C%20%5B39.088647%2C%20-112.271711%5D%2C%20%5B41.926113%2C%20-112.637919%5D%2C%20%5B42.48109%2C%20-83.11304%5D%2C%20%5B26.115791%2C%20-80.31673%5D%2C%20%5B33.859907%2C%20-117.716461%5D%2C%20%5B45.729111%2C%20-122.87586%5D%2C%20%5B35.026053999999995%2C%20-85.187549%5D%2C%20%5B40.74197%2C%20-73.8976%5D%2C%20%5B39.271026%2C%20-76.55675699999998%5D%2C%20%5B40.760829%2C%20-74.164079%5D%2C%20%5B36.815685%2C%20-119.79427%5D%2C%20%5B26.230525%2C%20-80.126385%5D%2C%20%5B29.432576%2C%20-98.402105%5D%2C%20%5B38.05327800000001%2C%20-108.144162%5D%2C%20%5B35.58517%2C%20-97.5672%5D%2C%20%5B33.429256%2C%20-79.14007099999998%5D%2C%20%5B41.12354000000001%2C%20-112.02262%5D%2C%20%5B39.524165%2C%20-77.418348%5D%2C%20%5B30.23735%2C%20-93.26431%5D%2C%20%5B32.33722%2C%20-111.01285%5D%2C%20%5B37.50623%2C%20-120.041668%5D%2C%20%5B33.98331%2C%20-80.328362%5D%2C%20%5B36.66982%2C%20-80.708903%5D%2C%20%5B40.494615%2C%20-74.29777%5D%2C%20%5B37.318529%2C%20-76.513611%5D%2C%20%5B33.094285%2C%20-117.084335%5D%2C%20%5B25.760886%2C%20-80.395587%5D%2C%20%5B42.930911%2C%20-74.290977%5D%2C%20%5B35.089749%2C%20-80.792663%5D%2C%20%5B34.265246999999995%2C%20-118.472268%5D%2C%20%5B34.120992%2C%20-117.877882%5D%2C%20%5B25.76861%2C%20-80.367676%5D%2C%20%5B39.577206%2C%20-119.812592%5D%2C%20%5B26.28947800000001%2C%20-80.124112%5D%2C%20%5B29.394265%2C%20-98.485585%5D%2C%20%5B43.680485%2C%20-95.49932%5D%2C%20%5B30.220666%2C%20-81.592101%5D%2C%20%5B33.799311%2C%20-112.065406%5D%2C%20%5B41.24333%2C%20-111.89654%5D%2C%20%5B40.71979%2C%20-111.85501%5D%2C%20%5B34.081901%2C%20-117.715678%5D%2C%20%5B42.37891%2C%20-87.9408%5D%2C%20%5B27.846339%2C%20-82.347368%5D%2C%20%5B34.118319%2C%20-117.973364%5D%2C%20%5B36.108704%2C%20-95.925381%5D%2C%20%5B42.949686%2C%20-83.652804%5D%2C%20%5B41.395205%2C%20-73.596745%5D%2C%20%5B37.974937%2C%20-120.347525%5D%2C%20%5B36.161854%2C%20-86.777733%5D%2C%20%5B30.05571%2C%20-95.43261%5D%2C%20%5B34.282407%2C%20-118.750012%5D%2C%20%5B44.532173%2C%20-92.522384%5D%2C%20%5B40.546706%2C%20-74.282544%5D%2C%20%5B32.94175%2C%20-117.217761%5D%2C%20%5B29.182337%2C%20-82.18463299999998%5D%2C%20%5B35.67145%2C%20-88.8262%5D%2C%20%5B41.79196%2C%20-88.05686999999998%5D%2C%20%5B33.891106%2C%20-117.27201%5D%2C%20%5B44.377979%2C%20-120.946701%5D%2C%20%5B33.916075%2C%20-84.41425500000003%5D%2C%20%5B33.652811%2C%20-84.39585500000003%5D%2C%20%5B38.952616%2C%20-77.381354%5D%2C%20%5B36.210883%2C%20-119.242397%5D%2C%20%5B38.84617%2C%20-77.43339%5D%2C%20%5B34.135%2C%20-117.63048%5D%2C%20%5B26.188437%2C%20-80.151827%5D%2C%20%5B39.050699%2C%20-77.05167800000002%5D%2C%20%5B35.227196%2C%20-80.843056%5D%2C%20%5B41.00183300000001%2C%20-76.613569%5D%2C%20%5B34.010848%2C%20-117.963018%5D%2C%20%5B34.895367%2C%20-120.422284%5D%2C%20%5B34.781717%2C%20-111.613959%5D%2C%20%5B32.7382%2C%20-97.45127%5D%2C%20%5B25.624386%2C%20-80.414423%5D%2C%20%5B28.171382%2C%20-82.353563%5D%2C%20%5B33.99556%2C%20-117.87454%5D%2C%20%5B38.390846%2C%20-82.441333%5D%2C%20%5B33.419054%2C%20-111.93948%5D%2C%20%5B39.48793%2C%20-76.56772%5D%2C%20%5B34.342274%2C%20-118.505506%5D%2C%20%5B38.638248%2C%20-121.404155%5D%2C%20%5B33.550483%2C%20-117.140824%5D%2C%20%5B43.160876%2C%20-77.58966600000002%5D%2C%20%5B42.37106%2C%20-83.05438000000002%5D%2C%20%5B33.82539000000001%2C%20-118.22382%5D%2C%20%5B40.72415%2C%20-111.93947%5D%2C%20%5B35.44395%2C%20-82.53838%5D%2C%20%5B35.814839%2C%20-78.605793%5D%2C%20%5B33.987771%2C%20-118.361857%5D%2C%20%5B34.939167%2C%20-118.929444%5D%2C%20%5B29.688859000000004%2C%20-82.441911%5D%2C%20%5B34.041628%2C%20-118.347024%5D%2C%20%5B41.472418%2C%20-81.659935%5D%2C%20%5B35.058062%2C%20-80.812348%5D%2C%20%5B33.103686%2C%20-117.091988%5D%2C%20%5B34.231707%2C%20-119.074493%5D%2C%20%5B25.733%2C%20-80.336792%5D%2C%20%5B36.157614%2C%20-86.759833%5D%2C%20%5B37.974052%2C%20-121.72906%5D%2C%20%5B40.24839%2C%20-75.29522%5D%2C%20%5B32.400323%2C%20-80.55828100000002%5D%2C%20%5B34.622393%2C%20-111.842397%5D%2C%20%5B37.287488%2C%20-77.389211%5D%2C%20%5B37.66046%2C%20-122.10388%5D%2C%20%5B28.19356%2C%20-82.740029%5D%2C%20%5B28.045174%2C%20-81.90799100000002%5D%2C%20%5B32.874855%2C%20-117.107456%5D%2C%20%5B28.565889%2C%20-81.286078%5D%2C%20%5B38.24516%2C%20-85.74563%5D%2C%20%5B25.930202%2C%20-80.188344%5D%2C%20%5B35.712031%2C%20-78.610748%5D%2C%20%5B38.779252%2C%20-76.890091%5D%2C%20%5B35.365687%2C%20-119.04055%5D%2C%20%5B33.526057%2C%20-117.165123%5D%2C%20%5B36.168583%2C%20-86.814131%5D%2C%20%5B38.552368%2C%20-121.41583%5D%2C%20%5B38.491118%2C%20-121.514551%5D%2C%20%5B28.531116%2C%20-81.380791%5D%2C%20%5B42.91457%2C%20-85.629323%5D%2C%20%5B40.817781%2C%20-73.80405999999998%5D%2C%20%5B28.673968%2C%20-81.46805400000002%5D%2C%20%5B47.98502%2C%20-122.13579%5D%2C%20%5B36.735089%2C%20-119.956457%5D%2C%20%5B30.457395%2C%20-81.635123%5D%2C%20%5B34.03739%2C%20-118.27667%5D%2C%20%5B44.751926%2C%20-123.051006%5D%2C%20%5B40.701002%2C%20-111.888351%5D%2C%20%5B33.15766%2C%20-117.339259%5D%2C%20%5B27.962061%2C%20-82.453261%5D%2C%20%5B37.694192%2C%20-122.073741%5D%2C%20%5B36.381874%2C%20-119.22208700000002%5D%2C%20%5B41.23841%2C%20-73.022725%5D%2C%20%5B41.583486%2C%20-73.90848199999998%5D%2C%20%5B28.372397%2C%20-81.425666%5D%2C%20%5B40.526681%2C%20-112.298566%5D%2C%20%5B37.787698%2C%20-121.53911399999998%5D%2C%20%5B28.450948%2C%20-81.38416099999998%5D%2C%20%5B32.961252%2C%20-97.039529%5D%2C%20%5B39.7722%2C%20-84.18876%5D%2C%20%5B34.153305%2C%20-118.351762%5D%2C%20%5B45.08863%2C%20-93.18799%5D%2C%20%5B43.068691%2C%20-77.533532%5D%2C%20%5B39.01677%2C%20-76.91141%5D%2C%20%5B27.47708%2C%20-82.56306%5D%2C%20%5B40.484801%2C%20-74.400025%5D%2C%20%5B33.804334999999995%2C%20-118.20737%5D%2C%20%5B38.045984%2C%20-78.790797%5D%2C%20%5B40.700381%2C%20-74.250812%5D%2C%20%5B41.034997%2C%20-77.504264%5D%2C%20%5B44.89067%2C%20-93.30865%5D%2C%20%5B26.655432%2C%20-80.069714%5D%2C%20%5B41.291714%2C%20-93.7801%5D%2C%20%5B33.820336%2C%20-117.875996%5D%2C%20%5B34.029428%2C%20-117.329795%5D%2C%20%5B28.927444%2C%20-81.72104%5D%2C%20%5B37.99119%2C%20-122.52971%5D%2C%20%5B39.888956%2C%20-76.13855%5D%2C%20%5B39.06132%2C%20-94.49474%5D%2C%20%5B25.594202%2C%20-80.397071%5D%2C%20%5B34.137737%2C%20-118.013873%5D%2C%20%5B40.699012%2C%20-74.15613%5D%2C%20%5B40.09480900000001%2C%20-75.290346%5D%2C%20%5B29.44015%2C%20-98.508351%5D%2C%20%5B34.838043%2C%20-81.996264%5D%2C%20%5B32.79906%2C%20-117.234734%5D%2C%20%5B41.725568%2C%20-72.781225%5D%2C%20%5B28.462567%2C%20-82.183854%5D%2C%20%5B38.78377%2C%20-77.07812%5D%2C%20%5B32.464382%2C%20-93.810181%5D%2C%20%5B34.987999%2C%20-81.293061%5D%2C%20%5B38.130243%2C%20-122.238139%5D%2C%20%5B33.880316%2C%20-117.653009%5D%2C%20%5B33.94542%2C%20-118.36823%5D%2C%20%5B38.455656%2C%20-121.405335%5D%2C%20%5B41.32003%2C%20-73.988106%5D%2C%20%5B33.385874%2C%20-111.880785%5D%2C%20%5B34.949001%2C%20-110.302487%5D%2C%20%5B33.343803%2C%20-86.437725%5D%2C%20%5B40.725884%2C%20-112.024033%5D%2C%20%5B38.456205%2C%20-122.363699%5D%2C%20%5B43.126627%2C%20-77.524284%5D%2C%20%5B37.054598%2C%20-120.689827%5D%2C%20%5B33.97172%2C%20-117.54869%5D%2C%20%5B26.38407%2C%20-80.18685%5D%2C%20%5B25.89255%2C%20-80.162869%5D%2C%20%5B40.81616500000001%2C%20-73.89439899999998%5D%2C%20%5B30.362436%2C%20-81.43895%5D%2C%20%5B36.882286%2C%20-76.185245%5D%2C%20%5B38.889105%2C%20-104.793847%5D%2C%20%5B40.715071%2C%20-73.832278%5D%2C%20%5B28.545708%2C%20-81.389066%5D%2C%20%5B29.677478000000004%2C%20-95.473253%5D%2C%20%5B36.06082%2C%20-95.87763%5D%2C%20%5B25.751663%2C%20-80.39027800000002%5D%2C%20%5B42.33459000000001%2C%20-83.0665%5D%2C%20%5B39.92186%2C%20-86.114188%5D%2C%20%5B25.797118%2C%20-80.361078%5D%2C%20%5B26.54779000000001%2C%20-81.76945400000002%5D%2C%20%5B32.8369%2C%20-97.128871%5D%2C%20%5B29.716088%2C%20-95.538889%5D%2C%20%5B39.529582%2C%20-76.34199%5D%2C%20%5B35.841729%2C%20-78.67896999999998%5D%2C%20%5B32.672123%2C%20-117.111109%5D%2C%20%5B38.391495%2C%20-78.80917%5D%2C%20%5B39.15315%2C%20-84.60302%5D%2C%20%5B41.16738%2C%20-112.02603%5D%2C%20%5B42.8801%2C%20-85.778964%5D%2C%20%5B32.644465999999994%2C%20-96.850335%5D%2C%20%5B33.893203%2C%20-78.67432%5D%2C%20%5B35.666026%2C%20-78.799472%5D%2C%20%5B33.462137%2C%20-112.042627%5D%2C%20%5B37.76967%2C%20-122.41598%5D%2C%20%5B34.776661%2C%20-118.237371%5D%2C%20%5B25.812431%2C%20-80.215097%5D%2C%20%5B32.991985%2C%20-80.003853%5D%2C%20%5B45.54618%2C%20-122.53612%5D%2C%20%5B33.187877%2C%20-117.27955%5D%2C%20%5B36.948551%2C%20-120.047973%5D%2C%20%5B39.827188%2C%20-85.606273%5D%2C%20%5B44.77514%2C%20-123.04254%5D%2C%20%5B37.81204%2C%20-122.27408%5D%2C%20%5B40.689575%2C%20-73.63574799999998%5D%2C%20%5B41.799512%2C%20-72.654958%5D%2C%20%5B40.804735%2C%20-73.267318%5D%2C%20%5B28.382445%2C%20-81.425388%5D%2C%20%5B40.125716%2C%20-75.271326%5D%2C%20%5B35.23827700000001%2C%20-80.91449899999998%5D%2C%20%5B36.13984%2C%20-86.78759000000002%5D%2C%20%5B40.24082%2C%20-76.8912%5D%2C%20%5B39.986107%2C%20-111.364358%5D%2C%20%5B30.99529%2C%20-83.38909%5D%2C%20%5B29.114121%2C%20-81.351407%5D%2C%20%5B34.02754%2C%20-118.27471%5D%2C%20%5B41.72711%2C%20-87.62476%5D%2C%20%5B28.449998%2C%20-81.469791%5D%2C%20%5B35.509562%2C%20-97.575519%5D%2C%20%5B42.872732%2C%20-78.878639%5D%2C%20%5B30.418105%2C%20-91.108171%5D%2C%20%5B30.578632%2C%20-88.17477%5D%2C%20%5B34.070235%2C%20-117.962004%5D%2C%20%5B42.59395%2C%20-71.31707%5D%2C%20%5B41.537348%2C%20-90.516814%5D%2C%20%5B25.846986%2C%20-80.211189%5D%2C%20%5B34.946194%2C%20-119.682198%5D%2C%20%5B28.369728%2C%20-81.38053599999998%5D%2C%20%5B42.6931%2C%20-73.37212%5D%2C%20%5B33.78153%2C%20-84.39121%5D%2C%20%5B34.035940000000004%2C%20-118.27399%5D%2C%20%5B29.940029%2C%20-83.586226%5D%2C%20%5B28.551894%2C%20-81.492329%5D%2C%20%5B37.673668%2C%20-122.140166%5D%2C%20%5B33.72671%2C%20-117.834983%5D%2C%20%5B44.4217%2C%20-121.86063%5D%2C%20%5B47.60978%2C%20-122.18878%5D%2C%20%5B38.743811%2C%20-78.65085400000002%5D%2C%20%5B40.72175%2C%20-111.54472%5D%2C%20%5B37.531537%2C%20-77.34458599999998%5D%2C%20%5B30.401596%2C%20-86.865307%5D%2C%20%5B42.38254000000001%2C%20-83.75898000000002%5D%2C%20%5B38.596377%2C%20-121.443656%5D%2C%20%5B33.939156%2C%20-117.191794%5D%2C%20%5B36.27441%2C%20-86.79694%5D%2C%20%5B28.442729%2C%20-81.40302700000002%5D%2C%20%5B35.068797%2C%20-110.840592%5D%2C%20%5B33.49135%2C%20-112.11296000000002%5D%2C%20%5B30.434446%2C%20-86.610297%5D%2C%20%5B40.053581%2C%20-105.263297%5D%2C%20%5B25.901358%2C%20-80.324313%5D%2C%20%5B45.05607%2C%20-93.131489%5D%2C%20%5B36.83604%2C%20-76.067401%5D%2C%20%5B41.15062%2C%20-73.82768%5D%2C%20%5B35.060967%2C%20-80.956953%5D%2C%20%5B40.922859%2C%20-123.797131%5D%2C%20%5B37.098172%2C%20-120.184046%5D%2C%20%5B39.901092%2C%20-76.64177%5D%2C%20%5B25.930307%2C%20-80.29349599999998%5D%2C%20%5B33.251607%2C%20-79.862315%5D%2C%20%5B37.84773%2C%20-122.0278%5D%2C%20%5B25.69898%2C%20-80.382134%5D%2C%20%5B25.599136%2C%20-80.33381999999997%5D%2C%20%5B32.43971%2C%20-83.75581%5D%2C%20%5B28.149407%2C%20-82.697023%5D%2C%20%5B44.439804%2C%20-94.390693%5D%2C%20%5B25.951176%2C%20-80.18063599999998%5D%2C%20%5B33.990043%2C%20-117.889159%5D%2C%20%5B30.54251%2C%20-87.115088%5D%2C%20%5B29.944223%2C%20-90.091189%5D%2C%20%5B36.20309%2C%20-115.08017%5D%2C%20%5B25.591%2C%20-80.36906%5D%2C%20%5B39.67708%2C%20-75.69893%5D%2C%20%5B28.02722%2C%20-82.18061%5D%2C%20%5B34.092367%2C%20-118.240903%5D%2C%20%5B36.843363%2C%20-76.210325%5D%2C%20%5B41.756871%2C%20-72.662529%5D%2C%20%5B39.958105%2C%20-120.908486%5D%2C%20%5B43.13276%2C%20-73.830961%5D%2C%20%5B44.67428%2C%20-93.01376%5D%2C%20%5B32.235479999999995%2C%20-110.82387%5D%2C%20%5B34.0939%2C%20-118.24244%5D%2C%20%5B39.964736%2C%20-120.909205%5D%2C%20%5B40.690757%2C%20-73.99623199999998%5D%2C%20%5B27.84281%2C%20-82.66346999999998%5D%2C%20%5B45.714771%2C%20-111.103249%5D%2C%20%5B40.768934%2C%20-73.71179000000002%5D%2C%20%5B42.970572%2C%20-85.67817600000002%5D%2C%20%5B47.589693%2C%20-122.256915%5D%2C%20%5B44.886751%2C%20-93.29623%5D%2C%20%5B29.99542000000001%2C%20-90.1097%5D%2C%20%5B29.940461%2C%20-90.07798%5D%2C%20%5B32.797058%2C%20-96.810437%5D%2C%20%5B40.615242%2C%20-74.222012%5D%2C%20%5B32.850814%2C%20-117.073028%5D%2C%20%5B25.845385%2C%20-80.259562%5D%2C%20%5B41.7217%2C%20-87.62416%5D%2C%20%5B30.21420800000001%2C%20-81.737229%5D%2C%20%5B34.195021000000004%2C%20-117.37251100000002%5D%2C%20%5B44.713648%2C%20-122.72775%5D%2C%20%5B37.95246%2C%20-121.277123%5D%2C%20%5B43.99202%2C%20-93.25481%5D%2C%20%5B28.44984%2C%20-81.40085%5D%2C%20%5B40.456569%2C%20-80.02951800000002%5D%2C%20%5B37.775979%2C%20-122.404821%5D%2C%20%5B35.606108%2C%20-80.934404%5D%2C%20%5B34.187253000000005%2C%20-93.067406%5D%2C%20%5B32.386086%2C%20-93.825089%5D%2C%20%5B40.034813%2C%20-76.52766700000002%5D%2C%20%5B35.24171%2C%20-80.85869%5D%2C%20%5B38.057531%2C%20-121.243668%5D%2C%20%5B32.693361%2C%20-117.170704%5D%2C%20%5B41.227601%2C%20-73.16284%5D%2C%20%5B41.62567%2C%20-87.57908%5D%2C%20%5B25.6718%2C%20-80.388429%5D%2C%20%5B37.123671%2C%20-119.737237%5D%2C%20%5B33.586778%2C%20-117.611075%5D%2C%20%5B33.982369%2C%20-118.280407%5D%2C%20%5B29.177291%2C%20-81.770815%5D%2C%20%5B44.86178%2C%20-93.293162%5D%2C%20%5B28.450995%2C%20-81.360869%5D%2C%20%5B33.85442800000001%2C%20-117.975112%5D%2C%20%5B38.657808%2C%20-121.355154%5D%2C%20%5B43.607559%2C%20-116.274113%5D%2C%20%5B38.88251%2C%20-77.02645%5D%2C%20%5B43.03352%2C%20-123.32612%5D%2C%20%5B26.417969%2C%20-81.409155%5D%2C%20%5B40.276409%2C%20-75.260086%5D%2C%20%5B32.874422%2C%20-80.763462%5D%2C%20%5B33.8479%2C%20-117.81794%5D%2C%20%5B34.01439%2C%20-117.81946299999998%5D%2C%20%5B30.00812%2C%20-90.01428%5D%2C%20%5B37.75254%2C%20-122.40301%5D%2C%20%5B35.19591%2C%20-80.82725%5D%2C%20%5B35.23452%2C%20-119.328293%5D%2C%20%5B38.643136%2C%20-77.010201%5D%2C%20%5B26.346505%2C%20-80.117944%5D%2C%20%5B38.941866%2C%20-76.8568%5D%2C%20%5B40.0732%2C%20-75.315989%5D%2C%20%5B44.960376%2C%20-93.18839%5D%2C%20%5B34.090213%2C%20-81.02793%5D%2C%20%5B34.931255%2C%20-85.15373100000002%5D%2C%20%5B29.82857000000001%2C%20-95.38091%5D%2C%20%5B34.13561%2C%20-117.9727%5D%2C%20%5B35.163839%2C%20-80.910646%5D%2C%20%5B34.035265%2C%20-118.383653%5D%2C%20%5B35.50892%2C%20-80.8661%5D%2C%20%5B28.641926%2C%20-81.807342%5D%2C%20%5B28.43961%2C%20-82.48522%5D%2C%20%5B30.49262%2C%20-97.773094%5D%2C%20%5B40.602441%2C%20-74.062221%5D%2C%20%5B38.84261%2C%20-76.86494%5D%2C%20%5B38.651186%2C%20-121.478445%5D%2C%20%5B38.56123%2C%20-78.7457%5D%2C%20%5B37.642092%2C%20-120.641011%5D%2C%20%5B43.655436%2C%20-116.654366%5D%2C%20%5B40.78922100000001%2C%20-73.81923%5D%2C%20%5B40.871062%2C%20-77.183521%5D%2C%20%5B37.604927%2C%20-77.45586800000002%5D%2C%20%5B40.85306%2C%20-73.96011%5D%2C%20%5B36.123925%2C%20-119.324929%5D%2C%20%5B34.963349%2C%20-89.936736%5D%2C%20%5B42.892641%2C%20-85.506879%5D%2C%20%5B34.491349%2C%20-117.355542%5D%2C%20%5B34.630233000000004%2C%20-80.766708%5D%2C%20%5B38.925132%2C%20-77.009084%5D%2C%20%5B33.473256%2C%20-112.185966%5D%2C%20%5B33.980919%2C%20-117.340576%5D%2C%20%5B45.361109%2C%20-122.603765%5D%2C%20%5B33.98181%2C%20-118.07486000000002%5D%2C%20%5B44.972931%2C%20-93.254517%5D%2C%20%5B42.24367%2C%20-122.7717%5D%2C%20%5B40.904313%2C%20-74.11475899999998%5D%2C%20%5B38.774309%2C%20-121.25879%5D%2C%20%5B29.737484%2C%20-95.520106%5D%2C%20%5B33.961324%2C%20-118.282705%5D%2C%20%5B37.71305%2C%20-122.17053%5D%2C%20%5B32.832263%2C%20-117.140851%5D%2C%20%5B44.026922%2C%20-92.570246%5D%2C%20%5B40.705387%2C%20-124.156491%5D%2C%20%5B25.944226%2C%20-80.121195%5D%2C%20%5B45.295962%2C%20-122.656771%5D%2C%20%5B35.835556%2C%20-78.296797%5D%2C%20%5B40.669718%2C%20-122.869155%5D%2C%20%5B30.04537%2C%20-89.960592%5D%2C%20%5B40.69656%2C%20-112.021246%5D%2C%20%5B33.39191%2C%20-111.89155%5D%2C%20%5B44.576196%2C%20-123.061715%5D%2C%20%5B33.646440000000005%2C%20-83.835487%5D%2C%20%5B34.002344%2C%20-118.411708%5D%2C%20%5B33.752146%2C%20-118.290967%5D%2C%20%5B37.207912%2C%20-77.368324%5D%2C%20%5B38.347747%2C%20-77.483988%5D%2C%20%5B38.880207%2C%20-77.031145%5D%2C%20%5B39.71111%2C%20-104.82667%5D%2C%20%5B27.495987%2C%20-82.619351%5D%2C%20%5B36.999445%2C%20-122.004559%5D%2C%20%5B30.261521%2C%20-82.122881%5D%2C%20%5B33.863222%2C%20-117.539192%5D%2C%20%5B42.35787%2C%20-71.17791%5D%2C%20%5B25.583427%2C%20-80.45396099999998%5D%2C%20%5B47.28397800000001%2C%20-93.672099%5D%2C%20%5B39.924212%2C%20-105.110843%5D%2C%20%5B26.492757%2C%20-81.805756%5D%2C%20%5B34.147771%2C%20-117.321571%5D%2C%20%5B32.902671000000005%2C%20-96.721641%5D%2C%20%5B42.02361%2C%20-71.26073000000002%5D%2C%20%5B33.945879999999995%2C%20-118.27947%5D%2C%20%5B28.596711%2C%20-81.207657%5D%2C%20%5B37.905117%2C%20-122.603484%5D%2C%20%5B40.607839%2C%20-74.087172%5D%2C%20%5B36.136965%2C%20-86.664013%5D%2C%20%5B43.17934%2C%20-77.63172%5D%2C%20%5B27.388443%2C%20-82.458155%5D%2C%20%5B33.471339%2C%20-112.112399%5D%2C%20%5B40.633837%2C%20-74.236603%5D%2C%20%5B34.349986%2C%20-118.504275%5D%2C%20%5B36.220344%2C%20-86.754274%5D%2C%20%5B30.251525%2C%20-97.684986%5D%2C%20%5B37.38514%2C%20-77.4522%5D%2C%20%5B29.98159%2C%20-90.2536%5D%2C%20%5B25.73323%2C%20-80.334334%5D%2C%20%5B37.72362%2C%20-122.40134%5D%2C%20%5B40.734988%2C%20-112.198498%5D%2C%20%5B35.876866%2C%20-78.54176%5D%2C%20%5B29.704361%2C%20-95.55881%5D%2C%20%5B38.001175%2C%20-122.537456%5D%2C%20%5B30.671488%2C%20-87.054413%5D%2C%20%5B38.492305%2C%20-121.79981399999998%5D%2C%20%5B37.205343%2C%20-93.286779%5D%2C%20%5B44.11185%2C%20-121.29343%5D%2C%20%5B43.19838%2C%20-123.35962%5D%2C%20%5B34.572139%2C%20-118.69057%5D%2C%20%5B34.02848%2C%20-118.20899%5D%2C%20%5B25.945139%2C%20-80.174633%5D%2C%20%5B38.772917%2C%20-121.036935%5D%2C%20%5B27.946679%2C%20-82.35379300000002%5D%2C%20%5B33.929463%2C%20-118.254268%5D%2C%20%5B38.72576%2C%20-94.45773%5D%2C%20%5B25.763197%2C%20-80.300493%5D%2C%20%5B29.7299%2C%20-95.4273%5D%2C%20%5B41.82275%2C%20-87.60687%5D%2C%20%5B44.87614%2C%20-95.48303%5D%2C%20%5B33.870366%2C%20-84.477192%5D%2C%20%5B40.971531%2C%20-73.861102%5D%2C%20%5B33.831631%2C%20-118.255664%5D%2C%20%5B39.373341%2C%20-78.03891999999998%5D%2C%20%5B28.46601%2C%20-81.28973%5D%2C%20%5B34.924367%2C%20-81.987335%5D%2C%20%5B36.007117%2C%20-83.811083%5D%2C%20%5B43.218196%2C%20-75.463084%5D%2C%20%5B41.683663%2C%20-72.651675%5D%2C%20%5B39.268697%2C%20-76.745925%5D%2C%20%5B34.120512%2C%20-117.698389%5D%2C%20%5B34.114501000000004%2C%20-118.242299%5D%2C%20%5B37.67175%2C%20-122.109286%5D%2C%20%5B42.23568%2C%20-87.90128%5D%2C%20%5B37.92223%2C%20-122.06138%5D%2C%20%5B39.85056%2C%20-75.37680999999998%5D%2C%20%5B32.365504%2C%20-86.286088%5D%2C%20%5B35.310391%2C%20-119.002972%5D%2C%20%5B34.994421%2C%20-81.948921%5D%2C%20%5B35.31259%2C%20-80.75978%5D%2C%20%5B45.50365%2C%20-122.67455%5D%2C%20%5B28.048147%2C%20-82.73844799999998%5D%2C%20%5B25.840029%2C%20-80.310419%5D%2C%20%5B33.8919%2C%20-118.10477%5D%2C%20%5B35.80482999999999%2C%20-80.86153%5D%2C%20%5B44.058067%2C%20-72.74270200000002%5D%2C%20%5B37.428169%2C%20-122.10143%5D%2C%20%5B33.029011%2C%20-117.276424%5D%2C%20%5B34.031220000000005%2C%20-118.274582%5D%2C%20%5B29.892795%2C%20-95.417761%5D%2C%20%5B30.437554%2C%20-91.084995%5D%2C%20%5B25.928257%2C%20-80.20611600000002%5D%2C%20%5B39.74134%2C%20-104.62177%5D%2C%20%5B42.32785%2C%20-71.05878%5D%2C%20%5B34.13537%2C%20-117.4873%5D%2C%20%5B33.497732%2C%20-117.149502%5D%2C%20%5B26.074659%2C%20-80.167698%5D%2C%20%5B38.289527%2C%20-77.463824%5D%2C%20%5B41.535946%2C%20-75.738061%5D%2C%20%5B34.0844%2C%20-118.300452%5D%2C%20%5B38.799457%2C%20-77.550927%5D%2C%20%5B34.067013%2C%20-117.512357%5D%2C%20%5B42.34106%2C%20-87.96363000000002%5D%2C%20%5B43.64131%2C%20-84.24688%5D%2C%20%5B45.514872%2C%20-122.691519%5D%2C%20%5B37.769908%2C%20-77.461903%5D%2C%20%5B25.883938%2C%20-80.323817%5D%2C%20%5B42.599176%2C%20-83.16233000000003%5D%2C%20%5B34.218169%2C%20-118.473109%5D%2C%20%5B41.40503%2C%20-73.93166%5D%2C%20%5B38.558717%2C%20-121.476935%5D%2C%20%5B34.803865%2C%20-120.444497%5D%2C%20%5B41.88732%2C%20-88.15720999999998%5D%2C%20%5B41.87222%2C%20-87.787327%5D%2C%20%5B33.854037%2C%20-117.892903%5D%2C%20%5B34.982859999999995%2C%20-92.416593%5D%2C%20%5B28.509236%2C%20-81.401033%5D%2C%20%5B34.168961%2C%20-79.796461%5D%2C%20%5B38.823527%2C%20-121.908084%5D%2C%20%5B39.178486%2C%20-76.692771%5D%2C%20%5B42.789489%2C%20-83.752685%5D%2C%20%5B38.81677%2C%20-121.18914%5D%2C%20%5B25.92478%2C%20-80.154122%5D%2C%20%5B25.93785%2C%20-80.27734699999998%5D%2C%20%5B28.635897%2C%20-81.44800699999998%5D%2C%20%5B40.040369%2C%20-75.63355%5D%2C%20%5B46.11729%2C%20-100.679966%5D%2C%20%5B40.23186%2C%20-76.93269000000002%5D%2C%20%5B33.65682%2C%20-111.91912%5D%2C%20%5B44.73901%2C%20-93.03502%5D%2C%20%5B39.49449%2C%20-121.68864%5D%2C%20%5B35.304%2C%20-80.84886%5D%2C%20%5B31.328086%2C%20-85.529404%5D%2C%20%5B35.285201%2C%20-80.858325%5D%2C%20%5B45.13506%2C%20-93.29429%5D%2C%20%5B42.847521%2C%20-85.61794499999998%5D%2C%20%5B34.049826%2C%20-118.460417%5D%2C%20%5B40.932799%2C%20-124.100841%5D%2C%20%5B45.97539%2C%20-123.92772%5D%2C%20%5B29.855378%2C%20-95.333447%5D%2C%20%5B27.489606%2C%20-81.483273%5D%2C%20%5B44.966701%2C%20-93.25461%5D%2C%20%5B37.553564%2C%20-77.449149%5D%2C%20%5B42.081156%2C%20-122.59944099999998%5D%2C%20%5B35.779747%2C%20-78.643407%5D%2C%20%5B32.671706%2C%20-96.849454%5D%2C%20%5B33.136586%2C%20-117.171051%5D%2C%20%5B39.609559%2C%20-105.946742%5D%2C%20%5B40.170272%2C%20-110.324314%5D%2C%20%5B34.008451%2C%20-117.347097%5D%2C%20%5B37.839413%2C%20-122.296961%5D%2C%20%5B36.923495%2C%20-120.001257%5D%2C%20%5B30.408257%2C%20-97.69704%5D%2C%20%5B44.98346%2C%20-93.45975%5D%2C%20%5B45.16306%2C%20-122.530024%5D%2C%20%5B40.41179%2C%20-79.7277%5D%2C%20%5B25.963003%2C%20-80.157545%5D%2C%20%5B42.50548%2C%20-83.75791%5D%2C%20%5B42.183801%2C%20-88.190922%5D%2C%20%5B41.78346%2C%20-87.6306%5D%2C%20%5B33.875088%2C%20-117.661827%5D%2C%20%5B38.242732%2C%20-77.501775%5D%2C%20%5B28.453071%2C%20-81.332904%5D%2C%20%5B42.27807%2C%20-83.154%5D%2C%20%5B36.750367%2C%20-119.700245%5D%2C%20%5B43.053619%2C%20-76.601385%5D%2C%20%5B32.67082%2C%20-97.20888%5D%2C%20%5B44.739027%2C%20-122.153648%5D%2C%20%5B33.70207%2C%20-117.94982%5D%2C%20%5B47.19846%2C%20-122.28106%5D%2C%20%5B41.61852%2C%20-87.68712099999998%5D%2C%20%5B40.80687%2C%20-73.23235%5D%2C%20%5B41.121178%2C%20-73.32037%5D%2C%20%5B43.32525%2C%20-123.34348%5D%2C%20%5B34.430369%2C%20-117.37764%5D%2C%20%5B38.80276%2C%20-77.0987%5D%2C%20%5B45.010567%2C%20-93.14107%5D%2C%20%5B37.890397%2C%20-122.516537%5D%2C%20%5B38.829621%2C%20-104.787603%5D%2C%20%5B33.56837%2C%20-117.18077%5D%2C%20%5B32.351137%2C%20-86.174257%5D%2C%20%5B35.064424%2C%20-80.763209%5D%2C%20%5B42.90422%2C%20-85.78564%5D%2C%20%5B34.103289000000004%2C%20-117.535976%5D%2C%20%5B34.085365%2C%20-79.765208%5D%2C%20%5B28.235189%2C%20-81.32448199999997%5D%2C%20%5B38.161889%2C%20-121.672818%5D%2C%20%5B41.5914%2C%20-93.677595%5D%2C%20%5B34.321042%2C%20-118.496121%5D%2C%20%5B42.2212%2C%20-83.44587%5D%2C%20%5B34.324647%2C%20-118.502322%5D%2C%20%5B35.115882%2C%20-80.924222%5D%2C%20%5B29.776751%2C%20-95.384953%5D%2C%20%5B35.31474%2C%20-78.3613%5D%2C%20%5B44.86274%2C%20-93.12064%5D%2C%20%5B40.30095%2C%20-111.726%5D%2C%20%5B32.75297800000001%2C%20-97.31961%5D%2C%20%5B29.834599%2C%20-95.494351%5D%2C%20%5B40.356706%2C%20-122.875179%5D%2C%20%5B33.686977%2C%20-80.055438%5D%2C%20%5B45.74910300000001%2C%20-107.61221%5D%2C%20%5B43.091479%2C%20-83.763188%5D%2C%20%5B32.222216%2C%20-110.988696%5D%2C%20%5B33.856277%2C%20-117.98737%5D%2C%20%5B41.98399000000001%2C%20-87.82336%5D%2C%20%5B32.529763%2C%20-93.670321%5D%2C%20%5B45.66904%2C%20-93.90492%5D%2C%20%5B38.951519%2C%20-94.53092%5D%2C%20%5B34.035131%2C%20-118.333579%5D%2C%20%5B38.847194%2C%20-77.43261600000002%5D%2C%20%5B38.652347%2C%20-76.978819%5D%2C%20%5B44.97091%2C%20-93.470734%5D%2C%20%5B44.368854%2C%20-92.613598%5D%2C%20%5B38.23983%2C%20-104.61182%5D%2C%20%5B38.85617%2C%20-76.98699%5D%2C%20%5B39.98769%2C%20-82.9502%5D%2C%20%5B39.108089%2C%20-76.63134699999998%5D%2C%20%5B36.147218%2C%20-86.743635%5D%2C%20%5B28.157686%2C%20-81.810443%5D%2C%20%5B35.47826%2C%20-82.55468%5D%2C%20%5B45.870824%2C%20-95.377821%5D%2C%20%5B34.050404%2C%20-117.929519%5D%2C%20%5B41.608196%2C%20-72.900971%5D%2C%20%5B42.45644%2C%20-121.8695%5D%2C%20%5B25.559262%2C%20-80.389606%5D%2C%20%5B34.281517%2C%20-118.717135%5D%2C%20%5B41.204425%2C%20-85.17100400000002%5D%2C%20%5B41.78805%2C%20-107.20331000000002%5D%2C%20%5B39.71795%2C%20-75.61184%5D%2C%20%5B40.69359%2C%20-111.90287%5D%2C%20%5B25.884512%2C%20-80.24322%5D%2C%20%5B30.429804%2C%20-87.267527%5D%2C%20%5B37.56909%2C%20-77.478665%5D%2C%20%5B25.926966%2C%20-80.188204%5D%2C%20%5B34.066755%2C%20-117.332205%5D%2C%20%5B38.78101%2C%20-77.062329%5D%2C%20%5B28.461128%2C%20-81.302875%5D%2C%20%5B34.807316%2C%20-82.21844499999997%5D%2C%20%5B25.946874%2C%20-80.205431%5D%2C%20%5B38.34056%2C%20-77.49154899999998%5D%2C%20%5B28.547747%2C%20-81.093688%5D%2C%20%5B35.820372%2C%20-78.329205%5D%2C%20%5B38.922578%2C%20-121.087534%5D%2C%20%5B44.06061%2C%20-95.7534%5D%2C%20%5B37.968729%2C%20-120.334871%5D%2C%20%5B48.1847%2C%20-122.19985%5D%2C%20%5B34.165114%2C%20-117.348571%5D%2C%20%5B44.859358%2C%20-93.394275%5D%2C%20%5B25.60057%2C%20-80.381153%5D%2C%20%5B25.832327%2C%20-80.205812%5D%2C%20%5B33.450083%2C%20-86.955159%5D%2C%20%5B35.8016%2C%20-78.515135%5D%2C%20%5B39.033439%2C%20-94.68685%5D%2C%20%5B34.268678%2C%20-118.485733%5D%2C%20%5B27.46255%2C%20-82.60410999999998%5D%2C%20%5B40.100437%2C%20-75.381589%5D%2C%20%5B35.51517%2C%20-78.29824%5D%2C%20%5B37.81117800000001%2C%20-122.364005%5D%2C%20%5B33.882447%2C%20-117.357448%5D%2C%20%5B32.765382%2C%20-96.926954%5D%2C%20%5B35.437962%2C%20-80.86839300000003%5D%2C%20%5B42.331385%2C%20-122.870272%5D%2C%20%5B33.14178%2C%20-117.187571%5D%2C%20%5B32.177375%2C%20-111.003205%5D%2C%20%5B44.40024%2C%20-122.002457%5D%2C%20%5B42.80522%2C%20-117.72844%5D%2C%20%5B35.571766%2C%20-120.47281%5D%2C%20%5B44.82308%2C%20-93.29132%5D%2C%20%5B32.648037%2C%20-117.063856%5D%2C%20%5B28.895481%2C%20-81.770032%5D%2C%20%5B40.115084%2C%20-75.333352%5D%2C%20%5B33.873511%2C%20-118.198182%5D%2C%20%5B36.743256%2C%20-119.77837%5D%2C%20%5B40.073286%2C%20-75.156801%5D%2C%20%5B29.142869%2C%20-82.112064%5D%2C%20%5B38.761097%2C%20-120.570391%5D%2C%20%5B28.68764%2C%20-81.38868000000002%5D%2C%20%5B41.531511%2C%20-93.518925%5D%2C%20%5B43.22305%2C%20-77.86301%5D%2C%20%5B26.55654%2C%20-81.87184%5D%2C%20%5B34.125345%2C%20-79.778001%5D%2C%20%5B33.876909999999995%2C%20-118.15446%5D%2C%20%5B25.747787%2C%20-80.333205%5D%2C%20%5B43.93501%2C%20-92.00216%5D%2C%20%5B45.37237%2C%20-122.59076%5D%2C%20%5B38.018505%2C%20-121.888706%5D%2C%20%5B44.297662%2C%20-121.166927%5D%2C%20%5B33.873602000000005%2C%20-118.214423%5D%2C%20%5B41.769572%2C%20-72.66395899999998%5D%2C%20%5B38.935539%2C%20-122.753921%5D%2C%20%5B41.77888%2C%20-71.42545%5D%2C%20%5B30.261625%2C%20-97.738192%5D%2C%20%5B38.791429%2C%20-90.559666%5D%2C%20%5B32.856444%2C%20-79.98982600000002%5D%2C%20%5B29.9607%2C%20-90.108288%5D%2C%20%5B25.830001%2C%20-80.240994%5D%2C%20%5B40.66548%2C%20-74.20498%5D%2C%20%5B28.69788%2C%20-81.371737%5D%2C%20%5B45.681906%2C%20-121.290876%5D%2C%20%5B37.740676%2C%20-121.504185%5D%2C%20%5B34.710526%2C%20-82.613727%5D%2C%20%5B38.58496%2C%20-90.44863%5D%2C%20%5B44.963115%2C%20-92.958504%5D%2C%20%5B47.611093%2C%20-114.625929%5D%2C%20%5B42.151501%2C%20-87.984962%5D%2C%20%5B26.546454%2C%20-81.849115%5D%2C%20%5B28.080545%2C%20-81.966334%5D%2C%20%5B34.78379%2C%20-92.39128%5D%2C%20%5B26.332168%2C%20-81.806139%5D%2C%20%5B35.77171699999999%2C%20-80.862967%5D%2C%20%5B33.831375%2C%20-118.0839%5D%2C%20%5B33.49495%2C%20-112.11706%5D%2C%20%5B33.830898%2C%20-84.092025%5D%2C%20%5B38.14208%2C%20-85.57751%5D%2C%20%5B40.72306%2C%20-111.52935%5D%2C%20%5B42.927612%2C%20-85.66967%5D%2C%20%5B28.333022%2C%20-81.48541800000002%5D%2C%20%5B37.717973%2C%20-121.70142%5D%2C%20%5B38.872343%2C%20-76.990138%5D%2C%20%5B46.03767%2C%20-122.85763%5D%2C%20%5B40.98816400000001%2C%20-91.775092%5D%2C%20%5B41.37531%2C%20-83.61631700000002%5D%2C%20%5B29.60942%2C%20-95.38658%5D%2C%20%5B35.52231%2C%20-97.46594%5D%2C%20%5B42.307568%2C%20-83.104173%5D%2C%20%5B41.77285%2C%20-88.01815%5D%2C%20%5B37.661116%2C%20-122.465163%5D%2C%20%5B42.45282%2C%20-82.91986999999997%5D%2C%20%5B35.256887%2C%20-111.92491499999998%5D%2C%20%5B34.179682%2C%20-118.395451%5D%2C%20%5B33.34356%2C%20-111.89334%5D%2C%20%5B38.871833%2C%20-77.293027%5D%2C%20%5B45.790876%2C%20-119.368482%5D%2C%20%5B34.903551%2C%20-82.177868%5D%2C%20%5B33.88362%2C%20-117.627086%5D%2C%20%5B33.810759999999995%2C%20-118.0813%5D%2C%20%5B37.79318%2C%20-122.26365%5D%2C%20%5B34.177281%2C%20-81.32261%5D%2C%20%5B33.746628%2C%20-118.006946%5D%2C%20%5B34.736677%2C%20-82.43043%5D%2C%20%5B33.68574%2C%20-117.86347%5D%2C%20%5B37.49779%2C%20-77.5233%5D%2C%20%5B45.016341%2C%20-122.99043%5D%2C%20%5B38.727916%2C%20-121.358786%5D%2C%20%5B36.325081%2C%20-86.873735%5D%2C%20%5B37.148605%2C%20-76.534184%5D%2C%20%5B42.41235%2C%20-83.21871999999998%5D%2C%20%5B38.189909%2C%20-77.775194%5D%2C%20%5B32.90968%2C%20-96.863699%5D%2C%20%5B34.071318%2C%20-79.947035%5D%2C%20%5B38.560722%2C%20-121.480876%5D%2C%20%5B32.89561%2C%20-96.47574%5D%2C%20%5B38.11447%2C%20-102.778383%5D%2C%20%5B39.428954%2C%20-77.41980699999998%5D%2C%20%5B32.070396%2C%20-81.206577%5D%2C%20%5B33.209975%2C%20-117.386692%5D%2C%20%5B26.102407%2C%20-80.25015%5D%2C%20%5B26.559156%2C%20-81.871898%5D%2C%20%5B35.961138%2C%20-86.80934%5D%2C%20%5B42.901184%2C%20-87.91144%5D%2C%20%5B37.690753%2C%20-122.092368%5D%2C%20%5B27.205799%2C%20-80.331941%5D%2C%20%5B39.39247%2C%20-76.70732%5D%2C%20%5B39.21436%2C%20-121.543523%5D%2C%20%5B37.937085%2C%20-120.633233%5D%2C%20%5B27.461521%2C%20-82.58755500000002%5D%2C%20%5B33.695392%2C%20-84.404615%5D%2C%20%5B27.26563%2C%20-80.35412099999998%5D%2C%20%5B40.574584%2C%20-111.89998500000002%5D%2C%20%5B45.527039%2C%20-122.686943%5D%2C%20%5B34.394065000000005%2C%20-112.081208%5D%2C%20%5B36.96673%2C%20-76.294566%5D%2C%20%5B33.918069%2C%20-118.209508%5D%2C%20%5B25.867955%2C%20-80.24910899999998%5D%2C%20%5B38.7709%2C%20-90.2535%5D%2C%20%5B38.42474%2C%20-96.18514%5D%2C%20%5B38.864898%2C%20-77.15008900000002%5D%2C%20%5B45.8384%2C%20-119.69494%5D%2C%20%5B39.77815%2C%20-104.89465%5D%2C%20%5B36.574939%2C%20-119.395054%5D%2C%20%5B44.563604%2C%20-106.814457%5D%2C%20%5B35.20838900000001%2C%20-80.757625%5D%2C%20%5B41.5017%2C%20-93.56897%5D%2C%20%5B32.341744%2C%20-95.27276%5D%2C%20%5B35.27603%2C%20-80.89593%5D%2C%20%5B30.43924%2C%20-97.671466%5D%2C%20%5B33.77426%2C%20-118.07514%5D%2C%20%5B43.978941%2C%20-95.737872%5D%2C%20%5B30.25249%2C%20-92.2655%5D%2C%20%5B36.836753%2C%20-119.934723%5D%2C%20%5B37.32196%2C%20-121.89868%5D%2C%20%5B32.779544%2C%20-96.800698%5D%2C%20%5B40.83384%2C%20-73.29425%5D%2C%20%5B37.80644%2C%20-121.99085%5D%2C%20%5B25.642258%2C%20-80.334766%5D%2C%20%5B41.638622%2C%20-124.115317%5D%2C%20%5B43.651486%2C%20-94.014787%5D%2C%20%5B30.02182800000001%2C%20-81.720001%5D%2C%20%5B38.31734%2C%20-85.5761%5D%2C%20%5B36.977936%2C%20-121.910097%5D%2C%20%5B34.864287%2C%20-118.171906%5D%2C%20%5B38.630631%2C%20-121.217583%5D%2C%20%5B38.159468%2C%20-77.507175%5D%2C%20%5B36.77619%2C%20-76.44629300000003%5D%2C%20%5B38.069235%2C%20-122.226873%5D%2C%20%5B38.55417%2C%20-121.689551%5D%2C%20%5B40.51904%2C%20-74.30099%5D%2C%20%5B25.760292%2C%20-80.400823%5D%2C%20%5B34.152225%2C%20-118.125165%5D%2C%20%5B37.84538%2C%20-122.22736%5D%2C%20%5B43.111628%2C%20-77.77628299999998%5D%2C%20%5B32.677757%2C%20-97.120305%5D%2C%20%5B35.91055%2C%20-78.97967%5D%2C%20%5B37.204995%2C%20-93.182079%5D%2C%20%5B35.091828%2C%20-120.462576%5D%2C%20%5B36.776585%2C%20-121.671677%5D%2C%20%5B38.272683%2C%20-122.4385%5D%2C%20%5B29.869948%2C%20-95.407429%5D%2C%20%5B30.358756%2C%20-81.668716%5D%2C%20%5B26.616822%2C%20-81.714777%5D%2C%20%5B25.757732%2C%20-80.406982%5D%2C%20%5B37.883894%2C%20-122.501921%5D%2C%20%5B34.064251%2C%20-118.009704%5D%2C%20%5B40.184452%2C%20-75.095169%5D%2C%20%5B38.789795%2C%20-90.482449%5D%2C%20%5B35.30778%2C%20-80.84533%5D%2C%20%5B33.793986%2C%20-79.018648%5D%2C%20%5B42.17577%2C%20-86.30393000000002%5D%2C%20%5B33.878598%2C%20-118.192519%5D%2C%20%5B33.346382%2C%20-117.242427%5D%2C%20%5B25.899684%2C%20-80.20966800000002%5D%2C%20%5B41.637443%2C%20-74.07831%5D%2C%20%5B39.770119%2C%20-84.39495600000002%5D%2C%20%5B33.265646000000004%2C%20-87.602952%5D%2C%20%5B33.579636%2C%20-84.354518%5D%2C%20%5B39.435414%2C%20-119.762746%5D%2C%20%5B39.32599%2C%20-120.600579%5D%2C%20%5B34.134424%2C%20-117.956997%5D%2C%20%5B41.596418%2C%20-90.510972%5D%2C%20%5B35.183682%2C%20-80.75155600000002%5D%2C%20%5B47.380332%2C%20-122.652728%5D%2C%20%5B45.258261%2C%20-121.188938%5D%2C%20%5B39.846982%2C%20-77.231341%5D%2C%20%5B34.136414%2C%20-117.542929%5D%2C%20%5B28.332866%2C%20-81.479516%5D%2C%20%5B33.332939%2C%20-87.606887%5D%2C%20%5B41.86968%2C%20-87.88883%5D%2C%20%5B30.297956%2C%20-97.717714%5D%2C%20%5B42.301117%2C%20-83.746648%5D%2C%20%5B34.830921000000004%2C%20-82.445865%5D%2C%20%5B40.72563%2C%20-73.48265%5D%2C%20%5B26.484923%2C%20-80.08400400000002%5D%2C%20%5B38.878947%2C%20-77.03924%5D%2C%20%5B38.671817%2C%20-120.12087%5D%2C%20%5B34.256717%2C%20-83.45995%5D%2C%20%5B37.199029%2C%20-75.967155%5D%2C%20%5B44.91963%2C%20-93.279225%5D%2C%20%5B39.487315%2C%20-76.862825%5D%2C%20%5B39.524374%2C%20-119.812251%5D%2C%20%5B41.23845%2C%20-76.9988%5D%2C%20%5B35.14528%2C%20-80.84982%5D%2C%20%5B38.291112%2C%20-121.312162%5D%2C%20%5B39.189273%2C%20-76.775347%5D%2C%20%5B45.939169%2C%20-117.272074%5D%2C%20%5B41.40717%2C%20-75.50524%5D%2C%20%5B32.869892%2C%20-96.897392%5D%2C%20%5B39.031%2C%20-94.68883%5D%2C%20%5B32.461326%2C%20-93.707482%5D%2C%20%5B39.112263%2C%20-122.820177%5D%2C%20%5B33.135287%2C%20-117.13258%5D%2C%20%5B26.153694%2C%20-81.607614%5D%2C%20%5B38.09725%2C%20-122.733487%5D%2C%20%5B33.294875%2C%20-117.459636%5D%2C%20%5B34.338626%2C%20-118.507304%5D%2C%20%5B26.0626%2C%20-80.16445999999998%5D%2C%20%5B33.198445%2C%20-117.369322%5D%2C%20%5B39.121874%2C%20-119.830555%5D%2C%20%5B47.300251%2C%20-122.180081%5D%2C%20%5B42.01932%2C%20-87.94697%5D%2C%20%5B33.789584999999995%2C%20-118.207759%5D%2C%20%5B26.72375%2C%20-80.09163000000002%5D%2C%20%5B33.803127%2C%20-117.973459%5D%2C%20%5B32.420214%2C%20-80.752768%5D%2C%20%5B33.597694%2C%20-84.288674%5D%2C%20%5B33.76665%2C%20-117.86622%5D%2C%20%5B33.802882000000004%2C%20-118.131769%5D%2C%20%5B45.587407%2C%20-122.773783%5D%2C%20%5B33.987590000000004%2C%20-118.13742%5D%2C%20%5B25.974372%2C%20-80.23074%5D%2C%20%5B39.960921%2C%20-89.55323800000002%5D%2C%20%5B47.35367%2C%20-122.24464%5D%2C%20%5B33.836511%2C%20-117.523711%5D%2C%20%5B25.83548%2C%20-80.20618%5D%2C%20%5B35.66088%2C%20-81.960142%5D%2C%20%5B37.155127%2C%20-121.984954%5D%2C%20%5B38.559511%2C%20-121.467128%5D%2C%20%5B40.80713%2C%20-74.3731%5D%2C%20%5B42.892481%2C%20-78.891867%5D%2C%20%5B40.764846%2C%20-73.719625%5D%2C%20%5B44.72477%2C%20-94.364%5D%2C%20%5B28.237685%2C%20-82.359835%5D%2C%20%5B38.430703%2C%20-82.162859%5D%2C%20%5B34.134512%2C%20-117.655822%5D%2C%20%5B40.9322%2C%20-73.85866%5D%2C%20%5B36.684722%2C%20-121.648056%5D%2C%20%5B37.9625%2C%20-122.28643%5D%2C%20%5B33.544921%2C%20-84.27324499999997%5D%2C%20%5B39.782764%2C%20-86.161204%5D%2C%20%5B34.019315%2C%20-117.339556%5D%2C%20%5B40.726669%2C%20-74.096693%5D%2C%20%5B37.392742%2C%20-121.90698%5D%2C%20%5B34.120684000000004%2C%20-117.907548%5D%2C%20%5B34.028981%2C%20-118.396385%5D%2C%20%5B33.8541%2C%20-117.7949%5D%2C%20%5B27.950637%2C%20-82.517433%5D%2C%20%5B25.8424%2C%20-80.227402%5D%2C%20%5B29.73185800000001%2C%20-95.266369%5D%2C%20%5B35.816807%2C%20-78.73879699999998%5D%2C%20%5B29.750359000000003%2C%20-95.377756%5D%2C%20%5B32.767249%2C%20-96.768632%5D%2C%20%5B40.987002%2C%20-75.183695%5D%2C%20%5B41.60001%2C%20-81.44001%5D%2C%20%5B45.49754%2C%20-122.56556%5D%2C%20%5B32.696728%2C%20-96.896092%5D%2C%20%5B26.193188%2C%20-80.151614%5D%2C%20%5B30.259531%2C%20-97.601067%5D%2C%20%5B38.05963300000001%2C%20-77.505036%5D%2C%20%5B44.082716%2C%20-117.015756%5D%2C%20%5B34.274392%2C%20-118.376287%5D%2C%20%5B37.98385800000001%2C%20-120.444056%5D%2C%20%5B45.09989%2C%20-122.65054%5D%2C%20%5B35.356367%2C%20-82.456852%5D%2C%20%5B34.030291%2C%20-117.658928%5D%2C%20%5B27.91801%2C%20-82.8445%5D%2C%20%5B34.072166%2C%20-118.100845%5D%2C%20%5B29.496842%2C%20-98.548146%5D%2C%20%5B34.55797800000001%2C%20-118.132558%5D%2C%20%5B34.23627800000001%2C%20-119.256485%5D%2C%20%5B37.35496%2C%20-121.86683%5D%2C%20%5B38.18962%2C%20-85.77111%5D%2C%20%5B33.293859999999995%2C%20-111.745996%5D%2C%20%5B32.235921999999995%2C%20-110.977941%5D%2C%20%5B40.648101%2C%20-111.902252%5D%2C%20%5B27.050927%2C%20-82.397503%5D%2C%20%5B25.699282%2C%20-80.382114%5D%2C%20%5B35.816634%2C%20-78.600475%5D%2C%20%5B33.897859999999994%2C%20-84.2672%5D%2C%20%5B33.856354%2C%20-117.973777%5D%2C%20%5B41.731629%2C%20-72.75402199999998%5D%2C%20%5B47.64335%2C%20-122.34723%5D%2C%20%5B34.087197%2C%20-117.663733%5D%2C%20%5B33.83143%2C%20-117.8346%5D%2C%20%5B32.86991%2C%20-96.67102%5D%2C%20%5B34.088608%2C%20-118.475191%5D%2C%20%5B38.399888%2C%20-78.908947%5D%2C%20%5B35.204932%2C%20-80.824302%5D%2C%20%5B33.62927%2C%20-78.96259%5D%2C%20%5B34.267913%2C%20-119.231224%5D%2C%20%5B41.602188%2C%20-87.179077%5D%5D%2C%0A%20%20%20%20%20%20%20%20%20%20%20%20%20%20%20%20%7B%22blur%22%3A%2015%2C%20%22maxZoom%22%3A%2018%2C%20%22minOpacity%22%3A%200.5%2C%20%22radius%22%3A%2025%7D%0A%20%20%20%20%20%20%20%20%20%20%20%20%29.addTo%28map_5f14baffdd9649f5b6486c6426f84ebb%29%3B%0A%20%20%20%20%20%20%20%20%0A%3C/script%3E onload=\"this.contentDocument.open();this.contentDocument.write(    decodeURIComponent(this.getAttribute('data-html')));this.contentDocument.close();\" allowfullscreen webkitallowfullscreen mozallowfullscreen></iframe></div></div>"
      ],
      "text/plain": [
       "<folium.folium.Map at 0x2208d7f8ee0>"
      ]
     },
     "execution_count": 58,
     "metadata": {},
     "output_type": "execute_result"
    }
   ],
   "source": [
    "map = folium.Map()\n",
    "HeatMap(heat_data).add_to(map)\n",
    "map"
   ]
  },
  {
   "cell_type": "code",
   "execution_count": null,
   "id": "26a874dd",
   "metadata": {},
   "outputs": [],
   "source": []
  },
  {
   "cell_type": "code",
   "execution_count": null,
   "id": "7307c124",
   "metadata": {},
   "outputs": [],
   "source": []
  },
  {
   "cell_type": "code",
   "execution_count": null,
   "id": "67c96dad",
   "metadata": {},
   "outputs": [],
   "source": []
  },
  {
   "cell_type": "code",
   "execution_count": null,
   "id": "8301d101",
   "metadata": {},
   "outputs": [],
   "source": []
  },
  {
   "cell_type": "code",
   "execution_count": null,
   "id": "59b777d2",
   "metadata": {},
   "outputs": [],
   "source": []
  },
  {
   "cell_type": "code",
   "execution_count": null,
   "id": "0b6048ef",
   "metadata": {},
   "outputs": [],
   "source": []
  },
  {
   "cell_type": "code",
   "execution_count": null,
   "id": "46fd8ff3",
   "metadata": {},
   "outputs": [],
   "source": []
  },
  {
   "cell_type": "code",
   "execution_count": null,
   "id": "199d797e",
   "metadata": {},
   "outputs": [],
   "source": []
  },
  {
   "cell_type": "code",
   "execution_count": null,
   "id": "9867604d",
   "metadata": {},
   "outputs": [],
   "source": []
  },
  {
   "cell_type": "code",
   "execution_count": null,
   "id": "4b56a15d",
   "metadata": {},
   "outputs": [],
   "source": []
  },
  {
   "cell_type": "code",
   "execution_count": null,
   "id": "d36965eb",
   "metadata": {},
   "outputs": [],
   "source": []
  },
  {
   "cell_type": "code",
   "execution_count": null,
   "id": "fd50d225",
   "metadata": {},
   "outputs": [],
   "source": []
  },
  {
   "cell_type": "code",
   "execution_count": null,
   "id": "9f9fe0a5",
   "metadata": {},
   "outputs": [],
   "source": []
  },
  {
   "cell_type": "code",
   "execution_count": null,
   "id": "f2aed49f",
   "metadata": {},
   "outputs": [],
   "source": []
  },
  {
   "cell_type": "code",
   "execution_count": null,
   "id": "1e480db2",
   "metadata": {},
   "outputs": [],
   "source": []
  },
  {
   "cell_type": "code",
   "execution_count": null,
   "id": "d1b0f84d",
   "metadata": {},
   "outputs": [],
   "source": []
  },
  {
   "cell_type": "code",
   "execution_count": null,
   "id": "73eff415",
   "metadata": {},
   "outputs": [],
   "source": []
  },
  {
   "cell_type": "code",
   "execution_count": null,
   "id": "ce623b93",
   "metadata": {},
   "outputs": [],
   "source": []
  },
  {
   "cell_type": "code",
   "execution_count": 18,
   "id": "cba0f682",
   "metadata": {},
   "outputs": [],
   "source": [
    "# no data from NY state\n",
    "# less than 5% of cities have more than 1000 yearly accidents\n",
    "# about 1110 cities reported only one accident (in need of investigating how accurate the data are )\n",
    "# most crowded time from 3am to 8pm \n",
    "# throughout the week except suterday and sunday, accidents are very high \"almost 200% increase\" compared to suterday and sunday"
   ]
  }
 ],
 "metadata": {
  "kernelspec": {
   "display_name": "Python 3 (ipykernel)",
   "language": "python",
   "name": "python3"
  },
  "language_info": {
   "codemirror_mode": {
    "name": "ipython",
    "version": 3
   },
   "file_extension": ".py",
   "mimetype": "text/x-python",
   "name": "python",
   "nbconvert_exporter": "python",
   "pygments_lexer": "ipython3",
   "version": "3.10.0"
  }
 },
 "nbformat": 4,
 "nbformat_minor": 5
}
